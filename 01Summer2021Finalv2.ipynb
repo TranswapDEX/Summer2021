{
  "nbformat": 4,
  "nbformat_minor": 0,
  "metadata": {
    "accelerator": "GPU",
    "colab": {
      "name": "01Summer2021Finalv2.ipynb",
      "provenance": [],
      "collapsed_sections": [],
      "include_colab_link": true
    },
    "kernelspec": {
      "display_name": "Python 3",
      "name": "python3"
    },
    "language_info": {
      "name": "python"
    }
  },
  "cells": [
    {
      "cell_type": "markdown",
      "metadata": {
        "id": "view-in-github",
        "colab_type": "text"
      },
      "source": [
        "<a href=\"https://colab.research.google.com/github/bamyers2/tantiger/blob/main/01Summer2021Finalv2.ipynb\" target=\"_parent\"><img src=\"https://colab.research.google.com/assets/colab-badge.svg\" alt=\"Open In Colab\"/></a>"
      ]
    },
    {
      "cell_type": "code",
      "metadata": {
        "colab": {
          "base_uri": "https://localhost:8080/"
        },
        "id": "ZVmoG7Ad62bI",
        "outputId": "aa2d1a7a-4a02-432b-e3db-70826536d235"
      },
      "source": [
        "%tensorflow_version 1.x"
      ],
      "execution_count": 1,
      "outputs": [
        {
          "output_type": "stream",
          "text": [
            "TensorFlow 1.x selected.\n"
          ],
          "name": "stdout"
        }
      ]
    },
    {
      "cell_type": "code",
      "metadata": {
        "colab": {
          "base_uri": "https://localhost:8080/"
        },
        "id": "cTBFqXMgzPaz",
        "outputId": "466840d8-9559-4ca3-aad5-5a096d61dc0a"
      },
      "source": [
        "from google.colab import drive\n",
        "import pandas as pd\n",
        "import numpy as np\n",
        "import tensorflow as tf\n",
        "from sklearn.metrics import classification_report\n",
        "from keras.models import Sequential\n",
        "from keras.layers.core import Flatten, Dense, Dropout\n",
        "from keras.layers.convolutional import Convolution2D, MaxPooling2D, ZeroPadding2D\n",
        "from keras.layers import LeakyReLU\n",
        "from keras.optimizers import Adam\n",
        "import cv2\n",
        "import keras\n",
        "from keras.utils import np_utils\n",
        "from keras.utils.np_utils import to_categorical\n",
        "from sklearn.metrics import confusion_matrix\n",
        "import seaborn as sns\n",
        "from sklearn.model_selection import train_test_split\n",
        "import matplotlib.pyplot as plt\n",
        "import random\n",
        "import csv"
      ],
      "execution_count": 2,
      "outputs": [
        {
          "output_type": "stream",
          "text": [
            "Using TensorFlow backend.\n"
          ],
          "name": "stderr"
        }
      ]
    },
    {
      "cell_type": "code",
      "metadata": {
        "colab": {
          "base_uri": "https://localhost:8080/"
        },
        "id": "JbQQJa1nzaXA",
        "outputId": "9ffe7955-a4f2-4d7d-f374-d416d68d01aa"
      },
      "source": [
        "drive.mount('/content/gdrive')"
      ],
      "execution_count": 3,
      "outputs": [
        {
          "output_type": "stream",
          "text": [
            "Drive already mounted at /content/gdrive; to attempt to forcibly remount, call drive.mount(\"/content/gdrive\", force_remount=True).\n"
          ],
          "name": "stdout"
        }
      ]
    },
    {
      "cell_type": "code",
      "metadata": {
        "id": "EATcMjY41f5B"
      },
      "source": [
        "age_data = pd.read_csv('gdrive/My Drive/age_gender.csv')"
      ],
      "execution_count": 4,
      "outputs": []
    },
    {
      "cell_type": "code",
      "metadata": {
        "colab": {
          "base_uri": "https://localhost:8080/",
          "height": 143
        },
        "id": "lVEEAz3_1txB",
        "outputId": "a1e54b8f-8b65-4955-afed-1851ac54df1c"
      },
      "source": [
        "age_data.head(3)"
      ],
      "execution_count": 5,
      "outputs": [
        {
          "output_type": "execute_result",
          "data": {
            "text/html": [
              "<div>\n",
              "<style scoped>\n",
              "    .dataframe tbody tr th:only-of-type {\n",
              "        vertical-align: middle;\n",
              "    }\n",
              "\n",
              "    .dataframe tbody tr th {\n",
              "        vertical-align: top;\n",
              "    }\n",
              "\n",
              "    .dataframe thead th {\n",
              "        text-align: right;\n",
              "    }\n",
              "</style>\n",
              "<table border=\"1\" class=\"dataframe\">\n",
              "  <thead>\n",
              "    <tr style=\"text-align: right;\">\n",
              "      <th></th>\n",
              "      <th>age</th>\n",
              "      <th>ethnicity</th>\n",
              "      <th>gender</th>\n",
              "      <th>img_name</th>\n",
              "      <th>pixels</th>\n",
              "    </tr>\n",
              "  </thead>\n",
              "  <tbody>\n",
              "    <tr>\n",
              "      <th>0</th>\n",
              "      <td>1</td>\n",
              "      <td>2</td>\n",
              "      <td>0</td>\n",
              "      <td>20161219203650636.jpg.chip.jpg</td>\n",
              "      <td>129 128 128 126 127 130 133 135 139 142 145 14...</td>\n",
              "    </tr>\n",
              "    <tr>\n",
              "      <th>1</th>\n",
              "      <td>1</td>\n",
              "      <td>2</td>\n",
              "      <td>0</td>\n",
              "      <td>20161219222752047.jpg.chip.jpg</td>\n",
              "      <td>164 74 111 168 169 171 175 182 184 188 193 199...</td>\n",
              "    </tr>\n",
              "    <tr>\n",
              "      <th>2</th>\n",
              "      <td>1</td>\n",
              "      <td>2</td>\n",
              "      <td>0</td>\n",
              "      <td>20161219222832191.jpg.chip.jpg</td>\n",
              "      <td>67 70 71 70 69 67 70 79 90 103 116 132 145 155...</td>\n",
              "    </tr>\n",
              "  </tbody>\n",
              "</table>\n",
              "</div>"
            ],
            "text/plain": [
              "   age  ...                                             pixels\n",
              "0    1  ...  129 128 128 126 127 130 133 135 139 142 145 14...\n",
              "1    1  ...  164 74 111 168 169 171 175 182 184 188 193 199...\n",
              "2    1  ...  67 70 71 70 69 67 70 79 90 103 116 132 145 155...\n",
              "\n",
              "[3 rows x 5 columns]"
            ]
          },
          "metadata": {
            "tags": []
          },
          "execution_count": 5
        }
      ]
    },
    {
      "cell_type": "code",
      "metadata": {
        "id": "Z8RvYH8E1xGK"
      },
      "source": [
        "def label_age (row):\n",
        "    if row['age'] > 0 and row['age'] < 3:\n",
        "        return 0\n",
        "    elif row['age'] > 2 and row['age'] < 10:\n",
        "        return 1\n",
        "    elif row['age'] > 9 and row['age'] < 21:\n",
        "        return 2\n",
        "    elif row['age'] > 20 and row['age'] < 26:\n",
        "        return 3\n",
        "    elif row['age'] > 25 and row['age'] < 28:\n",
        "        return 4\n",
        "    elif row['age'] > 27 and row['age'] < 32:\n",
        "        return 5\n",
        "    elif row['age'] > 31 and row['age'] < 37:\n",
        "        return 6\n",
        "    elif row['age'] > 36 and row['age'] < 46:\n",
        "        return 7\n",
        "    elif row['age'] > 45 and row['age'] < 55:\n",
        "        return 8\n",
        "    elif row['age'] > 54 and row['age'] < 66:\n",
        "        return 9\n",
        "    else:\n",
        "        return 10"
      ],
      "execution_count": 6,
      "outputs": []
    },
    {
      "cell_type": "code",
      "metadata": {
        "id": "jUdWKHKA105I"
      },
      "source": [
        "age_data['AgeGroup'] = age_data.apply (lambda row: label_age(row), axis=1)"
      ],
      "execution_count": 7,
      "outputs": []
    },
    {
      "cell_type": "code",
      "metadata": {
        "colab": {
          "base_uri": "https://localhost:8080/",
          "height": 143
        },
        "id": "ZXDmAYIm13uk",
        "outputId": "72394070-6ede-42be-ccaf-45457554f587"
      },
      "source": [
        "age_data.head(3)"
      ],
      "execution_count": 8,
      "outputs": [
        {
          "output_type": "execute_result",
          "data": {
            "text/html": [
              "<div>\n",
              "<style scoped>\n",
              "    .dataframe tbody tr th:only-of-type {\n",
              "        vertical-align: middle;\n",
              "    }\n",
              "\n",
              "    .dataframe tbody tr th {\n",
              "        vertical-align: top;\n",
              "    }\n",
              "\n",
              "    .dataframe thead th {\n",
              "        text-align: right;\n",
              "    }\n",
              "</style>\n",
              "<table border=\"1\" class=\"dataframe\">\n",
              "  <thead>\n",
              "    <tr style=\"text-align: right;\">\n",
              "      <th></th>\n",
              "      <th>age</th>\n",
              "      <th>ethnicity</th>\n",
              "      <th>gender</th>\n",
              "      <th>img_name</th>\n",
              "      <th>pixels</th>\n",
              "      <th>AgeGroup</th>\n",
              "    </tr>\n",
              "  </thead>\n",
              "  <tbody>\n",
              "    <tr>\n",
              "      <th>0</th>\n",
              "      <td>1</td>\n",
              "      <td>2</td>\n",
              "      <td>0</td>\n",
              "      <td>20161219203650636.jpg.chip.jpg</td>\n",
              "      <td>129 128 128 126 127 130 133 135 139 142 145 14...</td>\n",
              "      <td>0</td>\n",
              "    </tr>\n",
              "    <tr>\n",
              "      <th>1</th>\n",
              "      <td>1</td>\n",
              "      <td>2</td>\n",
              "      <td>0</td>\n",
              "      <td>20161219222752047.jpg.chip.jpg</td>\n",
              "      <td>164 74 111 168 169 171 175 182 184 188 193 199...</td>\n",
              "      <td>0</td>\n",
              "    </tr>\n",
              "    <tr>\n",
              "      <th>2</th>\n",
              "      <td>1</td>\n",
              "      <td>2</td>\n",
              "      <td>0</td>\n",
              "      <td>20161219222832191.jpg.chip.jpg</td>\n",
              "      <td>67 70 71 70 69 67 70 79 90 103 116 132 145 155...</td>\n",
              "      <td>0</td>\n",
              "    </tr>\n",
              "  </tbody>\n",
              "</table>\n",
              "</div>"
            ],
            "text/plain": [
              "   age  ethnicity  ...                                             pixels AgeGroup\n",
              "0    1          2  ...  129 128 128 126 127 130 133 135 139 142 145 14...        0\n",
              "1    1          2  ...  164 74 111 168 169 171 175 182 184 188 193 199...        0\n",
              "2    1          2  ...  67 70 71 70 69 67 70 79 90 103 116 132 145 155...        0\n",
              "\n",
              "[3 rows x 6 columns]"
            ]
          },
          "metadata": {
            "tags": []
          },
          "execution_count": 8
        }
      ]
    },
    {
      "cell_type": "code",
      "metadata": {
        "id": "cUUVZI1D151K"
      },
      "source": [
        "X = []\n",
        "y = []\n",
        "for index, row in age_data.iterrows():\n",
        "    k = row['pixels'].split(\" \")\n",
        "    X.append(np.array(k))\n",
        "    y.append(row['AgeGroup'])\n",
        "        \n",
        "X_train, X_valid, y_train, y_valid = train_test_split(X, y, train_size=0.93, random_state=42)\n",
        "X_train, X_test, y_train, y_test = train_test_split(X_train, y_train, train_size=0.32/0.6 , random_state=42)"
      ],
      "execution_count": 9,
      "outputs": []
    },
    {
      "cell_type": "code",
      "metadata": {
        "colab": {
          "base_uri": "https://localhost:8080/"
        },
        "id": "fNZ8QpaVaYvj",
        "outputId": "cd775931-b227-4b12-aeb7-9148d05039eb"
      },
      "source": [
        "len(X_valid)/(len(X_train)+len(X_valid)+len(X_test))"
      ],
      "execution_count": 10,
      "outputs": [
        {
          "output_type": "execute_result",
          "data": {
            "text/plain": [
              "0.07002742037544822"
            ]
          },
          "metadata": {
            "tags": []
          },
          "execution_count": 10
        }
      ]
    },
    {
      "cell_type": "code",
      "metadata": {
        "colab": {
          "base_uri": "https://localhost:8080/"
        },
        "id": "Ym0Qcv1Aab-E",
        "outputId": "476be9ea-e63f-44b8-babe-62e4f9aa725e"
      },
      "source": [
        "len(X_train)/(len(X_train)+len(X_valid)+len(X_test))"
      ],
      "execution_count": 11,
      "outputs": [
        {
          "output_type": "execute_result",
          "data": {
            "text/plain": [
              "0.4959713140687619"
            ]
          },
          "metadata": {
            "tags": []
          },
          "execution_count": 11
        }
      ]
    },
    {
      "cell_type": "code",
      "metadata": {
        "colab": {
          "base_uri": "https://localhost:8080/"
        },
        "id": "GhBi9dfxacI3",
        "outputId": "6f08e54e-7037-4170-b6b2-c75858815d9c"
      },
      "source": [
        "len(X_test)/(len(X_train)+len(X_valid)+len(X_test))"
      ],
      "execution_count": 12,
      "outputs": [
        {
          "output_type": "execute_result",
          "data": {
            "text/plain": [
              "0.43400126555578994"
            ]
          },
          "metadata": {
            "tags": []
          },
          "execution_count": 12
        }
      ]
    },
    {
      "cell_type": "code",
      "metadata": {
        "id": "h7LBnNeA18Bl"
      },
      "source": [
        "X_train = np.array(X_train)\n",
        "y_train = np.array(y_train)\n",
        "X_valid = np.array(X_valid)\n",
        "y_valid = np.array(y_valid)\n",
        "X_test = np.array(X_test)\n",
        "y_test = np.array(y_test)\n",
        "\n",
        "X_train1 = X_train.reshape(X_train.shape[0], 48, 48, 1)\n",
        "X_valid1 = X_valid.reshape(X_valid.shape[0], 48, 48, 1)\n",
        "X_test1 = X_test.reshape(X_test.shape[0], 48, 48, 1)\n",
        "\n",
        "y_train1 = np_utils.to_categorical(y_train, num_classes = 11)\n",
        "y_valid1 = np_utils.to_categorical(y_valid, num_classes = 11)\n",
        "y_test1 = np_utils.to_categorical(y_test, num_classes = 11)"
      ],
      "execution_count": 13,
      "outputs": []
    },
    {
      "cell_type": "code",
      "metadata": {
        "colab": {
          "base_uri": "https://localhost:8080/"
        },
        "id": "Hhprhdk72EAN",
        "outputId": "1cd85edd-bfcc-4c9d-e3cb-870276ba1e6a"
      },
      "source": [
        "model = Sequential()\n",
        "model.add(ZeroPadding2D((1,1),input_shape=(48,48,1)))\n",
        "model.add(Convolution2D(64, (3, 3), activation=\"relu\"))\n",
        "model.add(ZeroPadding2D((1,1)))\n",
        "model.add(Convolution2D(64, (3, 3), activation=\"relu\"))\n",
        "model.add(MaxPooling2D((2,2), strides=(2,2)))\n",
        "\n",
        "model.add(ZeroPadding2D((1,1)))\n",
        "model.add(Convolution2D(128, (3, 3), activation=\"relu\"))\n",
        "model.add(ZeroPadding2D((1,1)))\n",
        "model.add(Convolution2D(128, (3, 3), activation=\"relu\"))\n",
        "model.add(MaxPooling2D((2,2), strides=(2,2)))\n",
        "\n",
        "model.add(ZeroPadding2D((1,1)))\n",
        "model.add(Convolution2D(256, (3, 3), activation=\"relu\"))\n",
        "model.add(ZeroPadding2D((1,1)))\n",
        "model.add(Convolution2D(256, (3, 3), activation=\"relu\"))\n",
        "model.add(ZeroPadding2D((1,1)))\n",
        "model.add(Convolution2D(256, (3, 3), activation=\"relu\"))\n",
        "model.add(MaxPooling2D((2,2), strides=(2,2)))\n",
        "\n",
        "model.add(ZeroPadding2D((1,1)))\n",
        "model.add(Convolution2D(512, (3, 3), activation=\"relu\"))\n",
        "model.add(ZeroPadding2D((1,1)))\n",
        "model.add(Convolution2D(512, (3, 3), activation=\"relu\"))\n",
        "model.add(ZeroPadding2D((1,1)))\n",
        "model.add(Convolution2D(512, (3, 3), activation=\"relu\"))\n",
        "model.add(MaxPooling2D((2,2), strides=(2,2)))\n",
        "\n",
        "model.add(ZeroPadding2D((1,1)))\n",
        "model.add(Convolution2D(512, (3, 3), activation=\"relu\"))\n",
        "model.add(ZeroPadding2D((1,1)))\n",
        "model.add(Convolution2D(512, (3, 3), activation=\"relu\"))\n",
        "model.add(ZeroPadding2D((1,1)))\n",
        "model.add(Convolution2D(512, (3, 3), activation=\"relu\"))\n",
        "model.add(MaxPooling2D((2,2), strides=(2,2)))\n",
        "\n",
        "model.add(Flatten())\n",
        "model.add(Dense(4096, activation='relu'))\n",
        "model.add(Dropout(0.5))\n",
        "model.add(Dense(4096, activation='relu'))\n",
        "model.add(Dropout(0.5))\n",
        "model.add(Dense(11, activation='softmax'))"
      ],
      "execution_count": 14,
      "outputs": [
        {
          "output_type": "stream",
          "text": [
            "WARNING:tensorflow:From /tensorflow-1.15.2/python3.7/tensorflow_core/python/ops/resource_variable_ops.py:1630: calling BaseResourceVariable.__init__ (from tensorflow.python.ops.resource_variable_ops) with constraint is deprecated and will be removed in a future version.\n",
            "Instructions for updating:\n",
            "If using Keras pass *_constraint arguments to layers.\n",
            "WARNING:tensorflow:From /tensorflow-1.15.2/python3.7/keras/backend/tensorflow_backend.py:4070: The name tf.nn.max_pool is deprecated. Please use tf.nn.max_pool2d instead.\n",
            "\n"
          ],
          "name": "stdout"
        }
      ]
    },
    {
      "cell_type": "code",
      "metadata": {
        "id": "gKJd7J292HA8"
      },
      "source": [
        "model.compile(optimizer= 'sgd', loss='categorical_crossentropy', metrics=['accuracy'])"
      ],
      "execution_count": 15,
      "outputs": []
    },
    {
      "cell_type": "code",
      "metadata": {
        "colab": {
          "base_uri": "https://localhost:8080/"
        },
        "id": "nHUlxhZF2I9X",
        "outputId": "5859aae3-74f2-4311-d9c3-d2e6fc5ee8f2"
      },
      "source": [
        "model.fit(X_train1, y_train1, batch_size=32, epochs=7, verbose=1, validation_data=(X_valid1, y_valid1))"
      ],
      "execution_count": 16,
      "outputs": [
        {
          "output_type": "stream",
          "text": [
            "WARNING:tensorflow:From /tensorflow-1.15.2/python3.7/keras/backend/tensorflow_backend.py:422: The name tf.global_variables is deprecated. Please use tf.compat.v1.global_variables instead.\n",
            "\n",
            "Train on 11757 samples, validate on 1660 samples\n",
            "Epoch 1/7\n",
            "11757/11757 [==============================] - 30s 3ms/step - loss: 2.3782 - accuracy: 0.1169 - val_loss: 2.3586 - val_accuracy: 0.1247\n",
            "Epoch 2/7\n",
            "11757/11757 [==============================] - 27s 2ms/step - loss: 2.3448 - accuracy: 0.1206 - val_loss: 2.2982 - val_accuracy: 0.1506\n",
            "Epoch 3/7\n",
            "11757/11757 [==============================] - 27s 2ms/step - loss: 2.2844 - accuracy: 0.1568 - val_loss: 2.2592 - val_accuracy: 0.1614\n",
            "Epoch 4/7\n",
            "11757/11757 [==============================] - 27s 2ms/step - loss: 2.1496 - accuracy: 0.1923 - val_loss: 2.0280 - val_accuracy: 0.2259\n",
            "Epoch 5/7\n",
            "11757/11757 [==============================] - 27s 2ms/step - loss: 1.9845 - accuracy: 0.2438 - val_loss: 1.8814 - val_accuracy: 0.2633\n",
            "Epoch 6/7\n",
            "11757/11757 [==============================] - 27s 2ms/step - loss: 1.8708 - accuracy: 0.2783 - val_loss: 1.9333 - val_accuracy: 0.2422\n",
            "Epoch 7/7\n",
            "11757/11757 [==============================] - 27s 2ms/step - loss: 1.7814 - accuracy: 0.3076 - val_loss: 1.8616 - val_accuracy: 0.2506\n"
          ],
          "name": "stdout"
        },
        {
          "output_type": "execute_result",
          "data": {
            "text/plain": [
              "<keras.callbacks.callbacks.History at 0x7f66334a1190>"
            ]
          },
          "metadata": {
            "tags": []
          },
          "execution_count": 16
        }
      ]
    },
    {
      "cell_type": "code",
      "metadata": {
        "id": "VMjWgB6pWtbd",
        "colab": {
          "base_uri": "https://localhost:8080/"
        },
        "outputId": "918227f3-78f1-4894-ba4f-1f94e0673ee8"
      },
      "source": [
        "Y_test1 = np.argmax(y_test1, axis=1)\n",
        "y_pred1 = model.predict_classes(X_test1)\n",
        "target_names = ['1-2', '3-9', '10-20', '21-25', '26-27', '28-31', '32-36', '37-45', '46-54', '55-65', '66-116']\n",
        "print(classification_report(Y_test1, y_pred1, target_names = target_names))"
      ],
      "execution_count": 17,
      "outputs": [
        {
          "output_type": "stream",
          "text": [
            "              precision    recall  f1-score   support\n",
            "\n",
            "         1-2       0.59      0.95      0.73       736\n",
            "         3-9       0.23      0.39      0.29       635\n",
            "       10-20       0.19      0.22      0.20       787\n",
            "       21-25       0.30      0.35      0.32      1174\n",
            "       26-27       0.25      0.00      0.01      1245\n",
            "       28-31       0.18      0.04      0.06      1081\n",
            "       32-36       0.19      0.19      0.19      1116\n",
            "       37-45       0.19      0.05      0.07      1095\n",
            "       46-54       0.17      0.35      0.23       865\n",
            "       55-65       0.23      0.15      0.18       848\n",
            "      66-116       0.33      0.81      0.47       706\n",
            "\n",
            "    accuracy                           0.28     10288\n",
            "   macro avg       0.26      0.32      0.25     10288\n",
            "weighted avg       0.25      0.28      0.22     10288\n",
            "\n"
          ],
          "name": "stdout"
        }
      ]
    },
    {
      "cell_type": "code",
      "metadata": {
        "id": "5RHBRIYVW9H9",
        "colab": {
          "base_uri": "https://localhost:8080/"
        },
        "outputId": "6de06613-be4e-4f91-8ea3-a02e2938ec2c"
      },
      "source": [
        "cm = confusion_matrix(y_test1.argmax(axis=1), y_pred1)\n",
        "print(cm)"
      ],
      "execution_count": 18,
      "outputs": [
        {
          "output_type": "stream",
          "text": [
            "[[700  25   0   2   0   0   1   0   2   0   6]\n",
            " [354 249  12   8   0   0   2   0   1   0   9]\n",
            " [ 48 265 177 144   1  12  51   5  43  11  30]\n",
            " [  7 132 240 408   5  55 161  20 110  17  19]\n",
            " [ 16 119 167 334   5  51 256  41 175  26  55]\n",
            " [  6  86 130 226   3  39 222  55 233  33  48]\n",
            " [  6  61 100 143   5  29 207  72 339  73  81]\n",
            " [  7  48  63  49   1  20 137  50 442 107 171]\n",
            " [  6  36  33  16   0   9  48  15 304 120 278]\n",
            " [  8  40  12   9   0   3  19   8 154 123 472]\n",
            " [ 25  25   9   1   0   0   3   1  34  35 573]]\n"
          ],
          "name": "stdout"
        }
      ]
    },
    {
      "cell_type": "code",
      "metadata": {
        "id": "aGMs94NcW_Rq",
        "colab": {
          "base_uri": "https://localhost:8080/",
          "height": 690
        },
        "outputId": "519f3913-b75d-471d-c1f6-24cab32b2e07"
      },
      "source": [
        "fig,ax= plt.subplots(figsize=(11,11))\n",
        "sns.heatmap(cm / (cm.astype(np.float).sum(axis=1, keepdims=True)), annot=True, fmt='.1%', cmap='Blues')\n",
        "#sns.heatmap(cm, annot=True, fmt='.0f',cmap='Blues')\n",
        "ax.set_xlabel('Predicted', size=20);\n",
        "ax.set_ylabel('True', size=20);\n",
        "ax.set_title('Confusion Matrix', size=20);\n",
        "ax.xaxis.set_ticklabels(target_names, size=10); \\\n",
        "ax.yaxis.set_ticklabels(target_names, size=10);"
      ],
      "execution_count": 19,
      "outputs": [
        {
          "output_type": "display_data",
          "data": {
            "image/png": "[encoded data removed]",
            "text/plain": [
              "<Figure size 792x792 with 2 Axes>"
            ]
          },
          "metadata": {
            "tags": [],
            "needs_background": "light"
          }
        }
      ]
    },
    {
      "cell_type": "code",
      "metadata": {
        "id": "C3848xk06Qnh"
      },
      "source": [
        "pred = model.predict(X_test1)\n",
        "pred1 = np.where(pred==1)\n",
        "TP_Indexes = []\n",
        "for k in pred1[0]:\n",
        "    if(y_test1[k][0] == 1):\n",
        "        TP_Indexes.append(k)\n",
        "X_test1_TP = X_test1[TP_Indexes]"
      ],
      "execution_count": 20,
      "outputs": []
    },
    {
      "cell_type": "code",
      "metadata": {
        "id": "LwU-RG8R8cS3"
      },
      "source": [
        "aa = pd.DataFrame(y_pred1)\n",
        "# aa2 = pd.DataFrame(pred1)\n",
        "# aa3 = pd.DataFrame(TP_Indexes)\n",
        "# aa4 = pd.DataFrame(X_test1_TP)"
      ],
      "execution_count": 21,
      "outputs": []
    },
    {
      "cell_type": "code",
      "metadata": {
        "id": "ZMroLQj2AfAc",
        "colab": {
          "base_uri": "https://localhost:8080/",
          "height": 206
        },
        "outputId": "f647b33b-f4d6-4f27-dcdf-0727500d9c84"
      },
      "source": [
        "aa.head()"
      ],
      "execution_count": 22,
      "outputs": [
        {
          "output_type": "execute_result",
          "data": {
            "text/html": [
              "<div>\n",
              "<style scoped>\n",
              "    .dataframe tbody tr th:only-of-type {\n",
              "        vertical-align: middle;\n",
              "    }\n",
              "\n",
              "    .dataframe tbody tr th {\n",
              "        vertical-align: top;\n",
              "    }\n",
              "\n",
              "    .dataframe thead th {\n",
              "        text-align: right;\n",
              "    }\n",
              "</style>\n",
              "<table border=\"1\" class=\"dataframe\">\n",
              "  <thead>\n",
              "    <tr style=\"text-align: right;\">\n",
              "      <th></th>\n",
              "      <th>0</th>\n",
              "    </tr>\n",
              "  </thead>\n",
              "  <tbody>\n",
              "    <tr>\n",
              "      <th>0</th>\n",
              "      <td>6</td>\n",
              "    </tr>\n",
              "    <tr>\n",
              "      <th>1</th>\n",
              "      <td>3</td>\n",
              "    </tr>\n",
              "    <tr>\n",
              "      <th>2</th>\n",
              "      <td>8</td>\n",
              "    </tr>\n",
              "    <tr>\n",
              "      <th>3</th>\n",
              "      <td>8</td>\n",
              "    </tr>\n",
              "    <tr>\n",
              "      <th>4</th>\n",
              "      <td>0</td>\n",
              "    </tr>\n",
              "  </tbody>\n",
              "</table>\n",
              "</div>"
            ],
            "text/plain": [
              "   0\n",
              "0  6\n",
              "1  3\n",
              "2  8\n",
              "3  8\n",
              "4  0"
            ]
          },
          "metadata": {
            "tags": []
          },
          "execution_count": 22
        }
      ]
    },
    {
      "cell_type": "code",
      "metadata": {
        "id": "I56ZP3tkHnhB"
      },
      "source": [
        "aaFinal = pd.DataFrame(y_test1)"
      ],
      "execution_count": 23,
      "outputs": []
    },
    {
      "cell_type": "code",
      "metadata": {
        "id": "hB6IosaeKBsD",
        "colab": {
          "base_uri": "https://localhost:8080/"
        },
        "outputId": "1ca07e18-7ae6-4a8f-ed42-87130dd5bdaf"
      },
      "source": [
        "aaFinal[0].values[1]"
      ],
      "execution_count": 24,
      "outputs": [
        {
          "output_type": "execute_result",
          "data": {
            "text/plain": [
              "0.0"
            ]
          },
          "metadata": {
            "tags": []
          },
          "execution_count": 24
        }
      ]
    },
    {
      "cell_type": "code",
      "metadata": {
        "id": "wLtr7-qrybU3"
      },
      "source": [
        "aaFinal['aa'] = aa[0]"
      ],
      "execution_count": 25,
      "outputs": []
    },
    {
      "cell_type": "code",
      "metadata": {
        "id": "ILQpxTqtybjD",
        "colab": {
          "base_uri": "https://localhost:8080/",
          "height": 206
        },
        "outputId": "23f7a530-3976-4ad5-f0c7-bfe0c4dd1967"
      },
      "source": [
        "aaFinal.head()"
      ],
      "execution_count": 26,
      "outputs": [
        {
          "output_type": "execute_result",
          "data": {
            "text/html": [
              "<div>\n",
              "<style scoped>\n",
              "    .dataframe tbody tr th:only-of-type {\n",
              "        vertical-align: middle;\n",
              "    }\n",
              "\n",
              "    .dataframe tbody tr th {\n",
              "        vertical-align: top;\n",
              "    }\n",
              "\n",
              "    .dataframe thead th {\n",
              "        text-align: right;\n",
              "    }\n",
              "</style>\n",
              "<table border=\"1\" class=\"dataframe\">\n",
              "  <thead>\n",
              "    <tr style=\"text-align: right;\">\n",
              "      <th></th>\n",
              "      <th>0</th>\n",
              "      <th>1</th>\n",
              "      <th>2</th>\n",
              "      <th>3</th>\n",
              "      <th>4</th>\n",
              "      <th>5</th>\n",
              "      <th>6</th>\n",
              "      <th>7</th>\n",
              "      <th>8</th>\n",
              "      <th>9</th>\n",
              "      <th>10</th>\n",
              "      <th>aa</th>\n",
              "    </tr>\n",
              "  </thead>\n",
              "  <tbody>\n",
              "    <tr>\n",
              "      <th>0</th>\n",
              "      <td>0.0</td>\n",
              "      <td>0.0</td>\n",
              "      <td>0.0</td>\n",
              "      <td>0.0</td>\n",
              "      <td>0.0</td>\n",
              "      <td>1.0</td>\n",
              "      <td>0.0</td>\n",
              "      <td>0.0</td>\n",
              "      <td>0.0</td>\n",
              "      <td>0.0</td>\n",
              "      <td>0.0</td>\n",
              "      <td>6</td>\n",
              "    </tr>\n",
              "    <tr>\n",
              "      <th>1</th>\n",
              "      <td>0.0</td>\n",
              "      <td>0.0</td>\n",
              "      <td>0.0</td>\n",
              "      <td>0.0</td>\n",
              "      <td>0.0</td>\n",
              "      <td>0.0</td>\n",
              "      <td>1.0</td>\n",
              "      <td>0.0</td>\n",
              "      <td>0.0</td>\n",
              "      <td>0.0</td>\n",
              "      <td>0.0</td>\n",
              "      <td>3</td>\n",
              "    </tr>\n",
              "    <tr>\n",
              "      <th>2</th>\n",
              "      <td>0.0</td>\n",
              "      <td>0.0</td>\n",
              "      <td>0.0</td>\n",
              "      <td>0.0</td>\n",
              "      <td>0.0</td>\n",
              "      <td>0.0</td>\n",
              "      <td>0.0</td>\n",
              "      <td>1.0</td>\n",
              "      <td>0.0</td>\n",
              "      <td>0.0</td>\n",
              "      <td>0.0</td>\n",
              "      <td>8</td>\n",
              "    </tr>\n",
              "    <tr>\n",
              "      <th>3</th>\n",
              "      <td>0.0</td>\n",
              "      <td>0.0</td>\n",
              "      <td>0.0</td>\n",
              "      <td>0.0</td>\n",
              "      <td>0.0</td>\n",
              "      <td>0.0</td>\n",
              "      <td>0.0</td>\n",
              "      <td>0.0</td>\n",
              "      <td>0.0</td>\n",
              "      <td>1.0</td>\n",
              "      <td>0.0</td>\n",
              "      <td>8</td>\n",
              "    </tr>\n",
              "    <tr>\n",
              "      <th>4</th>\n",
              "      <td>1.0</td>\n",
              "      <td>0.0</td>\n",
              "      <td>0.0</td>\n",
              "      <td>0.0</td>\n",
              "      <td>0.0</td>\n",
              "      <td>0.0</td>\n",
              "      <td>0.0</td>\n",
              "      <td>0.0</td>\n",
              "      <td>0.0</td>\n",
              "      <td>0.0</td>\n",
              "      <td>0.0</td>\n",
              "      <td>0</td>\n",
              "    </tr>\n",
              "  </tbody>\n",
              "</table>\n",
              "</div>"
            ],
            "text/plain": [
              "     0    1    2    3    4    5    6    7    8    9   10  aa\n",
              "0  0.0  0.0  0.0  0.0  0.0  1.0  0.0  0.0  0.0  0.0  0.0   6\n",
              "1  0.0  0.0  0.0  0.0  0.0  0.0  1.0  0.0  0.0  0.0  0.0   3\n",
              "2  0.0  0.0  0.0  0.0  0.0  0.0  0.0  1.0  0.0  0.0  0.0   8\n",
              "3  0.0  0.0  0.0  0.0  0.0  0.0  0.0  0.0  0.0  1.0  0.0   8\n",
              "4  1.0  0.0  0.0  0.0  0.0  0.0  0.0  0.0  0.0  0.0  0.0   0"
            ]
          },
          "metadata": {
            "tags": []
          },
          "execution_count": 26
        }
      ]
    },
    {
      "cell_type": "code",
      "metadata": {
        "id": "ipe1OdejytJO"
      },
      "source": [
        "def label_age (row):\n",
        "    if row[row['aa']] == 1.0:\n",
        "        return 1\n",
        "    else:\n",
        "        return 0"
      ],
      "execution_count": 27,
      "outputs": []
    },
    {
      "cell_type": "code",
      "metadata": {
        "id": "HnDXpIX_ywLs"
      },
      "source": [
        "aaFinal['YorN'] = aaFinal.apply (lambda row: label_age(row), axis=1)"
      ],
      "execution_count": 28,
      "outputs": []
    },
    {
      "cell_type": "code",
      "metadata": {
        "id": "-ZHnH9YiyyOF",
        "colab": {
          "base_uri": "https://localhost:8080/",
          "height": 206
        },
        "outputId": "b65add13-9858-412c-9b98-951750657522"
      },
      "source": [
        "aaFinal.head()"
      ],
      "execution_count": 29,
      "outputs": [
        {
          "output_type": "execute_result",
          "data": {
            "text/html": [
              "<div>\n",
              "<style scoped>\n",
              "    .dataframe tbody tr th:only-of-type {\n",
              "        vertical-align: middle;\n",
              "    }\n",
              "\n",
              "    .dataframe tbody tr th {\n",
              "        vertical-align: top;\n",
              "    }\n",
              "\n",
              "    .dataframe thead th {\n",
              "        text-align: right;\n",
              "    }\n",
              "</style>\n",
              "<table border=\"1\" class=\"dataframe\">\n",
              "  <thead>\n",
              "    <tr style=\"text-align: right;\">\n",
              "      <th></th>\n",
              "      <th>0</th>\n",
              "      <th>1</th>\n",
              "      <th>2</th>\n",
              "      <th>3</th>\n",
              "      <th>4</th>\n",
              "      <th>5</th>\n",
              "      <th>6</th>\n",
              "      <th>7</th>\n",
              "      <th>8</th>\n",
              "      <th>9</th>\n",
              "      <th>10</th>\n",
              "      <th>aa</th>\n",
              "      <th>YorN</th>\n",
              "    </tr>\n",
              "  </thead>\n",
              "  <tbody>\n",
              "    <tr>\n",
              "      <th>0</th>\n",
              "      <td>0.0</td>\n",
              "      <td>0.0</td>\n",
              "      <td>0.0</td>\n",
              "      <td>0.0</td>\n",
              "      <td>0.0</td>\n",
              "      <td>1.0</td>\n",
              "      <td>0.0</td>\n",
              "      <td>0.0</td>\n",
              "      <td>0.0</td>\n",
              "      <td>0.0</td>\n",
              "      <td>0.0</td>\n",
              "      <td>6</td>\n",
              "      <td>0</td>\n",
              "    </tr>\n",
              "    <tr>\n",
              "      <th>1</th>\n",
              "      <td>0.0</td>\n",
              "      <td>0.0</td>\n",
              "      <td>0.0</td>\n",
              "      <td>0.0</td>\n",
              "      <td>0.0</td>\n",
              "      <td>0.0</td>\n",
              "      <td>1.0</td>\n",
              "      <td>0.0</td>\n",
              "      <td>0.0</td>\n",
              "      <td>0.0</td>\n",
              "      <td>0.0</td>\n",
              "      <td>3</td>\n",
              "      <td>0</td>\n",
              "    </tr>\n",
              "    <tr>\n",
              "      <th>2</th>\n",
              "      <td>0.0</td>\n",
              "      <td>0.0</td>\n",
              "      <td>0.0</td>\n",
              "      <td>0.0</td>\n",
              "      <td>0.0</td>\n",
              "      <td>0.0</td>\n",
              "      <td>0.0</td>\n",
              "      <td>1.0</td>\n",
              "      <td>0.0</td>\n",
              "      <td>0.0</td>\n",
              "      <td>0.0</td>\n",
              "      <td>8</td>\n",
              "      <td>0</td>\n",
              "    </tr>\n",
              "    <tr>\n",
              "      <th>3</th>\n",
              "      <td>0.0</td>\n",
              "      <td>0.0</td>\n",
              "      <td>0.0</td>\n",
              "      <td>0.0</td>\n",
              "      <td>0.0</td>\n",
              "      <td>0.0</td>\n",
              "      <td>0.0</td>\n",
              "      <td>0.0</td>\n",
              "      <td>0.0</td>\n",
              "      <td>1.0</td>\n",
              "      <td>0.0</td>\n",
              "      <td>8</td>\n",
              "      <td>0</td>\n",
              "    </tr>\n",
              "    <tr>\n",
              "      <th>4</th>\n",
              "      <td>1.0</td>\n",
              "      <td>0.0</td>\n",
              "      <td>0.0</td>\n",
              "      <td>0.0</td>\n",
              "      <td>0.0</td>\n",
              "      <td>0.0</td>\n",
              "      <td>0.0</td>\n",
              "      <td>0.0</td>\n",
              "      <td>0.0</td>\n",
              "      <td>0.0</td>\n",
              "      <td>0.0</td>\n",
              "      <td>0</td>\n",
              "      <td>1</td>\n",
              "    </tr>\n",
              "  </tbody>\n",
              "</table>\n",
              "</div>"
            ],
            "text/plain": [
              "     0    1    2    3    4    5    6    7    8    9   10  aa  YorN\n",
              "0  0.0  0.0  0.0  0.0  0.0  1.0  0.0  0.0  0.0  0.0  0.0   6     0\n",
              "1  0.0  0.0  0.0  0.0  0.0  0.0  1.0  0.0  0.0  0.0  0.0   3     0\n",
              "2  0.0  0.0  0.0  0.0  0.0  0.0  0.0  1.0  0.0  0.0  0.0   8     0\n",
              "3  0.0  0.0  0.0  0.0  0.0  0.0  0.0  0.0  0.0  1.0  0.0   8     0\n",
              "4  1.0  0.0  0.0  0.0  0.0  0.0  0.0  0.0  0.0  0.0  0.0   0     1"
            ]
          },
          "metadata": {
            "tags": []
          },
          "execution_count": 29
        }
      ]
    },
    {
      "cell_type": "code",
      "metadata": {
        "id": "GTTUiGEXyyUO",
        "colab": {
          "base_uri": "https://localhost:8080/"
        },
        "outputId": "04c5e3d0-d21d-42ec-8df9-4023599d151a"
      },
      "source": [
        "aaFinal.shape[0]"
      ],
      "execution_count": 30,
      "outputs": [
        {
          "output_type": "execute_result",
          "data": {
            "text/plain": [
              "10288"
            ]
          },
          "metadata": {
            "tags": []
          },
          "execution_count": 30
        }
      ]
    },
    {
      "cell_type": "code",
      "metadata": {
        "id": "4S28sp561Ln2"
      },
      "source": [
        "X_test22 = X_test.tolist()"
      ],
      "execution_count": 31,
      "outputs": []
    },
    {
      "cell_type": "code",
      "metadata": {
        "id": "sDwLuTNA1M5l"
      },
      "source": [
        "con = 0\n",
        "for i in range(aaFinal.shape[0]):\n",
        "    if aaFinal['YorN'].values[i] == 0:\n",
        "        X_test22.remove(X_test22[i-con])\n",
        "        con += 1"
      ],
      "execution_count": 32,
      "outputs": []
    },
    {
      "cell_type": "code",
      "metadata": {
        "id": "wHT4czxy20j2"
      },
      "source": [
        "X_test22 = np.array(X_test22)"
      ],
      "execution_count": 33,
      "outputs": []
    },
    {
      "cell_type": "code",
      "metadata": {
        "id": "CIgLTjfP28qE",
        "colab": {
          "base_uri": "https://localhost:8080/"
        },
        "outputId": "1643b631-363e-4f68-e2ab-e9b65233e97b"
      },
      "source": [
        "X_test22[0]"
      ],
      "execution_count": 34,
      "outputs": [
        {
          "output_type": "execute_result",
          "data": {
            "text/plain": [
              "array(['239', '139', '223', ..., '233', '230', '237'], dtype='<U3')"
            ]
          },
          "metadata": {
            "tags": []
          },
          "execution_count": 34
        }
      ]
    },
    {
      "cell_type": "code",
      "metadata": {
        "id": "PuWQsXsu280f",
        "colab": {
          "base_uri": "https://localhost:8080/"
        },
        "outputId": "da8102f7-c3f9-48a9-cfff-a7d28d456f91"
      },
      "source": [
        "X_test[1]"
      ],
      "execution_count": 35,
      "outputs": [
        {
          "output_type": "execute_result",
          "data": {
            "text/plain": [
              "array(['36', '33', '32', ..., '28', '31', '25'], dtype='<U3')"
            ]
          },
          "metadata": {
            "tags": []
          },
          "execution_count": 35
        }
      ]
    },
    {
      "cell_type": "code",
      "metadata": {
        "id": "f0s8q2GV20wJ"
      },
      "source": [
        "X_test22 = X_test22.tolist()"
      ],
      "execution_count": 36,
      "outputs": []
    },
    {
      "cell_type": "code",
      "metadata": {
        "id": "rm7QuThusKDs"
      },
      "source": [
        "X_test23 = X_test22"
      ],
      "execution_count": 37,
      "outputs": []
    },
    {
      "cell_type": "code",
      "metadata": {
        "id": "FNf4wOO5c68-",
        "colab": {
          "base_uri": "https://localhost:8080/"
        },
        "outputId": "a11a5836-e8af-4d1e-bb6a-740d55298dcf"
      },
      "source": [
        "len(X_test22)"
      ],
      "execution_count": 38,
      "outputs": [
        {
          "output_type": "execute_result",
          "data": {
            "text/plain": [
              "2835"
            ]
          },
          "metadata": {
            "tags": []
          },
          "execution_count": 38
        }
      ]
    },
    {
      "cell_type": "code",
      "metadata": {
        "id": "XUqBnaDfc-y8"
      },
      "source": [
        "div = int(round(len(X_test22) * .1, 0))"
      ],
      "execution_count": 39,
      "outputs": []
    },
    {
      "cell_type": "code",
      "metadata": {
        "id": "xKhT3Sbqc_Bb",
        "colab": {
          "base_uri": "https://localhost:8080/"
        },
        "outputId": "a42e7258-3008-47ef-a15b-3aaadf452797"
      },
      "source": [
        "div"
      ],
      "execution_count": 40,
      "outputs": [
        {
          "output_type": "execute_result",
          "data": {
            "text/plain": [
              "284"
            ]
          },
          "metadata": {
            "tags": []
          },
          "execution_count": 40
        }
      ]
    },
    {
      "cell_type": "code",
      "metadata": {
        "id": "ornXhQ7PdGOL"
      },
      "source": [
        "val = random.sample(X_test22, div)"
      ],
      "execution_count": 41,
      "outputs": []
    },
    {
      "cell_type": "code",
      "metadata": {
        "id": "FaP9h1gWdGhs"
      },
      "source": [
        "train0 = []\n",
        "\n",
        "for i in X_test22:\n",
        "    if i not in val:\n",
        "        train0.append(i)"
      ],
      "execution_count": 42,
      "outputs": []
    },
    {
      "cell_type": "code",
      "metadata": {
        "id": "YJa86TxMtd6W"
      },
      "source": [
        "val0 = []\n",
        "\n",
        "for i in X_test22:\n",
        "    if i in val:\n",
        "        val0.append(i)"
      ],
      "execution_count": 43,
      "outputs": []
    },
    {
      "cell_type": "code",
      "metadata": {
        "id": "88UcYG7HdUkO",
        "colab": {
          "base_uri": "https://localhost:8080/"
        },
        "outputId": "f589ffdd-cc2b-4018-b972-2707f22404a1"
      },
      "source": [
        "len(train0)/len(val0)"
      ],
      "execution_count": 44,
      "outputs": [
        {
          "output_type": "execute_result",
          "data": {
            "text/plain": [
              "8.982394366197184"
            ]
          },
          "metadata": {
            "tags": []
          },
          "execution_count": 44
        }
      ]
    },
    {
      "cell_type": "code",
      "metadata": {
        "id": "MUCZXDorc7T-"
      },
      "source": [
        "y_test22 = y_test.tolist()"
      ],
      "execution_count": 45,
      "outputs": []
    },
    {
      "cell_type": "code",
      "metadata": {
        "id": "3hM_wtLBjXt4"
      },
      "source": [
        "y_train0 = []\n",
        "y_val0 = []\n",
        "\n",
        "for i in val0:\n",
        "    y_val0.append(y_test22[X_test23.index(i)])\n",
        "\n",
        "for i in train0:\n",
        "    y_train0.append(y_test22[X_test23.index(i)])"
      ],
      "execution_count": 46,
      "outputs": []
    },
    {
      "cell_type": "code",
      "metadata": {
        "id": "ycTeper6jX8r",
        "colab": {
          "base_uri": "https://localhost:8080/"
        },
        "outputId": "48138884-a84a-4947-b39c-77902a9cde37"
      },
      "source": [
        "len(y_train0)/len(y_val0)"
      ],
      "execution_count": 47,
      "outputs": [
        {
          "output_type": "execute_result",
          "data": {
            "text/plain": [
              "8.982394366197184"
            ]
          },
          "metadata": {
            "tags": []
          },
          "execution_count": 47
        }
      ]
    },
    {
      "cell_type": "code",
      "metadata": {
        "id": "H3rvWvZBRcl-"
      },
      "source": [
        "train00 = pd.read_csv('gdrive/My Drive/train0.csv')\n",
        "val00 = pd.read_csv('gdrive/My Drive/val0.csv')\n",
        "y_train00 = pd.read_csv('gdrive/My Drive/y_train0.csv')\n",
        "y_val00 = pd.read_csv('gdrive/My Drive/y_val0.csv')\n",
        "test00 = pd.read_csv('gdrive/My Drive/test0.csv')\n",
        "y_test00 = pd.read_csv('gdrive/My Drive/y_test0.csv')"
      ],
      "execution_count": 48,
      "outputs": []
    },
    {
      "cell_type": "code",
      "metadata": {
        "id": "n3_g9h7KRh83"
      },
      "source": [
        "train00 = train00.values.tolist()\n",
        "val00 = val00.values.tolist()\n",
        "y_train00 = y_train00.values.tolist()\n",
        "y_val00 = y_val00.values.tolist()\n",
        "test00 = test00.values.tolist()\n",
        "y_test00 = y_test00.values.tolist()"
      ],
      "execution_count": 49,
      "outputs": []
    },
    {
      "cell_type": "code",
      "metadata": {
        "id": "Br_TN2aMhl6A",
        "colab": {
          "base_uri": "https://localhost:8080/"
        },
        "outputId": "9313cadf-eaab-408b-ebc4-3ec107eb4a88"
      },
      "source": [
        "print(\"train00: %s\" %len(train00))\n",
        "print(\"val00: %s\" %len(val00))\n",
        "print(\"test00: %s\" %len(test00))"
      ],
      "execution_count": 50,
      "outputs": [
        {
          "output_type": "stream",
          "text": [
            "train00: 729\n",
            "val00: 81\n",
            "test00: 18963\n"
          ],
          "name": "stdout"
        }
      ]
    },
    {
      "cell_type": "code",
      "metadata": {
        "id": "QW1j2ph2RiIg"
      },
      "source": [
        "y_train0 = y_train0 + y_train00\n",
        "y_val0 = y_val0 + y_val00\n",
        "train0 = train0 + train00\n",
        "val0 = val0 + val00"
      ],
      "execution_count": 51,
      "outputs": []
    },
    {
      "cell_type": "code",
      "metadata": {
        "id": "pYm3R_jAiogt"
      },
      "source": [
        "X_test = X_train.tolist()\n",
        "y_test = y_train.tolist()"
      ],
      "execution_count": 52,
      "outputs": []
    },
    {
      "cell_type": "code",
      "metadata": {
        "id": "n-hybR8sjz1f"
      },
      "source": [
        "count = 0\n",
        "for i in range(len(train0)):\n",
        "  if train0[i] in X_test:\n",
        "    y_test.remove(y_test[X_test.index(train0[i])])\n",
        "    X_test.remove(train0[i])\n",
        "    count += 1\n",
        "  \n",
        "for i in range(len(val0)):\n",
        "  if val0[i] in X_test:\n",
        "    y_test.remove(y_test[X_test.index(val0[i])-1])\n",
        "    X_test.remove(val0[i])"
      ],
      "execution_count": 53,
      "outputs": []
    },
    {
      "cell_type": "code",
      "metadata": {
        "colab": {
          "base_uri": "https://localhost:8080/"
        },
        "id": "XsWzNGYoJP7a",
        "outputId": "b9830648-2cfc-4fc1-a441-ee0bd28fee41"
      },
      "source": [
        "print(\"train0: %s\" %len(train0))\n",
        "print(\"val0: %s\" %len(val0))\n",
        "print(\"test0: %s\" %len(X_test))\n",
        "print(\"y_train0: %s\" %len(y_train0))"
      ],
      "execution_count": 54,
      "outputs": [
        {
          "output_type": "stream",
          "text": [
            "train0: 3280\n",
            "val0: 365\n",
            "test0: 11715\n",
            "y_train0: 3280\n"
          ],
          "name": "stdout"
        }
      ]
    },
    {
      "cell_type": "code",
      "metadata": {
        "id": "R1SwbWDf6i50"
      },
      "source": [
        "train0 = pd.DataFrame(train0)\n",
        "val0 = pd.DataFrame(val0)"
      ],
      "execution_count": 55,
      "outputs": []
    },
    {
      "cell_type": "code",
      "metadata": {
        "id": "uMO49g7w-tFU"
      },
      "source": [
        "#y_train2 = pd.DataFrame(y_train0 + y_train00)"
      ],
      "execution_count": 56,
      "outputs": []
    },
    {
      "cell_type": "code",
      "metadata": {
        "id": "RfkazGj5IRA3"
      },
      "source": [
        "y_train0 = pd.DataFrame(y_train0)"
      ],
      "execution_count": 57,
      "outputs": []
    },
    {
      "cell_type": "code",
      "metadata": {
        "id": "Qa459tHf-zXQ"
      },
      "source": [
        "#y_val2 = pd.DataFrame(y_val0 + y_val00)"
      ],
      "execution_count": 58,
      "outputs": []
    },
    {
      "cell_type": "code",
      "metadata": {
        "id": "mqOC-BPTIVE7"
      },
      "source": [
        "y_val0 = pd.DataFrame(y_val0)"
      ],
      "execution_count": 59,
      "outputs": []
    },
    {
      "cell_type": "code",
      "metadata": {
        "id": "N_vwFeo_6jT9"
      },
      "source": [
        "train0.to_csv('train0.csv', index=False)\n",
        "val0.to_csv('val0.csv', index=False)\n",
        "y_train0.to_csv('y_train0.csv', index=False)\n",
        "y_val0.to_csv('y_val0.csv', index=False)"
      ],
      "execution_count": 60,
      "outputs": []
    },
    {
      "cell_type": "code",
      "metadata": {
        "id": "CwKPBpsdjNoJ"
      },
      "source": [
        "test0 = pd.DataFrame(X_test)\n",
        "y_test0 = pd.DataFrame(y_test)"
      ],
      "execution_count": 61,
      "outputs": []
    },
    {
      "cell_type": "code",
      "metadata": {
        "id": "lxbMNiFr36Vq"
      },
      "source": [
        "test0.to_csv('test0.csv', index=False)\n",
        "y_val0.to_csv('y_val0.csv', index=False)\n",
        "y_test0.to_csv('y_test0.csv', index=False)"
      ],
      "execution_count": 62,
      "outputs": []
    },
    {
      "cell_type": "code",
      "metadata": {
        "id": "_yyEYBCI6j28",
        "colab": {
          "base_uri": "https://localhost:8080/"
        },
        "outputId": "a316031c-1662-4201-f917-7e5d8f3e6d86"
      },
      "source": [
        "len(X_test)/len(y_test)\n",
        "#should be 1"
      ],
      "execution_count": 63,
      "outputs": [
        {
          "output_type": "execute_result",
          "data": {
            "text/plain": [
              "1.0"
            ]
          },
          "metadata": {
            "tags": []
          },
          "execution_count": 63
        }
      ]
    },
    {
      "cell_type": "code",
      "metadata": {
        "id": "iEZdFzYxjjG3",
        "colab": {
          "base_uri": "https://localhost:8080/",
          "height": 133
        },
        "outputId": "eeea06cd-5041-4cb9-c41d-b3cf4cf4bb70"
      },
      "source": [
        "this is an error"
      ],
      "execution_count": 64,
      "outputs": [
        {
          "output_type": "error",
          "ename": "SyntaxError",
          "evalue": "ignored",
          "traceback": [
            "\u001b[0;36m  File \u001b[0;32m\"<ipython-input-64-c11d0ec203f0>\"\u001b[0;36m, line \u001b[0;32m1\u001b[0m\n\u001b[0;31m    this is an error\u001b[0m\n\u001b[0m                   ^\u001b[0m\n\u001b[0;31mSyntaxError\u001b[0m\u001b[0;31m:\u001b[0m invalid syntax\n"
          ]
        }
      ]
    },
    {
      "cell_type": "code",
      "metadata": {
        "id": "a9LeQjgX4Z1-"
      },
      "source": [
        ""
      ],
      "execution_count": null,
      "outputs": []
    },
    {
      "cell_type": "code",
      "metadata": {
        "id": "zmVbOqYh4aCQ"
      },
      "source": [
        ""
      ],
      "execution_count": null,
      "outputs": []
    },
    {
      "cell_type": "code",
      "metadata": {
        "id": "ztQ-cfqY4aPd"
      },
      "source": [
        ""
      ],
      "execution_count": null,
      "outputs": []
    },
    {
      "cell_type": "code",
      "metadata": {
        "id": "NchzMib2fUZD"
      },
      "source": [
        "X_train = np.array(train0)\n",
        "y_train = np.array(y_train0)\n",
        "X_valid = np.array(val0)\n",
        "y_valid = np.array(y_val0)\n",
        "X_test = np.array(X_train)\n",
        "y_test = np.array(y_train)\n",
        "\n",
        "X_train1 = X_train.reshape(X_train.shape[0], 48, 48, 1)\n",
        "X_valid1 = X_valid.reshape(X_valid.shape[0], 48, 48, 1)\n",
        "X_test1 = X_test.reshape(X_test.shape[0], 48, 48, 1)\n",
        "\n",
        "y_train1 = np_utils.to_categorical(y_train, num_classes = 11)\n",
        "y_valid1 = np_utils.to_categorical(y_valid, num_classes = 11)\n",
        "y_test1 = np_utils.to_categorical(y_test, num_classes = 11)"
      ],
      "execution_count": null,
      "outputs": []
    },
    {
      "cell_type": "code",
      "metadata": {
        "id": "nRKRmd2cfWaM"
      },
      "source": [
        "model = Sequential()\n",
        "model.add(ZeroPadding2D((1,1),input_shape=(48,48,1)))\n",
        "model.add(Convolution2D(64, (3, 3), activation=\"relu\"))\n",
        "model.add(ZeroPadding2D((1,1)))\n",
        "model.add(Convolution2D(64, (3, 3), activation=\"relu\"))\n",
        "model.add(MaxPooling2D((2,2), strides=(2,2)))\n",
        "\n",
        "model.add(ZeroPadding2D((1,1)))\n",
        "model.add(Convolution2D(128, (3, 3), activation=\"relu\"))\n",
        "model.add(ZeroPadding2D((1,1)))\n",
        "model.add(Convolution2D(128, (3, 3), activation=\"relu\"))\n",
        "model.add(MaxPooling2D((2,2), strides=(2,2)))\n",
        "\n",
        "model.add(ZeroPadding2D((1,1)))\n",
        "model.add(Convolution2D(256, (3, 3), activation=\"relu\"))\n",
        "model.add(ZeroPadding2D((1,1)))\n",
        "model.add(Convolution2D(256, (3, 3), activation=\"relu\"))\n",
        "model.add(ZeroPadding2D((1,1)))\n",
        "model.add(Convolution2D(256, (3, 3), activation=\"relu\"))\n",
        "model.add(MaxPooling2D((2,2), strides=(2,2)))\n",
        "\n",
        "model.add(ZeroPadding2D((1,1)))\n",
        "model.add(Convolution2D(512, (3, 3), activation=\"relu\"))\n",
        "model.add(ZeroPadding2D((1,1)))\n",
        "model.add(Convolution2D(512, (3, 3), activation=\"relu\"))\n",
        "model.add(ZeroPadding2D((1,1)))\n",
        "model.add(Convolution2D(512, (3, 3), activation=\"relu\"))\n",
        "model.add(MaxPooling2D((2,2), strides=(2,2)))\n",
        "\n",
        "model.add(ZeroPadding2D((1,1)))\n",
        "model.add(Convolution2D(512, (3, 3), activation=\"relu\"))\n",
        "model.add(ZeroPadding2D((1,1)))\n",
        "model.add(Convolution2D(512, (3, 3), activation=\"relu\"))\n",
        "model.add(ZeroPadding2D((1,1)))\n",
        "model.add(Convolution2D(512, (3, 3), activation=\"relu\"))\n",
        "model.add(MaxPooling2D((2,2), strides=(2,2)))\n",
        "\n",
        "model.add(Flatten())\n",
        "model.add(Dense(4096, activation='relu'))\n",
        "model.add(Dropout(0.5))\n",
        "model.add(Dense(4096, activation='relu'))\n",
        "model.add(Dropout(0.5))\n",
        "model.add(Dense(11, activation='softmax'))"
      ],
      "execution_count": null,
      "outputs": []
    },
    {
      "cell_type": "code",
      "metadata": {
        "id": "b4oezOo6fWpS"
      },
      "source": [
        "model.compile(optimizer= 'sgd', loss='categorical_crossentropy', metrics=['accuracy'])"
      ],
      "execution_count": null,
      "outputs": []
    },
    {
      "cell_type": "code",
      "metadata": {
        "id": "XUeuKlzugBOB"
      },
      "source": [
        "model.fit(X_train1, y_train1, batch_size=2, epochs=30, verbose=1, validation_data=(X_valid1, y_valid1))"
      ],
      "execution_count": null,
      "outputs": []
    },
    {
      "cell_type": "code",
      "metadata": {
        "id": "JAeII0HKgBWM"
      },
      "source": [
        "Y_test1 = np.argmax(y_test1, axis=1)\n",
        "y_pred1 = model.predict_classes(X_test1)\n",
        "target_names = ['1-2', '3-9', '10-20', '21-25', '26-27', '28-31', '32-36', '37-45', '46-54', '55-65', '66-116']\n",
        "print(classification_report(Y_test1, y_pred1, target_names = target_names))"
      ],
      "execution_count": null,
      "outputs": []
    },
    {
      "cell_type": "code",
      "metadata": {
        "id": "fYRQ5n-jgBfR"
      },
      "source": [
        "cm = confusion_matrix(y_test1.argmax(axis=1), y_pred1)\n",
        "print(cm)"
      ],
      "execution_count": null,
      "outputs": []
    },
    {
      "cell_type": "code",
      "metadata": {
        "id": "vBJxeXnogG-D"
      },
      "source": [
        "fig,ax= plt.subplots(figsize=(12,12))\n",
        "sns.heatmap(cm / (cm.astype(np.float).sum(axis=1, keepdims=True)), annot=True, fmt='.1%', cmap='Blues')\n",
        "#sns.heatmap(cm, annot=True, fmt='.0f',cmap='Blues')\n",
        "ax.set_xlabel('Predicted', size=20);\n",
        "ax.set_ylabel('True', size=20);\n",
        "ax.set_title('Confusion Matrix', size=20);\n",
        "ax.xaxis.set_ticklabels(target_names, size=10); \\\n",
        "ax.yaxis.set_ticklabels(target_names, size=10);"
      ],
      "execution_count": null,
      "outputs": []
    },
    {
      "cell_type": "code",
      "metadata": {
        "id": "K6wgAB7ugHJY"
      },
      "source": [
        ""
      ],
      "execution_count": null,
      "outputs": []
    },
    {
      "cell_type": "code",
      "metadata": {
        "id": "QePQzzeagBoR"
      },
      "source": [
        ""
      ],
      "execution_count": null,
      "outputs": []
    },
    {
      "cell_type": "code",
      "metadata": {
        "id": "YLCgCOTFy4ko"
      },
      "source": [
        "#con = 0\n",
        "#for i in range(aaFinal.shape[0]-1):\n",
        "#    if aaFinal['YorN'].values[i] == 0:\n",
        "#        X_test = np.delete(X_test, i-con)\n",
        "#        con += 1"
      ],
      "execution_count": null,
      "outputs": []
    },
    {
      "cell_type": "code",
      "metadata": {
        "id": "neXaewGBzDRo"
      },
      "source": [
        ""
      ],
      "execution_count": null,
      "outputs": []
    }
  ]
}