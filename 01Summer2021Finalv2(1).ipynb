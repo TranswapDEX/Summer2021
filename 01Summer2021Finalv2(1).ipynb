{
  "nbformat": 4,
  "nbformat_minor": 0,
  "metadata": {
    "accelerator": "GPU",
    "colab": {
      "name": "01Summer2021Finalv2(1).ipynb",
      "provenance": [],
      "collapsed_sections": [],
      "include_colab_link": true
    },
    "kernelspec": {
      "display_name": "Python 3",
      "name": "python3"
    },
    "language_info": {
      "name": "python"
    }
  },
  "cells": [
    {
      "cell_type": "markdown",
      "metadata": {
        "id": "view-in-github",
        "colab_type": "text"
      },
      "source": [
        "<a href=\"https://colab.research.google.com/github/bamyers2/tantiger/blob/main/01Summer2021Finalv2(1).ipynb\" target=\"_parent\"><img src=\"https://colab.research.google.com/assets/colab-badge.svg\" alt=\"Open In Colab\"/></a>"
      ]
    },
    {
      "cell_type": "code",
      "metadata": {
        "colab": {
          "base_uri": "https://localhost:8080/"
        },
        "id": "ZVmoG7Ad62bI",
        "outputId": "f37bc188-06df-4d98-c084-0fe18b23e93d"
      },
      "source": [
        "%tensorflow_version 1.x"
      ],
      "execution_count": 1,
      "outputs": [
        {
          "output_type": "stream",
          "text": [
            "TensorFlow 1.x selected.\n"
          ],
          "name": "stdout"
        }
      ]
    },
    {
      "cell_type": "code",
      "metadata": {
        "colab": {
          "base_uri": "https://localhost:8080/"
        },
        "id": "cTBFqXMgzPaz",
        "outputId": "6395c44b-177c-447c-d99a-ce61bfcf6930"
      },
      "source": [
        "from google.colab import drive\n",
        "import pandas as pd\n",
        "import numpy as np\n",
        "import tensorflow as tf\n",
        "from sklearn.metrics import classification_report\n",
        "from keras.models import Sequential\n",
        "from keras.layers.core import Flatten, Dense, Dropout\n",
        "from keras.layers.convolutional import Convolution2D, MaxPooling2D, ZeroPadding2D\n",
        "from keras.layers import LeakyReLU\n",
        "from keras.optimizers import Adam\n",
        "import cv2\n",
        "import keras\n",
        "from keras.utils import np_utils\n",
        "from keras.utils.np_utils import to_categorical\n",
        "from sklearn.metrics import confusion_matrix\n",
        "import seaborn as sns\n",
        "from sklearn.model_selection import train_test_split\n",
        "import matplotlib.pyplot as plt\n",
        "import random\n",
        "import csv"
      ],
      "execution_count": 2,
      "outputs": [
        {
          "output_type": "stream",
          "text": [
            "Using TensorFlow backend.\n"
          ],
          "name": "stderr"
        }
      ]
    },
    {
      "cell_type": "code",
      "metadata": {
        "colab": {
          "base_uri": "https://localhost:8080/"
        },
        "id": "JbQQJa1nzaXA",
        "outputId": "8ac2dbbf-cd14-4c6b-f428-a300402caca8"
      },
      "source": [
        "drive.mount('/content/gdrive')"
      ],
      "execution_count": 3,
      "outputs": [
        {
          "output_type": "stream",
          "text": [
            "Drive already mounted at /content/gdrive; to attempt to forcibly remount, call drive.mount(\"/content/gdrive\", force_remount=True).\n"
          ],
          "name": "stdout"
        }
      ]
    },
    {
      "cell_type": "code",
      "metadata": {
        "id": "EATcMjY41f5B"
      },
      "source": [
        "age_data = pd.read_csv('gdrive/My Drive/age_gender.csv')"
      ],
      "execution_count": 4,
      "outputs": []
    },
    {
      "cell_type": "code",
      "metadata": {
        "colab": {
          "base_uri": "https://localhost:8080/",
          "height": 143
        },
        "id": "lVEEAz3_1txB",
        "outputId": "944f665c-e256-4330-d558-aea35d367ef0"
      },
      "source": [
        "age_data.head(3)"
      ],
      "execution_count": 5,
      "outputs": [
        {
          "output_type": "execute_result",
          "data": {
            "text/html": [
              "<div>\n",
              "<style scoped>\n",
              "    .dataframe tbody tr th:only-of-type {\n",
              "        vertical-align: middle;\n",
              "    }\n",
              "\n",
              "    .dataframe tbody tr th {\n",
              "        vertical-align: top;\n",
              "    }\n",
              "\n",
              "    .dataframe thead th {\n",
              "        text-align: right;\n",
              "    }\n",
              "</style>\n",
              "<table border=\"1\" class=\"dataframe\">\n",
              "  <thead>\n",
              "    <tr style=\"text-align: right;\">\n",
              "      <th></th>\n",
              "      <th>age</th>\n",
              "      <th>ethnicity</th>\n",
              "      <th>gender</th>\n",
              "      <th>img_name</th>\n",
              "      <th>pixels</th>\n",
              "    </tr>\n",
              "  </thead>\n",
              "  <tbody>\n",
              "    <tr>\n",
              "      <th>0</th>\n",
              "      <td>1</td>\n",
              "      <td>2</td>\n",
              "      <td>0</td>\n",
              "      <td>20161219203650636.jpg.chip.jpg</td>\n",
              "      <td>129 128 128 126 127 130 133 135 139 142 145 14...</td>\n",
              "    </tr>\n",
              "    <tr>\n",
              "      <th>1</th>\n",
              "      <td>1</td>\n",
              "      <td>2</td>\n",
              "      <td>0</td>\n",
              "      <td>20161219222752047.jpg.chip.jpg</td>\n",
              "      <td>164 74 111 168 169 171 175 182 184 188 193 199...</td>\n",
              "    </tr>\n",
              "    <tr>\n",
              "      <th>2</th>\n",
              "      <td>1</td>\n",
              "      <td>2</td>\n",
              "      <td>0</td>\n",
              "      <td>20161219222832191.jpg.chip.jpg</td>\n",
              "      <td>67 70 71 70 69 67 70 79 90 103 116 132 145 155...</td>\n",
              "    </tr>\n",
              "  </tbody>\n",
              "</table>\n",
              "</div>"
            ],
            "text/plain": [
              "   age  ...                                             pixels\n",
              "0    1  ...  129 128 128 126 127 130 133 135 139 142 145 14...\n",
              "1    1  ...  164 74 111 168 169 171 175 182 184 188 193 199...\n",
              "2    1  ...  67 70 71 70 69 67 70 79 90 103 116 132 145 155...\n",
              "\n",
              "[3 rows x 5 columns]"
            ]
          },
          "metadata": {
            "tags": []
          },
          "execution_count": 5
        }
      ]
    },
    {
      "cell_type": "code",
      "metadata": {
        "id": "Z8RvYH8E1xGK"
      },
      "source": [
        "def label_age (row):\n",
        "    if row['age'] > 0 and row['age'] < 3:\n",
        "        return 0\n",
        "    elif row['age'] > 2 and row['age'] < 10:\n",
        "        return 1\n",
        "    elif row['age'] > 9 and row['age'] < 21:\n",
        "        return 2\n",
        "    elif row['age'] > 20 and row['age'] < 26:\n",
        "        return 3\n",
        "    elif row['age'] > 25 and row['age'] < 28:\n",
        "        return 4\n",
        "    elif row['age'] > 27 and row['age'] < 32:\n",
        "        return 5\n",
        "    elif row['age'] > 31 and row['age'] < 37:\n",
        "        return 6\n",
        "    elif row['age'] > 36 and row['age'] < 46:\n",
        "        return 7\n",
        "    elif row['age'] > 45 and row['age'] < 55:\n",
        "        return 8\n",
        "    elif row['age'] > 54 and row['age'] < 66:\n",
        "        return 9\n",
        "    else:\n",
        "        return 10"
      ],
      "execution_count": 6,
      "outputs": []
    },
    {
      "cell_type": "code",
      "metadata": {
        "id": "jUdWKHKA105I"
      },
      "source": [
        "age_data['AgeGroup'] = age_data.apply (lambda row: label_age(row), axis=1)"
      ],
      "execution_count": 7,
      "outputs": []
    },
    {
      "cell_type": "code",
      "metadata": {
        "colab": {
          "base_uri": "https://localhost:8080/",
          "height": 143
        },
        "id": "ZXDmAYIm13uk",
        "outputId": "cc4a19d2-f7b3-41dc-a452-a58ce93f6d8d"
      },
      "source": [
        "age_data.head(3)"
      ],
      "execution_count": 8,
      "outputs": [
        {
          "output_type": "execute_result",
          "data": {
            "text/html": [
              "<div>\n",
              "<style scoped>\n",
              "    .dataframe tbody tr th:only-of-type {\n",
              "        vertical-align: middle;\n",
              "    }\n",
              "\n",
              "    .dataframe tbody tr th {\n",
              "        vertical-align: top;\n",
              "    }\n",
              "\n",
              "    .dataframe thead th {\n",
              "        text-align: right;\n",
              "    }\n",
              "</style>\n",
              "<table border=\"1\" class=\"dataframe\">\n",
              "  <thead>\n",
              "    <tr style=\"text-align: right;\">\n",
              "      <th></th>\n",
              "      <th>age</th>\n",
              "      <th>ethnicity</th>\n",
              "      <th>gender</th>\n",
              "      <th>img_name</th>\n",
              "      <th>pixels</th>\n",
              "      <th>AgeGroup</th>\n",
              "    </tr>\n",
              "  </thead>\n",
              "  <tbody>\n",
              "    <tr>\n",
              "      <th>0</th>\n",
              "      <td>1</td>\n",
              "      <td>2</td>\n",
              "      <td>0</td>\n",
              "      <td>20161219203650636.jpg.chip.jpg</td>\n",
              "      <td>129 128 128 126 127 130 133 135 139 142 145 14...</td>\n",
              "      <td>0</td>\n",
              "    </tr>\n",
              "    <tr>\n",
              "      <th>1</th>\n",
              "      <td>1</td>\n",
              "      <td>2</td>\n",
              "      <td>0</td>\n",
              "      <td>20161219222752047.jpg.chip.jpg</td>\n",
              "      <td>164 74 111 168 169 171 175 182 184 188 193 199...</td>\n",
              "      <td>0</td>\n",
              "    </tr>\n",
              "    <tr>\n",
              "      <th>2</th>\n",
              "      <td>1</td>\n",
              "      <td>2</td>\n",
              "      <td>0</td>\n",
              "      <td>20161219222832191.jpg.chip.jpg</td>\n",
              "      <td>67 70 71 70 69 67 70 79 90 103 116 132 145 155...</td>\n",
              "      <td>0</td>\n",
              "    </tr>\n",
              "  </tbody>\n",
              "</table>\n",
              "</div>"
            ],
            "text/plain": [
              "   age  ethnicity  ...                                             pixels AgeGroup\n",
              "0    1          2  ...  129 128 128 126 127 130 133 135 139 142 145 14...        0\n",
              "1    1          2  ...  164 74 111 168 169 171 175 182 184 188 193 199...        0\n",
              "2    1          2  ...  67 70 71 70 69 67 70 79 90 103 116 132 145 155...        0\n",
              "\n",
              "[3 rows x 6 columns]"
            ]
          },
          "metadata": {
            "tags": []
          },
          "execution_count": 8
        }
      ]
    },
    {
      "cell_type": "code",
      "metadata": {
        "id": "cUUVZI1D151K"
      },
      "source": [
        "X = []\n",
        "y = []\n",
        "for index, row in age_data.iterrows():\n",
        "    k = row['pixels'].split(\" \")\n",
        "    X.append(np.array(k))\n",
        "    y.append(row['AgeGroup'])\n",
        "        \n",
        "X_train, X_valid, y_train, y_valid = train_test_split(X, y, train_size=0.93, random_state=42)\n",
        "X_train, X_test, y_train, y_test = train_test_split(X_train, y_train, train_size=0.32/0.6 , random_state=42)"
      ],
      "execution_count": 9,
      "outputs": []
    },
    {
      "cell_type": "code",
      "metadata": {
        "colab": {
          "base_uri": "https://localhost:8080/"
        },
        "id": "fNZ8QpaVaYvj",
        "outputId": "e5a4d112-a819-4470-cc03-fda31850bee4"
      },
      "source": [
        "len(X_valid)/(len(X_train)+len(X_valid)+len(X_test))"
      ],
      "execution_count": 10,
      "outputs": [
        {
          "output_type": "execute_result",
          "data": {
            "text/plain": [
              "0.07002742037544822"
            ]
          },
          "metadata": {
            "tags": []
          },
          "execution_count": 10
        }
      ]
    },
    {
      "cell_type": "code",
      "metadata": {
        "colab": {
          "base_uri": "https://localhost:8080/"
        },
        "id": "Ym0Qcv1Aab-E",
        "outputId": "354d28e1-cc98-4527-c4cd-3f8d243be11a"
      },
      "source": [
        "len(X_train)/(len(X_train)+len(X_valid)+len(X_test))"
      ],
      "execution_count": 11,
      "outputs": [
        {
          "output_type": "execute_result",
          "data": {
            "text/plain": [
              "0.4959713140687619"
            ]
          },
          "metadata": {
            "tags": []
          },
          "execution_count": 11
        }
      ]
    },
    {
      "cell_type": "code",
      "metadata": {
        "colab": {
          "base_uri": "https://localhost:8080/"
        },
        "id": "GhBi9dfxacI3",
        "outputId": "cc8ad803-2727-4121-9bbd-ea1fb7860a6b"
      },
      "source": [
        "len(X_test)/(len(X_train)+len(X_valid)+len(X_test))"
      ],
      "execution_count": 12,
      "outputs": [
        {
          "output_type": "execute_result",
          "data": {
            "text/plain": [
              "0.43400126555578994"
            ]
          },
          "metadata": {
            "tags": []
          },
          "execution_count": 12
        }
      ]
    },
    {
      "cell_type": "code",
      "metadata": {
        "id": "h7LBnNeA18Bl"
      },
      "source": [
        "X_train = np.array(X_train)\n",
        "y_train = np.array(y_train)\n",
        "X_valid = np.array(X_valid)\n",
        "y_valid = np.array(y_valid)\n",
        "X_test = np.array(X_test)\n",
        "y_test = np.array(y_test)\n",
        "\n",
        "X_train1 = X_train.reshape(X_train.shape[0], 48, 48, 1)\n",
        "X_valid1 = X_valid.reshape(X_valid.shape[0], 48, 48, 1)\n",
        "X_test1 = X_test.reshape(X_test.shape[0], 48, 48, 1)\n",
        "\n",
        "y_train1 = np_utils.to_categorical(y_train, num_classes = 11)\n",
        "y_valid1 = np_utils.to_categorical(y_valid, num_classes = 11)\n",
        "y_test1 = np_utils.to_categorical(y_test, num_classes = 11)"
      ],
      "execution_count": 13,
      "outputs": []
    },
    {
      "cell_type": "code",
      "metadata": {
        "colab": {
          "base_uri": "https://localhost:8080/"
        },
        "id": "Hhprhdk72EAN",
        "outputId": "b873e919-b64c-4b65-85cd-f227871e4587"
      },
      "source": [
        "model = Sequential()\n",
        "model.add(ZeroPadding2D((1,1),input_shape=(48,48,1)))\n",
        "model.add(Convolution2D(64, (3, 3), activation=\"relu\"))\n",
        "model.add(ZeroPadding2D((1,1)))\n",
        "model.add(Convolution2D(64, (3, 3), activation=\"relu\"))\n",
        "model.add(MaxPooling2D((2,2), strides=(2,2)))\n",
        "\n",
        "model.add(ZeroPadding2D((1,1)))\n",
        "model.add(Convolution2D(128, (3, 3), activation=\"relu\"))\n",
        "model.add(ZeroPadding2D((1,1)))\n",
        "model.add(Convolution2D(128, (3, 3), activation=\"relu\"))\n",
        "model.add(MaxPooling2D((2,2), strides=(2,2)))\n",
        "\n",
        "model.add(ZeroPadding2D((1,1)))\n",
        "model.add(Convolution2D(256, (3, 3), activation=\"relu\"))\n",
        "model.add(ZeroPadding2D((1,1)))\n",
        "model.add(Convolution2D(256, (3, 3), activation=\"relu\"))\n",
        "model.add(ZeroPadding2D((1,1)))\n",
        "model.add(Convolution2D(256, (3, 3), activation=\"relu\"))\n",
        "model.add(MaxPooling2D((2,2), strides=(2,2)))\n",
        "\n",
        "model.add(ZeroPadding2D((1,1)))\n",
        "model.add(Convolution2D(512, (3, 3), activation=\"relu\"))\n",
        "model.add(ZeroPadding2D((1,1)))\n",
        "model.add(Convolution2D(512, (3, 3), activation=\"relu\"))\n",
        "model.add(ZeroPadding2D((1,1)))\n",
        "model.add(Convolution2D(512, (3, 3), activation=\"relu\"))\n",
        "model.add(MaxPooling2D((2,2), strides=(2,2)))\n",
        "\n",
        "model.add(ZeroPadding2D((1,1)))\n",
        "model.add(Convolution2D(512, (3, 3), activation=\"relu\"))\n",
        "model.add(ZeroPadding2D((1,1)))\n",
        "model.add(Convolution2D(512, (3, 3), activation=\"relu\"))\n",
        "model.add(ZeroPadding2D((1,1)))\n",
        "model.add(Convolution2D(512, (3, 3), activation=\"relu\"))\n",
        "model.add(MaxPooling2D((2,2), strides=(2,2)))\n",
        "\n",
        "model.add(Flatten())\n",
        "model.add(Dense(4096, activation='relu'))\n",
        "model.add(Dropout(0.5))\n",
        "model.add(Dense(4096, activation='relu'))\n",
        "model.add(Dropout(0.5))\n",
        "model.add(Dense(11, activation='softmax'))"
      ],
      "execution_count": 14,
      "outputs": [
        {
          "output_type": "stream",
          "text": [
            "WARNING:tensorflow:From /tensorflow-1.15.2/python3.7/tensorflow_core/python/ops/resource_variable_ops.py:1630: calling BaseResourceVariable.__init__ (from tensorflow.python.ops.resource_variable_ops) with constraint is deprecated and will be removed in a future version.\n",
            "Instructions for updating:\n",
            "If using Keras pass *_constraint arguments to layers.\n",
            "WARNING:tensorflow:From /tensorflow-1.15.2/python3.7/keras/backend/tensorflow_backend.py:4070: The name tf.nn.max_pool is deprecated. Please use tf.nn.max_pool2d instead.\n",
            "\n"
          ],
          "name": "stdout"
        }
      ]
    },
    {
      "cell_type": "code",
      "metadata": {
        "id": "gKJd7J292HA8"
      },
      "source": [
        "model.compile(optimizer= 'sgd', loss='categorical_crossentropy', metrics=['accuracy'])"
      ],
      "execution_count": 15,
      "outputs": []
    },
    {
      "cell_type": "code",
      "metadata": {
        "colab": {
          "base_uri": "https://localhost:8080/"
        },
        "id": "nHUlxhZF2I9X",
        "outputId": "20a66e71-9b9d-4a24-d4fd-3058a3ce9877"
      },
      "source": [
        "model.fit(X_train1, y_train1, batch_size=32, epochs=7, verbose=1, validation_data=(X_valid1, y_valid1))"
      ],
      "execution_count": 16,
      "outputs": [
        {
          "output_type": "stream",
          "text": [
            "WARNING:tensorflow:From /tensorflow-1.15.2/python3.7/keras/backend/tensorflow_backend.py:422: The name tf.global_variables is deprecated. Please use tf.compat.v1.global_variables instead.\n",
            "\n",
            "Train on 11757 samples, validate on 1660 samples\n",
            "Epoch 1/7\n",
            "11757/11757 [==============================] - 30s 3ms/step - loss: 2.3759 - accuracy: 0.1105 - val_loss: 2.3564 - val_accuracy: 0.1235\n",
            "Epoch 2/7\n",
            "11757/11757 [==============================] - 27s 2ms/step - loss: 2.3301 - accuracy: 0.1325 - val_loss: 2.2890 - val_accuracy: 0.1410\n",
            "Epoch 3/7\n",
            "11757/11757 [==============================] - 27s 2ms/step - loss: 2.2218 - accuracy: 0.1709 - val_loss: 2.0877 - val_accuracy: 0.2030\n",
            "Epoch 4/7\n",
            "11757/11757 [==============================] - 27s 2ms/step - loss: 2.0336 - accuracy: 0.2266 - val_loss: 1.9327 - val_accuracy: 0.2620\n",
            "Epoch 5/7\n",
            "11757/11757 [==============================] - 27s 2ms/step - loss: 1.9019 - accuracy: 0.2622 - val_loss: 1.8110 - val_accuracy: 0.3060\n",
            "Epoch 6/7\n",
            "11757/11757 [==============================] - 27s 2ms/step - loss: 1.7976 - accuracy: 0.3037 - val_loss: 1.7336 - val_accuracy: 0.3151\n",
            "Epoch 7/7\n",
            "11757/11757 [==============================] - 27s 2ms/step - loss: 1.7192 - accuracy: 0.3173 - val_loss: 1.7900 - val_accuracy: 0.2922\n"
          ],
          "name": "stdout"
        },
        {
          "output_type": "execute_result",
          "data": {
            "text/plain": [
              "<keras.callbacks.callbacks.History at 0x7f4303f91c90>"
            ]
          },
          "metadata": {
            "tags": []
          },
          "execution_count": 16
        }
      ]
    },
    {
      "cell_type": "code",
      "metadata": {
        "id": "VMjWgB6pWtbd",
        "colab": {
          "base_uri": "https://localhost:8080/"
        },
        "outputId": "1957175c-2099-4c8c-b5e1-9329df57ef9d"
      },
      "source": [
        "Y_test1 = np.argmax(y_test1, axis=1)\n",
        "y_pred1 = model.predict_classes(X_test1)\n",
        "target_names = ['1-2', '3-9', '10-20', '21-25', '26-27', '28-31', '32-36', '37-45', '46-54', '55-65', '66-116']\n",
        "print(classification_report(Y_test1, y_pred1, target_names = target_names))"
      ],
      "execution_count": 17,
      "outputs": [
        {
          "output_type": "stream",
          "text": [
            "              precision    recall  f1-score   support\n",
            "\n",
            "         1-2       0.84      0.80      0.82       736\n",
            "         3-9       0.55      0.58      0.56       635\n",
            "       10-20       0.28      0.34      0.31       787\n",
            "       21-25       0.25      0.70      0.37      1174\n",
            "       26-27       0.23      0.01      0.02      1245\n",
            "       28-31       0.22      0.10      0.14      1081\n",
            "       32-36       0.25      0.00      0.00      1116\n",
            "       37-45       0.21      0.67      0.31      1095\n",
            "       46-54       0.00      0.00      0.00       865\n",
            "       55-65       0.36      0.13      0.19       848\n",
            "      66-116       0.72      0.29      0.42       706\n",
            "\n",
            "    accuracy                           0.31     10288\n",
            "   macro avg       0.35      0.33      0.29     10288\n",
            "weighted avg       0.32      0.31      0.25     10288\n",
            "\n"
          ],
          "name": "stdout"
        },
        {
          "output_type": "stream",
          "text": [
            "/usr/local/lib/python3.7/dist-packages/sklearn/metrics/_classification.py:1272: UndefinedMetricWarning: Precision and F-score are ill-defined and being set to 0.0 in labels with no predicted samples. Use `zero_division` parameter to control this behavior.\n",
            "  _warn_prf(average, modifier, msg_start, len(result))\n"
          ],
          "name": "stderr"
        }
      ]
    },
    {
      "cell_type": "code",
      "metadata": {
        "id": "5RHBRIYVW9H9",
        "colab": {
          "base_uri": "https://localhost:8080/"
        },
        "outputId": "2ff247e3-3589-4350-b50a-b4fc2b647117"
      },
      "source": [
        "cm = confusion_matrix(y_test1.argmax(axis=1), y_pred1)\n",
        "print(cm)"
      ],
      "execution_count": 18,
      "outputs": [
        {
          "output_type": "stream",
          "text": [
            "[[588 127  10   3   0   0   0   6   0   0   2]\n",
            " [112 368 122  22   0   0   0   9   0   0   2]\n",
            " [  0 104 269 329   2  16   0  67   0   0   0]\n",
            " [  0  12 133 824   4  59   0 142   0   0   0]\n",
            " [  1  12 109 784  12  88   0 238   0   0   1]\n",
            " [  0  10  89 532  10 110   1 327   0   1   1]\n",
            " [  0   4  49 423   8 100   1 525   0   4   2]\n",
            " [  0   6  53 212  10  70   0 732   0  10   2]\n",
            " [  0   7  37  82   6  41   1 636   0  44  11]\n",
            " [  0   3  39  33   1  16   1 589   0 108  58]\n",
            " [  0  21  34  12   0   2   0 296   0 135 206]]\n"
          ],
          "name": "stdout"
        }
      ]
    },
    {
      "cell_type": "code",
      "metadata": {
        "id": "aGMs94NcW_Rq",
        "colab": {
          "base_uri": "https://localhost:8080/",
          "height": 690
        },
        "outputId": "b30726db-2b9c-45d3-a6ec-262023888a09"
      },
      "source": [
        "fig,ax= plt.subplots(figsize=(11,11))\n",
        "sns.heatmap(cm / (cm.astype(np.float).sum(axis=1, keepdims=True)), annot=True, fmt='.1%', cmap='Blues')\n",
        "#sns.heatmap(cm, annot=True, fmt='.0f',cmap='Blues')\n",
        "ax.set_xlabel('Predicted', size=20);\n",
        "ax.set_ylabel('True', size=20);\n",
        "ax.set_title('Confusion Matrix', size=20);\n",
        "ax.xaxis.set_ticklabels(target_names, size=10); \\\n",
        "ax.yaxis.set_ticklabels(target_names, size=10);"
      ],
      "execution_count": 19,
      "outputs": [
        {
          "output_type": "display_data",
          "data": {
            "image/png": "[encoded data removed]",
            "text/plain": [
              "<Figure size 792x792 with 2 Axes>"
            ]
          },
          "metadata": {
            "tags": [],
            "needs_background": "light"
          }
        }
      ]
    },
    {
      "cell_type": "code",
      "metadata": {
        "id": "LwU-RG8R8cS3"
      },
      "source": [
        "aa = pd.DataFrame(y_pred1)"
      ],
      "execution_count": 20,
      "outputs": []
    },
    {
      "cell_type": "code",
      "metadata": {
        "id": "ZMroLQj2AfAc",
        "colab": {
          "base_uri": "https://localhost:8080/",
          "height": 206
        },
        "outputId": "7d54cca7-8081-4e7b-e0a7-042ac484a82c"
      },
      "source": [
        "aa.head()"
      ],
      "execution_count": 21,
      "outputs": [
        {
          "output_type": "execute_result",
          "data": {
            "text/html": [
              "<div>\n",
              "<style scoped>\n",
              "    .dataframe tbody tr th:only-of-type {\n",
              "        vertical-align: middle;\n",
              "    }\n",
              "\n",
              "    .dataframe tbody tr th {\n",
              "        vertical-align: top;\n",
              "    }\n",
              "\n",
              "    .dataframe thead th {\n",
              "        text-align: right;\n",
              "    }\n",
              "</style>\n",
              "<table border=\"1\" class=\"dataframe\">\n",
              "  <thead>\n",
              "    <tr style=\"text-align: right;\">\n",
              "      <th></th>\n",
              "      <th>0</th>\n",
              "    </tr>\n",
              "  </thead>\n",
              "  <tbody>\n",
              "    <tr>\n",
              "      <th>0</th>\n",
              "      <td>5</td>\n",
              "    </tr>\n",
              "    <tr>\n",
              "      <th>1</th>\n",
              "      <td>3</td>\n",
              "    </tr>\n",
              "    <tr>\n",
              "      <th>2</th>\n",
              "      <td>7</td>\n",
              "    </tr>\n",
              "    <tr>\n",
              "      <th>3</th>\n",
              "      <td>6</td>\n",
              "    </tr>\n",
              "    <tr>\n",
              "      <th>4</th>\n",
              "      <td>0</td>\n",
              "    </tr>\n",
              "  </tbody>\n",
              "</table>\n",
              "</div>"
            ],
            "text/plain": [
              "   0\n",
              "0  5\n",
              "1  3\n",
              "2  7\n",
              "3  6\n",
              "4  0"
            ]
          },
          "metadata": {
            "tags": []
          },
          "execution_count": 21
        }
      ]
    },
    {
      "cell_type": "code",
      "metadata": {
        "id": "I56ZP3tkHnhB"
      },
      "source": [
        "aaFinal = pd.DataFrame(y_test1)"
      ],
      "execution_count": 22,
      "outputs": []
    },
    {
      "cell_type": "code",
      "metadata": {
        "id": "hB6IosaeKBsD",
        "colab": {
          "base_uri": "https://localhost:8080/"
        },
        "outputId": "398ecb9f-761d-4cc5-dc6c-779b35899ac1"
      },
      "source": [
        "aaFinal[0].values[1]"
      ],
      "execution_count": 23,
      "outputs": [
        {
          "output_type": "execute_result",
          "data": {
            "text/plain": [
              "0.0"
            ]
          },
          "metadata": {
            "tags": []
          },
          "execution_count": 23
        }
      ]
    },
    {
      "cell_type": "code",
      "metadata": {
        "id": "wLtr7-qrybU3"
      },
      "source": [
        "aaFinal['aa'] = aa[0]"
      ],
      "execution_count": 24,
      "outputs": []
    },
    {
      "cell_type": "code",
      "metadata": {
        "id": "ILQpxTqtybjD",
        "colab": {
          "base_uri": "https://localhost:8080/",
          "height": 206
        },
        "outputId": "992cf3a1-5861-4db9-85f1-b7b488cda828"
      },
      "source": [
        "aaFinal.head()"
      ],
      "execution_count": 25,
      "outputs": [
        {
          "output_type": "execute_result",
          "data": {
            "text/html": [
              "<div>\n",
              "<style scoped>\n",
              "    .dataframe tbody tr th:only-of-type {\n",
              "        vertical-align: middle;\n",
              "    }\n",
              "\n",
              "    .dataframe tbody tr th {\n",
              "        vertical-align: top;\n",
              "    }\n",
              "\n",
              "    .dataframe thead th {\n",
              "        text-align: right;\n",
              "    }\n",
              "</style>\n",
              "<table border=\"1\" class=\"dataframe\">\n",
              "  <thead>\n",
              "    <tr style=\"text-align: right;\">\n",
              "      <th></th>\n",
              "      <th>0</th>\n",
              "      <th>1</th>\n",
              "      <th>2</th>\n",
              "      <th>3</th>\n",
              "      <th>4</th>\n",
              "      <th>5</th>\n",
              "      <th>6</th>\n",
              "      <th>7</th>\n",
              "      <th>8</th>\n",
              "      <th>9</th>\n",
              "      <th>10</th>\n",
              "      <th>aa</th>\n",
              "    </tr>\n",
              "  </thead>\n",
              "  <tbody>\n",
              "    <tr>\n",
              "      <th>0</th>\n",
              "      <td>0.0</td>\n",
              "      <td>0.0</td>\n",
              "      <td>0.0</td>\n",
              "      <td>0.0</td>\n",
              "      <td>0.0</td>\n",
              "      <td>1.0</td>\n",
              "      <td>0.0</td>\n",
              "      <td>0.0</td>\n",
              "      <td>0.0</td>\n",
              "      <td>0.0</td>\n",
              "      <td>0.0</td>\n",
              "      <td>5</td>\n",
              "    </tr>\n",
              "    <tr>\n",
              "      <th>1</th>\n",
              "      <td>0.0</td>\n",
              "      <td>0.0</td>\n",
              "      <td>0.0</td>\n",
              "      <td>0.0</td>\n",
              "      <td>0.0</td>\n",
              "      <td>0.0</td>\n",
              "      <td>1.0</td>\n",
              "      <td>0.0</td>\n",
              "      <td>0.0</td>\n",
              "      <td>0.0</td>\n",
              "      <td>0.0</td>\n",
              "      <td>3</td>\n",
              "    </tr>\n",
              "    <tr>\n",
              "      <th>2</th>\n",
              "      <td>0.0</td>\n",
              "      <td>0.0</td>\n",
              "      <td>0.0</td>\n",
              "      <td>0.0</td>\n",
              "      <td>0.0</td>\n",
              "      <td>0.0</td>\n",
              "      <td>0.0</td>\n",
              "      <td>1.0</td>\n",
              "      <td>0.0</td>\n",
              "      <td>0.0</td>\n",
              "      <td>0.0</td>\n",
              "      <td>7</td>\n",
              "    </tr>\n",
              "    <tr>\n",
              "      <th>3</th>\n",
              "      <td>0.0</td>\n",
              "      <td>0.0</td>\n",
              "      <td>0.0</td>\n",
              "      <td>0.0</td>\n",
              "      <td>0.0</td>\n",
              "      <td>0.0</td>\n",
              "      <td>0.0</td>\n",
              "      <td>0.0</td>\n",
              "      <td>0.0</td>\n",
              "      <td>1.0</td>\n",
              "      <td>0.0</td>\n",
              "      <td>6</td>\n",
              "    </tr>\n",
              "    <tr>\n",
              "      <th>4</th>\n",
              "      <td>1.0</td>\n",
              "      <td>0.0</td>\n",
              "      <td>0.0</td>\n",
              "      <td>0.0</td>\n",
              "      <td>0.0</td>\n",
              "      <td>0.0</td>\n",
              "      <td>0.0</td>\n",
              "      <td>0.0</td>\n",
              "      <td>0.0</td>\n",
              "      <td>0.0</td>\n",
              "      <td>0.0</td>\n",
              "      <td>0</td>\n",
              "    </tr>\n",
              "  </tbody>\n",
              "</table>\n",
              "</div>"
            ],
            "text/plain": [
              "     0    1    2    3    4    5    6    7    8    9   10  aa\n",
              "0  0.0  0.0  0.0  0.0  0.0  1.0  0.0  0.0  0.0  0.0  0.0   5\n",
              "1  0.0  0.0  0.0  0.0  0.0  0.0  1.0  0.0  0.0  0.0  0.0   3\n",
              "2  0.0  0.0  0.0  0.0  0.0  0.0  0.0  1.0  0.0  0.0  0.0   7\n",
              "3  0.0  0.0  0.0  0.0  0.0  0.0  0.0  0.0  0.0  1.0  0.0   6\n",
              "4  1.0  0.0  0.0  0.0  0.0  0.0  0.0  0.0  0.0  0.0  0.0   0"
            ]
          },
          "metadata": {
            "tags": []
          },
          "execution_count": 25
        }
      ]
    },
    {
      "cell_type": "code",
      "metadata": {
        "id": "ipe1OdejytJO"
      },
      "source": [
        "def label_age (row):\n",
        "    if row[row['aa']] == 1.0:\n",
        "        return 1\n",
        "    else:\n",
        "        return 0"
      ],
      "execution_count": 26,
      "outputs": []
    },
    {
      "cell_type": "code",
      "metadata": {
        "id": "HnDXpIX_ywLs"
      },
      "source": [
        "aaFinal['YorN'] = aaFinal.apply (lambda row: label_age(row), axis=1)"
      ],
      "execution_count": 27,
      "outputs": []
    },
    {
      "cell_type": "code",
      "metadata": {
        "id": "-ZHnH9YiyyOF",
        "colab": {
          "base_uri": "https://localhost:8080/",
          "height": 206
        },
        "outputId": "ac6f9424-e137-431e-a5e6-28f95adb985f"
      },
      "source": [
        "aaFinal.head()"
      ],
      "execution_count": 28,
      "outputs": [
        {
          "output_type": "execute_result",
          "data": {
            "text/html": [
              "<div>\n",
              "<style scoped>\n",
              "    .dataframe tbody tr th:only-of-type {\n",
              "        vertical-align: middle;\n",
              "    }\n",
              "\n",
              "    .dataframe tbody tr th {\n",
              "        vertical-align: top;\n",
              "    }\n",
              "\n",
              "    .dataframe thead th {\n",
              "        text-align: right;\n",
              "    }\n",
              "</style>\n",
              "<table border=\"1\" class=\"dataframe\">\n",
              "  <thead>\n",
              "    <tr style=\"text-align: right;\">\n",
              "      <th></th>\n",
              "      <th>0</th>\n",
              "      <th>1</th>\n",
              "      <th>2</th>\n",
              "      <th>3</th>\n",
              "      <th>4</th>\n",
              "      <th>5</th>\n",
              "      <th>6</th>\n",
              "      <th>7</th>\n",
              "      <th>8</th>\n",
              "      <th>9</th>\n",
              "      <th>10</th>\n",
              "      <th>aa</th>\n",
              "      <th>YorN</th>\n",
              "    </tr>\n",
              "  </thead>\n",
              "  <tbody>\n",
              "    <tr>\n",
              "      <th>0</th>\n",
              "      <td>0.0</td>\n",
              "      <td>0.0</td>\n",
              "      <td>0.0</td>\n",
              "      <td>0.0</td>\n",
              "      <td>0.0</td>\n",
              "      <td>1.0</td>\n",
              "      <td>0.0</td>\n",
              "      <td>0.0</td>\n",
              "      <td>0.0</td>\n",
              "      <td>0.0</td>\n",
              "      <td>0.0</td>\n",
              "      <td>5</td>\n",
              "      <td>1</td>\n",
              "    </tr>\n",
              "    <tr>\n",
              "      <th>1</th>\n",
              "      <td>0.0</td>\n",
              "      <td>0.0</td>\n",
              "      <td>0.0</td>\n",
              "      <td>0.0</td>\n",
              "      <td>0.0</td>\n",
              "      <td>0.0</td>\n",
              "      <td>1.0</td>\n",
              "      <td>0.0</td>\n",
              "      <td>0.0</td>\n",
              "      <td>0.0</td>\n",
              "      <td>0.0</td>\n",
              "      <td>3</td>\n",
              "      <td>0</td>\n",
              "    </tr>\n",
              "    <tr>\n",
              "      <th>2</th>\n",
              "      <td>0.0</td>\n",
              "      <td>0.0</td>\n",
              "      <td>0.0</td>\n",
              "      <td>0.0</td>\n",
              "      <td>0.0</td>\n",
              "      <td>0.0</td>\n",
              "      <td>0.0</td>\n",
              "      <td>1.0</td>\n",
              "      <td>0.0</td>\n",
              "      <td>0.0</td>\n",
              "      <td>0.0</td>\n",
              "      <td>7</td>\n",
              "      <td>1</td>\n",
              "    </tr>\n",
              "    <tr>\n",
              "      <th>3</th>\n",
              "      <td>0.0</td>\n",
              "      <td>0.0</td>\n",
              "      <td>0.0</td>\n",
              "      <td>0.0</td>\n",
              "      <td>0.0</td>\n",
              "      <td>0.0</td>\n",
              "      <td>0.0</td>\n",
              "      <td>0.0</td>\n",
              "      <td>0.0</td>\n",
              "      <td>1.0</td>\n",
              "      <td>0.0</td>\n",
              "      <td>6</td>\n",
              "      <td>0</td>\n",
              "    </tr>\n",
              "    <tr>\n",
              "      <th>4</th>\n",
              "      <td>1.0</td>\n",
              "      <td>0.0</td>\n",
              "      <td>0.0</td>\n",
              "      <td>0.0</td>\n",
              "      <td>0.0</td>\n",
              "      <td>0.0</td>\n",
              "      <td>0.0</td>\n",
              "      <td>0.0</td>\n",
              "      <td>0.0</td>\n",
              "      <td>0.0</td>\n",
              "      <td>0.0</td>\n",
              "      <td>0</td>\n",
              "      <td>1</td>\n",
              "    </tr>\n",
              "  </tbody>\n",
              "</table>\n",
              "</div>"
            ],
            "text/plain": [
              "     0    1    2    3    4    5    6    7    8    9   10  aa  YorN\n",
              "0  0.0  0.0  0.0  0.0  0.0  1.0  0.0  0.0  0.0  0.0  0.0   5     1\n",
              "1  0.0  0.0  0.0  0.0  0.0  0.0  1.0  0.0  0.0  0.0  0.0   3     0\n",
              "2  0.0  0.0  0.0  0.0  0.0  0.0  0.0  1.0  0.0  0.0  0.0   7     1\n",
              "3  0.0  0.0  0.0  0.0  0.0  0.0  0.0  0.0  0.0  1.0  0.0   6     0\n",
              "4  1.0  0.0  0.0  0.0  0.0  0.0  0.0  0.0  0.0  0.0  0.0   0     1"
            ]
          },
          "metadata": {
            "tags": []
          },
          "execution_count": 28
        }
      ]
    },
    {
      "cell_type": "code",
      "metadata": {
        "id": "GTTUiGEXyyUO",
        "colab": {
          "base_uri": "https://localhost:8080/"
        },
        "outputId": "8c17c16d-27da-459f-e030-168fdba25889"
      },
      "source": [
        "aaFinal.shape[0]"
      ],
      "execution_count": 29,
      "outputs": [
        {
          "output_type": "execute_result",
          "data": {
            "text/plain": [
              "10288"
            ]
          },
          "metadata": {
            "tags": []
          },
          "execution_count": 29
        }
      ]
    },
    {
      "cell_type": "code",
      "metadata": {
        "id": "4S28sp561Ln2"
      },
      "source": [
        "X_test22 = X_test.tolist()"
      ],
      "execution_count": 30,
      "outputs": []
    },
    {
      "cell_type": "code",
      "metadata": {
        "id": "sDwLuTNA1M5l"
      },
      "source": [
        "con = 0\n",
        "for i in range(aaFinal.shape[0]):\n",
        "    if aaFinal['YorN'].values[i] == 0:\n",
        "        X_test22.remove(X_test22[i-con])\n",
        "        con += 1"
      ],
      "execution_count": 31,
      "outputs": []
    },
    {
      "cell_type": "code",
      "metadata": {
        "id": "wHT4czxy20j2"
      },
      "source": [
        "X_test22 = np.array(X_test22)"
      ],
      "execution_count": 32,
      "outputs": []
    },
    {
      "cell_type": "code",
      "metadata": {
        "id": "CIgLTjfP28qE",
        "colab": {
          "base_uri": "https://localhost:8080/"
        },
        "outputId": "03ebc710-2982-4287-9ae0-33f578a59b80"
      },
      "source": [
        "X_test22[0]"
      ],
      "execution_count": 33,
      "outputs": [
        {
          "output_type": "execute_result",
          "data": {
            "text/plain": [
              "array(['9', '13', '14', ..., '10', '12', '15'], dtype='<U3')"
            ]
          },
          "metadata": {
            "tags": []
          },
          "execution_count": 33
        }
      ]
    },
    {
      "cell_type": "code",
      "metadata": {
        "id": "PuWQsXsu280f",
        "colab": {
          "base_uri": "https://localhost:8080/"
        },
        "outputId": "57ad476b-eca0-47e9-f89f-60683f2c11ec"
      },
      "source": [
        "X_test[1]"
      ],
      "execution_count": 34,
      "outputs": [
        {
          "output_type": "execute_result",
          "data": {
            "text/plain": [
              "array(['36', '33', '32', ..., '28', '31', '25'], dtype='<U3')"
            ]
          },
          "metadata": {
            "tags": []
          },
          "execution_count": 34
        }
      ]
    },
    {
      "cell_type": "code",
      "metadata": {
        "id": "f0s8q2GV20wJ"
      },
      "source": [
        "X_test22 = X_test22.tolist()"
      ],
      "execution_count": 35,
      "outputs": []
    },
    {
      "cell_type": "code",
      "metadata": {
        "id": "rm7QuThusKDs"
      },
      "source": [
        "X_test23 = X_test22"
      ],
      "execution_count": 36,
      "outputs": []
    },
    {
      "cell_type": "code",
      "metadata": {
        "id": "FNf4wOO5c68-",
        "colab": {
          "base_uri": "https://localhost:8080/"
        },
        "outputId": "bb58874f-e43d-4df1-a9ca-a99b33b6c236"
      },
      "source": [
        "len(X_test22)"
      ],
      "execution_count": 37,
      "outputs": [
        {
          "output_type": "execute_result",
          "data": {
            "text/plain": [
              "3218"
            ]
          },
          "metadata": {
            "tags": []
          },
          "execution_count": 37
        }
      ]
    },
    {
      "cell_type": "code",
      "metadata": {
        "id": "XUqBnaDfc-y8"
      },
      "source": [
        "div = int(round(len(X_test22) * .1, 0))"
      ],
      "execution_count": 38,
      "outputs": []
    },
    {
      "cell_type": "code",
      "metadata": {
        "id": "xKhT3Sbqc_Bb",
        "colab": {
          "base_uri": "https://localhost:8080/"
        },
        "outputId": "818b96f9-f358-4782-d607-6ce591de059d"
      },
      "source": [
        "div"
      ],
      "execution_count": 39,
      "outputs": [
        {
          "output_type": "execute_result",
          "data": {
            "text/plain": [
              "322"
            ]
          },
          "metadata": {
            "tags": []
          },
          "execution_count": 39
        }
      ]
    },
    {
      "cell_type": "code",
      "metadata": {
        "id": "ornXhQ7PdGOL"
      },
      "source": [
        "val = random.sample(X_test22, div)"
      ],
      "execution_count": 40,
      "outputs": []
    },
    {
      "cell_type": "code",
      "metadata": {
        "id": "FaP9h1gWdGhs"
      },
      "source": [
        "train0 = []\n",
        "\n",
        "for i in X_test22:\n",
        "    if i not in val:\n",
        "        train0.append(i)"
      ],
      "execution_count": 41,
      "outputs": []
    },
    {
      "cell_type": "code",
      "metadata": {
        "id": "YJa86TxMtd6W"
      },
      "source": [
        "val0 = []\n",
        "\n",
        "for i in X_test22:\n",
        "    if i in val:\n",
        "        val0.append(i)"
      ],
      "execution_count": 42,
      "outputs": []
    },
    {
      "cell_type": "code",
      "metadata": {
        "id": "88UcYG7HdUkO",
        "colab": {
          "base_uri": "https://localhost:8080/"
        },
        "outputId": "6caa23d3-9ddf-4236-e36a-de1a84c4f05d"
      },
      "source": [
        "len(train0)/len(val0)"
      ],
      "execution_count": 43,
      "outputs": [
        {
          "output_type": "execute_result",
          "data": {
            "text/plain": [
              "8.932098765432098"
            ]
          },
          "metadata": {
            "tags": []
          },
          "execution_count": 43
        }
      ]
    },
    {
      "cell_type": "code",
      "metadata": {
        "id": "MUCZXDorc7T-"
      },
      "source": [
        "y_test22 = y_test.tolist()"
      ],
      "execution_count": 44,
      "outputs": []
    },
    {
      "cell_type": "code",
      "metadata": {
        "id": "3hM_wtLBjXt4"
      },
      "source": [
        "y_train0 = []\n",
        "y_val0 = []\n",
        "\n",
        "for i in val0:\n",
        "    y_val0.append(y_test22[X_test23.index(i)])\n",
        "\n",
        "for i in train0:\n",
        "    y_train0.append(y_test22[X_test23.index(i)])"
      ],
      "execution_count": 45,
      "outputs": []
    },
    {
      "cell_type": "code",
      "metadata": {
        "id": "ycTeper6jX8r",
        "colab": {
          "base_uri": "https://localhost:8080/"
        },
        "outputId": "5574ec99-4fb6-4ade-b5d9-a24c0ba53a2b"
      },
      "source": [
        "len(y_train0)/len(y_val0)"
      ],
      "execution_count": 46,
      "outputs": [
        {
          "output_type": "execute_result",
          "data": {
            "text/plain": [
              "8.932098765432098"
            ]
          },
          "metadata": {
            "tags": []
          },
          "execution_count": 46
        }
      ]
    },
    {
      "cell_type": "code",
      "metadata": {
        "id": "H3rvWvZBRcl-"
      },
      "source": [
        "train00 = pd.read_csv('gdrive/My Drive/train0.csv')\n",
        "val00 = pd.read_csv('gdrive/My Drive/val0.csv')\n",
        "y_train00 = pd.read_csv('gdrive/My Drive/y_train0.csv')\n",
        "y_val00 = pd.read_csv('gdrive/My Drive/y_val0.csv')"
      ],
      "execution_count": 47,
      "outputs": []
    },
    {
      "cell_type": "code",
      "metadata": {
        "id": "n3_g9h7KRh83"
      },
      "source": [
        "train00 = train00.values.tolist()\n",
        "val00 = val00.values.tolist()\n",
        "y_train00 = y_train00.values.tolist()\n",
        "y_val00 = y_val00.values.tolist()"
      ],
      "execution_count": 48,
      "outputs": []
    },
    {
      "cell_type": "code",
      "metadata": {
        "id": "Br_TN2aMhl6A",
        "colab": {
          "base_uri": "https://localhost:8080/"
        },
        "outputId": "c51bd91f-ac95-4f8b-aa58-bd54e6bf9c5a"
      },
      "source": [
        "print(\"train00: %s\" %len(train00))\n",
        "print(\"val00: %s\" %len(val00))"
      ],
      "execution_count": 49,
      "outputs": [
        {
          "output_type": "stream",
          "text": [
            "train00: 725\n",
            "val00: 81\n"
          ],
          "name": "stdout"
        }
      ]
    },
    {
      "cell_type": "code",
      "metadata": {
        "id": "QW1j2ph2RiIg"
      },
      "source": [
        "y_train1 = y_train0 + y_train00\n",
        "y_val1 = y_val0 + y_val00\n",
        "train1 = train0 + train00\n",
        "val1 = val0 + val00"
      ],
      "execution_count": 50,
      "outputs": []
    },
    {
      "cell_type": "code",
      "metadata": {
        "colab": {
          "base_uri": "https://localhost:8080/"
        },
        "id": "XsWzNGYoJP7a",
        "outputId": "db37ffe9-b0d1-4e30-bcf5-094619bc553a"
      },
      "source": [
        "print(\"train1: %s\" %len(train1))\n",
        "print(\"val1: %s\" %len(val1))"
      ],
      "execution_count": 51,
      "outputs": [
        {
          "output_type": "stream",
          "text": [
            "train1: 3619\n",
            "val1: 405\n"
          ],
          "name": "stdout"
        }
      ]
    },
    {
      "cell_type": "code",
      "metadata": {
        "colab": {
          "base_uri": "https://localhost:8080/"
        },
        "id": "30rQHMiFAs5E",
        "outputId": "8b241929-9c95-4fc7-b8d0-fbf13ace465e"
      },
      "source": [
        "num = 0\n",
        "for i in range(len(train0)):\n",
        "  if train0.count(train0[i]) > 1:\n",
        "    num += 1\n",
        "print(num)"
      ],
      "execution_count": 52,
      "outputs": [
        {
          "output_type": "stream",
          "text": [
            "18\n"
          ],
          "name": "stdout"
        }
      ]
    },
    {
      "cell_type": "code",
      "metadata": {
        "id": "R1SwbWDf6i50"
      },
      "source": [
        "train1 = pd.DataFrame(train1)\n",
        "val1 = pd.DataFrame(val1)\n",
        "y_train1 = pd.DataFrame(y_train1)\n",
        "y_val1 = pd.DataFrame(y_val1)"
      ],
      "execution_count": 53,
      "outputs": []
    },
    {
      "cell_type": "code",
      "metadata": {
        "id": "N_vwFeo_6jT9"
      },
      "source": [
        "train1.to_csv('train1.csv', index=False)\n",
        "val1.to_csv('val1.csv', index=False)\n",
        "y_train1.to_csv('y_train1.csv', index=False)\n",
        "y_val1.to_csv('y_val1.csv', index=False)"
      ],
      "execution_count": 54,
      "outputs": []
    },
    {
      "cell_type": "code",
      "metadata": {
        "id": "Kc9T0JBPZgRO"
      },
      "source": [
        ""
      ],
      "execution_count": 54,
      "outputs": []
    }
  ]
}