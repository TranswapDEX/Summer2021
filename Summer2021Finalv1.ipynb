{
  "nbformat": 4,
  "nbformat_minor": 0,
  "metadata": {
    "accelerator": "GPU",
    "colab": {
      "name": "Summer2021Finalv1.ipynb",
      "provenance": [],
      "collapsed_sections": [],
      "authorship_tag": "ABX9TyPAUVVfPXsV599A7MLROh1s",
      "include_colab_link": true
    },
    "kernelspec": {
      "display_name": "Python 3",
      "name": "python3"
    },
    "language_info": {
      "name": "python"
    }
  },
  "cells": [
    {
      "cell_type": "markdown",
      "metadata": {
        "id": "view-in-github",
        "colab_type": "text"
      },
      "source": [
        "<a href=\"https://colab.research.google.com/github/bamyers2/tantiger/blob/main/Summer2021Finalv1.ipynb\" target=\"_parent\"><img src=\"https://colab.research.google.com/assets/colab-badge.svg\" alt=\"Open In Colab\"/></a>"
      ]
    },
    {
      "cell_type": "code",
      "metadata": {
        "colab": {
          "base_uri": "https://localhost:8080/"
        },
        "id": "ZVmoG7Ad62bI",
        "outputId": "fc94d358-f309-4e06-e925-5a40857e03f5"
      },
      "source": [
        "%tensorflow_version 1.x"
      ],
      "execution_count": 1,
      "outputs": [
        {
          "output_type": "stream",
          "text": [
            "TensorFlow 1.x selected.\n"
          ],
          "name": "stdout"
        }
      ]
    },
    {
      "cell_type": "code",
      "metadata": {
        "colab": {
          "base_uri": "https://localhost:8080/"
        },
        "id": "cTBFqXMgzPaz",
        "outputId": "bd65fa34-c10c-4a80-87b1-a28860505f09"
      },
      "source": [
        "from google.colab import drive\n",
        "import pandas as pd\n",
        "import numpy as np\n",
        "import tensorflow as tf\n",
        "from sklearn.metrics import classification_report\n",
        "from keras.models import Sequential\n",
        "from keras.layers.core import Flatten, Dense, Dropout\n",
        "from keras.layers.convolutional import Convolution2D, MaxPooling2D, ZeroPadding2D\n",
        "from keras.layers import LeakyReLU\n",
        "from keras.optimizers import Adam\n",
        "import cv2\n",
        "import keras\n",
        "from keras.utils import np_utils\n",
        "from keras.utils.np_utils import to_categorical\n",
        "from sklearn.metrics import confusion_matrix\n",
        "import seaborn as sns\n",
        "from sklearn.model_selection import train_test_split\n",
        "import matplotlib.pyplot as plt\n",
        "import random"
      ],
      "execution_count": 2,
      "outputs": [
        {
          "output_type": "stream",
          "text": [
            "Using TensorFlow backend.\n"
          ],
          "name": "stderr"
        }
      ]
    },
    {
      "cell_type": "code",
      "metadata": {
        "colab": {
          "base_uri": "https://localhost:8080/"
        },
        "id": "JbQQJa1nzaXA",
        "outputId": "dcdda613-cc8b-413f-b69f-3e411a6841d5"
      },
      "source": [
        "drive.mount('/content/gdrive')"
      ],
      "execution_count": 3,
      "outputs": [
        {
          "output_type": "stream",
          "text": [
            "Mounted at /content/gdrive\n"
          ],
          "name": "stdout"
        }
      ]
    },
    {
      "cell_type": "code",
      "metadata": {
        "id": "EATcMjY41f5B"
      },
      "source": [
        "age_data = pd.read_csv('gdrive/My Drive/age_gender.csv')"
      ],
      "execution_count": 4,
      "outputs": []
    },
    {
      "cell_type": "code",
      "metadata": {
        "colab": {
          "base_uri": "https://localhost:8080/",
          "height": 142
        },
        "id": "lVEEAz3_1txB",
        "outputId": "3847ebb8-3cd9-485f-e0be-e3a2f9c4b180"
      },
      "source": [
        "age_data.head(3)"
      ],
      "execution_count": 5,
      "outputs": [
        {
          "output_type": "execute_result",
          "data": {
            "text/html": [
              "<div>\n",
              "<style scoped>\n",
              "    .dataframe tbody tr th:only-of-type {\n",
              "        vertical-align: middle;\n",
              "    }\n",
              "\n",
              "    .dataframe tbody tr th {\n",
              "        vertical-align: top;\n",
              "    }\n",
              "\n",
              "    .dataframe thead th {\n",
              "        text-align: right;\n",
              "    }\n",
              "</style>\n",
              "<table border=\"1\" class=\"dataframe\">\n",
              "  <thead>\n",
              "    <tr style=\"text-align: right;\">\n",
              "      <th></th>\n",
              "      <th>age</th>\n",
              "      <th>ethnicity</th>\n",
              "      <th>gender</th>\n",
              "      <th>img_name</th>\n",
              "      <th>pixels</th>\n",
              "    </tr>\n",
              "  </thead>\n",
              "  <tbody>\n",
              "    <tr>\n",
              "      <th>0</th>\n",
              "      <td>1</td>\n",
              "      <td>2</td>\n",
              "      <td>0</td>\n",
              "      <td>20161219203650636.jpg.chip.jpg</td>\n",
              "      <td>129 128 128 126 127 130 133 135 139 142 145 14...</td>\n",
              "    </tr>\n",
              "    <tr>\n",
              "      <th>1</th>\n",
              "      <td>1</td>\n",
              "      <td>2</td>\n",
              "      <td>0</td>\n",
              "      <td>20161219222752047.jpg.chip.jpg</td>\n",
              "      <td>164 74 111 168 169 171 175 182 184 188 193 199...</td>\n",
              "    </tr>\n",
              "    <tr>\n",
              "      <th>2</th>\n",
              "      <td>1</td>\n",
              "      <td>2</td>\n",
              "      <td>0</td>\n",
              "      <td>20161219222832191.jpg.chip.jpg</td>\n",
              "      <td>67 70 71 70 69 67 70 79 90 103 116 132 145 155...</td>\n",
              "    </tr>\n",
              "  </tbody>\n",
              "</table>\n",
              "</div>"
            ],
            "text/plain": [
              "   age  ...                                             pixels\n",
              "0    1  ...  129 128 128 126 127 130 133 135 139 142 145 14...\n",
              "1    1  ...  164 74 111 168 169 171 175 182 184 188 193 199...\n",
              "2    1  ...  67 70 71 70 69 67 70 79 90 103 116 132 145 155...\n",
              "\n",
              "[3 rows x 5 columns]"
            ]
          },
          "metadata": {
            "tags": []
          },
          "execution_count": 5
        }
      ]
    },
    {
      "cell_type": "code",
      "metadata": {
        "id": "Z8RvYH8E1xGK"
      },
      "source": [
        "def label_age (row):\n",
        "    if row['age'] > 0 and row['age'] < 3:\n",
        "        return 0\n",
        "    elif row['age'] > 2 and row['age'] < 10:\n",
        "        return 1\n",
        "    elif row['age'] > 9 and row['age'] < 21:\n",
        "        return 2\n",
        "    elif row['age'] > 20 and row['age'] < 26:\n",
        "        return 3\n",
        "    elif row['age'] > 25 and row['age'] < 28:\n",
        "        return 4\n",
        "    elif row['age'] > 27 and row['age'] < 32:\n",
        "        return 5\n",
        "    elif row['age'] > 31 and row['age'] < 37:\n",
        "        return 6\n",
        "    elif row['age'] > 36 and row['age'] < 46:\n",
        "        return 7\n",
        "    elif row['age'] > 45 and row['age'] < 55:\n",
        "        return 8\n",
        "    elif row['age'] > 54 and row['age'] < 66:\n",
        "        return 9\n",
        "    else:\n",
        "        return 10"
      ],
      "execution_count": 6,
      "outputs": []
    },
    {
      "cell_type": "code",
      "metadata": {
        "id": "jUdWKHKA105I"
      },
      "source": [
        "age_data['AgeGroup'] = age_data.apply (lambda row: label_age(row), axis=1)"
      ],
      "execution_count": 7,
      "outputs": []
    },
    {
      "cell_type": "code",
      "metadata": {
        "colab": {
          "base_uri": "https://localhost:8080/",
          "height": 142
        },
        "id": "ZXDmAYIm13uk",
        "outputId": "7e46fa6c-0ae3-40e0-ff80-576c90ae8bde"
      },
      "source": [
        "age_data.head(3)"
      ],
      "execution_count": 8,
      "outputs": [
        {
          "output_type": "execute_result",
          "data": {
            "text/html": [
              "<div>\n",
              "<style scoped>\n",
              "    .dataframe tbody tr th:only-of-type {\n",
              "        vertical-align: middle;\n",
              "    }\n",
              "\n",
              "    .dataframe tbody tr th {\n",
              "        vertical-align: top;\n",
              "    }\n",
              "\n",
              "    .dataframe thead th {\n",
              "        text-align: right;\n",
              "    }\n",
              "</style>\n",
              "<table border=\"1\" class=\"dataframe\">\n",
              "  <thead>\n",
              "    <tr style=\"text-align: right;\">\n",
              "      <th></th>\n",
              "      <th>age</th>\n",
              "      <th>ethnicity</th>\n",
              "      <th>gender</th>\n",
              "      <th>img_name</th>\n",
              "      <th>pixels</th>\n",
              "      <th>AgeGroup</th>\n",
              "    </tr>\n",
              "  </thead>\n",
              "  <tbody>\n",
              "    <tr>\n",
              "      <th>0</th>\n",
              "      <td>1</td>\n",
              "      <td>2</td>\n",
              "      <td>0</td>\n",
              "      <td>20161219203650636.jpg.chip.jpg</td>\n",
              "      <td>129 128 128 126 127 130 133 135 139 142 145 14...</td>\n",
              "      <td>0</td>\n",
              "    </tr>\n",
              "    <tr>\n",
              "      <th>1</th>\n",
              "      <td>1</td>\n",
              "      <td>2</td>\n",
              "      <td>0</td>\n",
              "      <td>20161219222752047.jpg.chip.jpg</td>\n",
              "      <td>164 74 111 168 169 171 175 182 184 188 193 199...</td>\n",
              "      <td>0</td>\n",
              "    </tr>\n",
              "    <tr>\n",
              "      <th>2</th>\n",
              "      <td>1</td>\n",
              "      <td>2</td>\n",
              "      <td>0</td>\n",
              "      <td>20161219222832191.jpg.chip.jpg</td>\n",
              "      <td>67 70 71 70 69 67 70 79 90 103 116 132 145 155...</td>\n",
              "      <td>0</td>\n",
              "    </tr>\n",
              "  </tbody>\n",
              "</table>\n",
              "</div>"
            ],
            "text/plain": [
              "   age  ethnicity  ...                                             pixels AgeGroup\n",
              "0    1          2  ...  129 128 128 126 127 130 133 135 139 142 145 14...        0\n",
              "1    1          2  ...  164 74 111 168 169 171 175 182 184 188 193 199...        0\n",
              "2    1          2  ...  67 70 71 70 69 67 70 79 90 103 116 132 145 155...        0\n",
              "\n",
              "[3 rows x 6 columns]"
            ]
          },
          "metadata": {
            "tags": []
          },
          "execution_count": 8
        }
      ]
    },
    {
      "cell_type": "code",
      "metadata": {
        "id": "cUUVZI1D151K"
      },
      "source": [
        "X = []\n",
        "y = []\n",
        "for index, row in age_data.iterrows():\n",
        "    k = row['pixels'].split(\" \")\n",
        "    X.append(np.array(k))\n",
        "    y.append(row['AgeGroup'])\n",
        "        \n",
        "X_train, X_valid, y_train, y_valid = train_test_split(X, y, train_size=0.9, random_state=42)\n",
        "X_train, X_test, y_train, y_test = train_test_split(X_train, y_train, train_size=0.8/0.9, random_state=42)"
      ],
      "execution_count": 9,
      "outputs": []
    },
    {
      "cell_type": "code",
      "metadata": {
        "id": "h7LBnNeA18Bl"
      },
      "source": [
        "X_train = np.array(X_train)\n",
        "y_train = np.array(y_train)\n",
        "X_valid = np.array(X_valid)\n",
        "y_valid = np.array(y_valid)\n",
        "X_test = np.array(X_test)\n",
        "y_test = np.array(y_test)\n",
        "\n",
        "X_train1 = X_train.reshape(X_train.shape[0], 48, 48, 1)\n",
        "X_valid1 = X_valid.reshape(X_valid.shape[0], 48, 48, 1)\n",
        "X_test1 = X_test.reshape(X_test.shape[0], 48, 48, 1)\n",
        "\n",
        "y_train1 = np_utils.to_categorical(y_train, num_classes = 11)\n",
        "y_valid1 = np_utils.to_categorical(y_valid, num_classes = 11)\n",
        "y_test1 = np_utils.to_categorical(y_test, num_classes = 11)"
      ],
      "execution_count": 10,
      "outputs": []
    },
    {
      "cell_type": "code",
      "metadata": {
        "colab": {
          "base_uri": "https://localhost:8080/"
        },
        "id": "Hhprhdk72EAN",
        "outputId": "61a6fc74-83a2-4b1a-dd61-efe060e97cb2"
      },
      "source": [
        "model = Sequential()\n",
        "model.add(ZeroPadding2D((1,1),input_shape=(48,48,1)))\n",
        "model.add(Convolution2D(64, (3, 3), activation=\"relu\"))\n",
        "model.add(ZeroPadding2D((1,1)))\n",
        "model.add(Convolution2D(64, (3, 3), activation=\"relu\"))\n",
        "model.add(MaxPooling2D((2,2), strides=(2,2)))\n",
        "\n",
        "model.add(ZeroPadding2D((1,1)))\n",
        "model.add(Convolution2D(128, (3, 3), activation=\"relu\"))\n",
        "model.add(ZeroPadding2D((1,1)))\n",
        "model.add(Convolution2D(128, (3, 3), activation=\"relu\"))\n",
        "model.add(MaxPooling2D((2,2), strides=(2,2)))\n",
        "\n",
        "model.add(ZeroPadding2D((1,1)))\n",
        "model.add(Convolution2D(256, (3, 3), activation=\"relu\"))\n",
        "model.add(ZeroPadding2D((1,1)))\n",
        "model.add(Convolution2D(256, (3, 3), activation=\"relu\"))\n",
        "model.add(ZeroPadding2D((1,1)))\n",
        "model.add(Convolution2D(256, (3, 3), activation=\"relu\"))\n",
        "model.add(MaxPooling2D((2,2), strides=(2,2)))\n",
        "\n",
        "model.add(ZeroPadding2D((1,1)))\n",
        "model.add(Convolution2D(512, (3, 3), activation=\"relu\"))\n",
        "model.add(ZeroPadding2D((1,1)))\n",
        "model.add(Convolution2D(512, (3, 3), activation=\"relu\"))\n",
        "model.add(ZeroPadding2D((1,1)))\n",
        "model.add(Convolution2D(512, (3, 3), activation=\"relu\"))\n",
        "model.add(MaxPooling2D((2,2), strides=(2,2)))\n",
        "\n",
        "model.add(ZeroPadding2D((1,1)))\n",
        "model.add(Convolution2D(512, (3, 3), activation=\"relu\"))\n",
        "model.add(ZeroPadding2D((1,1)))\n",
        "model.add(Convolution2D(512, (3, 3), activation=\"relu\"))\n",
        "model.add(ZeroPadding2D((1,1)))\n",
        "model.add(Convolution2D(512, (3, 3), activation=\"relu\"))\n",
        "model.add(MaxPooling2D((2,2), strides=(2,2)))\n",
        "\n",
        "model.add(Flatten())\n",
        "model.add(Dense(4096, activation='relu'))\n",
        "model.add(Dropout(0.5))\n",
        "model.add(Dense(4096, activation='relu'))\n",
        "model.add(Dropout(0.5))\n",
        "model.add(Dense(11, activation='softmax'))"
      ],
      "execution_count": 11,
      "outputs": [
        {
          "output_type": "stream",
          "text": [
            "WARNING:tensorflow:From /tensorflow-1.15.2/python3.7/tensorflow_core/python/ops/resource_variable_ops.py:1630: calling BaseResourceVariable.__init__ (from tensorflow.python.ops.resource_variable_ops) with constraint is deprecated and will be removed in a future version.\n",
            "Instructions for updating:\n",
            "If using Keras pass *_constraint arguments to layers.\n",
            "WARNING:tensorflow:From /tensorflow-1.15.2/python3.7/keras/backend/tensorflow_backend.py:4070: The name tf.nn.max_pool is deprecated. Please use tf.nn.max_pool2d instead.\n",
            "\n"
          ],
          "name": "stdout"
        }
      ]
    },
    {
      "cell_type": "code",
      "metadata": {
        "id": "gKJd7J292HA8"
      },
      "source": [
        "model.compile(optimizer= 'sgd', loss='categorical_crossentropy', metrics=['accuracy'])"
      ],
      "execution_count": 12,
      "outputs": []
    },
    {
      "cell_type": "code",
      "metadata": {
        "colab": {
          "base_uri": "https://localhost:8080/"
        },
        "id": "nHUlxhZF2I9X",
        "outputId": "08fb4771-5b69-4beb-dd98-2aaf2e37fddb"
      },
      "source": [
        "model.fit(X_train1, y_train1, batch_size=32, epochs=30, verbose=1, validation_data=(X_valid1, y_valid1))"
      ],
      "execution_count": 13,
      "outputs": [
        {
          "output_type": "stream",
          "text": [
            "WARNING:tensorflow:From /tensorflow-1.15.2/python3.7/keras/backend/tensorflow_backend.py:422: The name tf.global_variables is deprecated. Please use tf.compat.v1.global_variables instead.\n",
            "\n",
            "Train on 18963 samples, validate on 2371 samples\n",
            "Epoch 1/30\n",
            "18963/18963 [==============================] - 53s 3ms/step - loss: 2.3677 - accuracy: 0.1139 - val_loss: 2.3133 - val_accuracy: 0.1248\n",
            "Epoch 2/30\n",
            "18963/18963 [==============================] - 44s 2ms/step - loss: 2.2377 - accuracy: 0.1641 - val_loss: 2.1060 - val_accuracy: 0.2084\n",
            "Epoch 3/30\n",
            "18963/18963 [==============================] - 44s 2ms/step - loss: 2.0019 - accuracy: 0.2410 - val_loss: 1.9015 - val_accuracy: 0.2822\n",
            "Epoch 4/30\n",
            "18963/18963 [==============================] - 45s 2ms/step - loss: 1.8275 - accuracy: 0.2873 - val_loss: 1.7949 - val_accuracy: 0.2931\n",
            "Epoch 5/30\n",
            "18963/18963 [==============================] - 44s 2ms/step - loss: 1.7203 - accuracy: 0.3254 - val_loss: 1.6833 - val_accuracy: 0.3298\n",
            "Epoch 6/30\n",
            "18963/18963 [==============================] - 45s 2ms/step - loss: 1.6405 - accuracy: 0.3499 - val_loss: 1.7271 - val_accuracy: 0.3100\n",
            "Epoch 7/30\n",
            "18963/18963 [==============================] - 44s 2ms/step - loss: 1.5745 - accuracy: 0.3679 - val_loss: 1.6004 - val_accuracy: 0.3593\n",
            "Epoch 8/30\n",
            "18963/18963 [==============================] - 45s 2ms/step - loss: 1.5204 - accuracy: 0.3803 - val_loss: 1.5872 - val_accuracy: 0.3707\n",
            "Epoch 9/30\n",
            "18963/18963 [==============================] - 45s 2ms/step - loss: 1.4637 - accuracy: 0.4051 - val_loss: 1.5904 - val_accuracy: 0.3686\n",
            "Epoch 10/30\n",
            "18963/18963 [==============================] - 45s 2ms/step - loss: 1.4076 - accuracy: 0.4245 - val_loss: 1.5574 - val_accuracy: 0.3884\n",
            "Epoch 11/30\n",
            "18963/18963 [==============================] - 44s 2ms/step - loss: 1.3540 - accuracy: 0.4433 - val_loss: 1.5925 - val_accuracy: 0.3825\n",
            "Epoch 12/30\n",
            "18963/18963 [==============================] - 45s 2ms/step - loss: 1.2967 - accuracy: 0.4631 - val_loss: 1.6256 - val_accuracy: 0.3741\n",
            "Epoch 13/30\n",
            "18963/18963 [==============================] - 45s 2ms/step - loss: 1.2477 - accuracy: 0.4820 - val_loss: 1.6649 - val_accuracy: 0.3598\n",
            "Epoch 14/30\n",
            "18963/18963 [==============================] - 45s 2ms/step - loss: 1.1850 - accuracy: 0.5046 - val_loss: 1.6878 - val_accuracy: 0.3897\n",
            "Epoch 15/30\n",
            "18963/18963 [==============================] - 45s 2ms/step - loss: 1.1299 - accuracy: 0.5228 - val_loss: 1.7143 - val_accuracy: 0.3598\n",
            "Epoch 16/30\n",
            "18963/18963 [==============================] - 44s 2ms/step - loss: 1.0813 - accuracy: 0.5451 - val_loss: 1.9154 - val_accuracy: 0.3539\n",
            "Epoch 17/30\n",
            "18963/18963 [==============================] - 45s 2ms/step - loss: 1.0266 - accuracy: 0.5684 - val_loss: 2.0106 - val_accuracy: 0.3749\n",
            "Epoch 18/30\n",
            "18963/18963 [==============================] - 44s 2ms/step - loss: 0.9636 - accuracy: 0.5957 - val_loss: 1.9179 - val_accuracy: 0.3809\n",
            "Epoch 19/30\n",
            "18963/18963 [==============================] - 45s 2ms/step - loss: 0.9096 - accuracy: 0.6207 - val_loss: 2.0775 - val_accuracy: 0.3480\n",
            "Epoch 20/30\n",
            "18963/18963 [==============================] - 45s 2ms/step - loss: 0.8520 - accuracy: 0.6497 - val_loss: 2.0099 - val_accuracy: 0.3678\n",
            "Epoch 21/30\n",
            "18963/18963 [==============================] - 44s 2ms/step - loss: 0.8173 - accuracy: 0.6670 - val_loss: 2.0123 - val_accuracy: 0.3817\n",
            "Epoch 22/30\n",
            "18963/18963 [==============================] - 45s 2ms/step - loss: 0.7597 - accuracy: 0.6915 - val_loss: 2.0905 - val_accuracy: 0.3855\n",
            "Epoch 23/30\n",
            "18963/18963 [==============================] - 44s 2ms/step - loss: 0.7150 - accuracy: 0.7105 - val_loss: 2.2658 - val_accuracy: 0.3758\n",
            "Epoch 24/30\n",
            "18963/18963 [==============================] - 44s 2ms/step - loss: 0.6627 - accuracy: 0.7320 - val_loss: 2.2789 - val_accuracy: 0.3880\n",
            "Epoch 25/30\n",
            "18963/18963 [==============================] - 44s 2ms/step - loss: 0.6154 - accuracy: 0.7572 - val_loss: 2.5681 - val_accuracy: 0.3627\n",
            "Epoch 26/30\n",
            "18963/18963 [==============================] - 44s 2ms/step - loss: 0.5720 - accuracy: 0.7749 - val_loss: 2.4797 - val_accuracy: 0.3834\n",
            "Epoch 27/30\n",
            "18963/18963 [==============================] - 45s 2ms/step - loss: 0.5281 - accuracy: 0.7977 - val_loss: 2.8902 - val_accuracy: 0.3699\n",
            "Epoch 28/30\n",
            "18963/18963 [==============================] - 45s 2ms/step - loss: 0.4945 - accuracy: 0.8134 - val_loss: 2.4520 - val_accuracy: 0.3880\n",
            "Epoch 29/30\n",
            "18963/18963 [==============================] - 45s 2ms/step - loss: 0.4469 - accuracy: 0.8338 - val_loss: 2.6301 - val_accuracy: 0.3762\n",
            "Epoch 30/30\n",
            "18963/18963 [==============================] - 45s 2ms/step - loss: 0.4096 - accuracy: 0.8498 - val_loss: 2.5952 - val_accuracy: 0.3800\n"
          ],
          "name": "stdout"
        },
        {
          "output_type": "execute_result",
          "data": {
            "text/plain": [
              "<keras.callbacks.callbacks.History at 0x7f3c86c56510>"
            ]
          },
          "metadata": {
            "tags": []
          },
          "execution_count": 13
        }
      ]
    },
    {
      "cell_type": "code",
      "metadata": {
        "colab": {
          "base_uri": "https://localhost:8080/"
        },
        "id": "VMjWgB6pWtbd",
        "outputId": "eebaf7ee-822c-4bf0-81b8-f6f6e9f465de"
      },
      "source": [
        "Y_test1 = np.argmax(y_test1, axis=1)\n",
        "y_pred1 = model.predict_classes(X_test1)\n",
        "target_names = ['1-2', '3-9', '10-20', '21-25', '26-27', '28-31', '32-36', '37-45', '46-54', '55-65', '66-116']\n",
        "print(classification_report(Y_test1, y_pred1, target_names = target_names))"
      ],
      "execution_count": 14,
      "outputs": [
        {
          "output_type": "stream",
          "text": [
            "              precision    recall  f1-score   support\n",
            "\n",
            "         1-2       0.88      0.87      0.88       143\n",
            "         3-9       0.62      0.68      0.65       139\n",
            "       10-20       0.37      0.40      0.38       179\n",
            "       21-25       0.32      0.41      0.36       268\n",
            "       26-27       0.25      0.24      0.24       279\n",
            "       28-31       0.22      0.28      0.25       257\n",
            "       32-36       0.26      0.22      0.24       242\n",
            "       37-45       0.25      0.20      0.22       262\n",
            "       46-54       0.33      0.25      0.28       223\n",
            "       55-65       0.36      0.36      0.36       206\n",
            "      66-116       0.69      0.58      0.63       173\n",
            "\n",
            "    accuracy                           0.37      2371\n",
            "   macro avg       0.41      0.41      0.41      2371\n",
            "weighted avg       0.37      0.37      0.37      2371\n",
            "\n"
          ],
          "name": "stdout"
        }
      ]
    },
    {
      "cell_type": "code",
      "metadata": {
        "colab": {
          "base_uri": "https://localhost:8080/"
        },
        "id": "5RHBRIYVW9H9",
        "outputId": "b62574a8-3dac-4517-a2d5-affac03c3d26"
      },
      "source": [
        "cm = confusion_matrix(y_test1.argmax(axis=1), y_pred1)\n",
        "print(cm)"
      ],
      "execution_count": 15,
      "outputs": [
        {
          "output_type": "stream",
          "text": [
            "[[125  16   0   0   1   1   0   0   0   0   0]\n",
            " [ 16  94  23   4   0   1   1   0   0   0   0]\n",
            " [  1  28  71  47   8  13   5   1   0   5   0]\n",
            " [  0   4  25 111  58  52  11   5   0   2   0]\n",
            " [  0   2  25  82  66  70  13  11   3   5   2]\n",
            " [  0   2  19  56  51  72  31  21   4   1   0]\n",
            " [  0   1   7  32  43  56  53  37   7   6   0]\n",
            " [  0   1   9  16  26  40  49  53  41  22   5]\n",
            " [  0   3   8   1  10  16  25  49  56  47   8]\n",
            " [  0   0   5   1   2   3  16  30  45  75  29]\n",
            " [  0   1   1   0   3   0   2   6  14  46 100]]\n"
          ],
          "name": "stdout"
        }
      ]
    },
    {
      "cell_type": "code",
      "metadata": {
        "colab": {
          "base_uri": "https://localhost:8080/",
          "height": 690
        },
        "id": "aGMs94NcW_Rq",
        "outputId": "1a9b9f44-be89-42c7-924b-bf08228a71b5"
      },
      "source": [
        "fig,ax= plt.subplots(figsize=(11,11))\n",
        "sns.heatmap(cm / (cm.astype(np.float).sum(axis=1, keepdims=True)), annot=True, fmt='.1%', cmap='Blues')\n",
        "#sns.heatmap(cm, annot=True, fmt='.0f',cmap='Blues')\n",
        "ax.set_xlabel('Predicted', size=20);\n",
        "ax.set_ylabel('True', size=20);\n",
        "ax.set_title('Confusion Matrix', size=20);\n",
        "ax.xaxis.set_ticklabels(target_names, size=10); \\\n",
        "ax.yaxis.set_ticklabels(target_names, size=10);"
      ],
      "execution_count": 16,
      "outputs": [
        {
          "output_type": "display_data",
          "data": {
            "image/png": "[encoded data removed]",
            "text/plain": [
              "<Figure size 792x792 with 2 Axes>"
            ]
          },
          "metadata": {
            "tags": [],
            "needs_background": "light"
          }
        }
      ]
    },
    {
      "cell_type": "code",
      "metadata": {
        "id": "C3848xk06Qnh"
      },
      "source": [
        "pred = model.predict(X_test1)\n",
        "pred1 = np.where(pred==1)\n",
        "TP_Indexes = []\n",
        "for k in pred1[0]:\n",
        "    if(y_test1[k][0] == 1):\n",
        "        TP_Indexes.append(k)\n",
        "X_test1_TP = X_test1[TP_Indexes]"
      ],
      "execution_count": 17,
      "outputs": []
    },
    {
      "cell_type": "code",
      "metadata": {
        "id": "LwU-RG8R8cS3"
      },
      "source": [
        "aa = pd.DataFrame(y_pred1)\n",
        "# aa2 = pd.DataFrame(pred1)\n",
        "# aa3 = pd.DataFrame(TP_Indexes)\n",
        "# aa4 = pd.DataFrame(X_test1_TP)"
      ],
      "execution_count": 18,
      "outputs": []
    },
    {
      "cell_type": "code",
      "metadata": {
        "colab": {
          "base_uri": "https://localhost:8080/",
          "height": 204
        },
        "id": "ZMroLQj2AfAc",
        "outputId": "d30bffe8-5506-4921-a529-52fcf2c9cc92"
      },
      "source": [
        "aa.head()"
      ],
      "execution_count": 19,
      "outputs": [
        {
          "output_type": "execute_result",
          "data": {
            "text/html": [
              "<div>\n",
              "<style scoped>\n",
              "    .dataframe tbody tr th:only-of-type {\n",
              "        vertical-align: middle;\n",
              "    }\n",
              "\n",
              "    .dataframe tbody tr th {\n",
              "        vertical-align: top;\n",
              "    }\n",
              "\n",
              "    .dataframe thead th {\n",
              "        text-align: right;\n",
              "    }\n",
              "</style>\n",
              "<table border=\"1\" class=\"dataframe\">\n",
              "  <thead>\n",
              "    <tr style=\"text-align: right;\">\n",
              "      <th></th>\n",
              "      <th>0</th>\n",
              "    </tr>\n",
              "  </thead>\n",
              "  <tbody>\n",
              "    <tr>\n",
              "      <th>0</th>\n",
              "      <td>3</td>\n",
              "    </tr>\n",
              "    <tr>\n",
              "      <th>1</th>\n",
              "      <td>0</td>\n",
              "    </tr>\n",
              "    <tr>\n",
              "      <th>2</th>\n",
              "      <td>9</td>\n",
              "    </tr>\n",
              "    <tr>\n",
              "      <th>3</th>\n",
              "      <td>4</td>\n",
              "    </tr>\n",
              "    <tr>\n",
              "      <th>4</th>\n",
              "      <td>4</td>\n",
              "    </tr>\n",
              "  </tbody>\n",
              "</table>\n",
              "</div>"
            ],
            "text/plain": [
              "   0\n",
              "0  3\n",
              "1  0\n",
              "2  9\n",
              "3  4\n",
              "4  4"
            ]
          },
          "metadata": {
            "tags": []
          },
          "execution_count": 19
        }
      ]
    },
    {
      "cell_type": "code",
      "metadata": {
        "id": "I56ZP3tkHnhB"
      },
      "source": [
        "aaFinal = pd.DataFrame(y_test1)"
      ],
      "execution_count": 20,
      "outputs": []
    },
    {
      "cell_type": "code",
      "metadata": {
        "colab": {
          "base_uri": "https://localhost:8080/"
        },
        "id": "hB6IosaeKBsD",
        "outputId": "b192b72e-5a3a-4448-d375-1d2af5f6bf14"
      },
      "source": [
        "aaFinal[0].values[1]"
      ],
      "execution_count": 21,
      "outputs": [
        {
          "output_type": "execute_result",
          "data": {
            "text/plain": [
              "0.0"
            ]
          },
          "metadata": {
            "tags": []
          },
          "execution_count": 21
        }
      ]
    },
    {
      "cell_type": "code",
      "metadata": {
        "id": "wLtr7-qrybU3"
      },
      "source": [
        "aaFinal['aa'] = aa[0]"
      ],
      "execution_count": 22,
      "outputs": []
    },
    {
      "cell_type": "code",
      "metadata": {
        "colab": {
          "base_uri": "https://localhost:8080/",
          "height": 204
        },
        "id": "ILQpxTqtybjD",
        "outputId": "44373e22-58ef-4dcc-9f25-e0f7b62a5f0a"
      },
      "source": [
        "aaFinal.head()"
      ],
      "execution_count": 23,
      "outputs": [
        {
          "output_type": "execute_result",
          "data": {
            "text/html": [
              "<div>\n",
              "<style scoped>\n",
              "    .dataframe tbody tr th:only-of-type {\n",
              "        vertical-align: middle;\n",
              "    }\n",
              "\n",
              "    .dataframe tbody tr th {\n",
              "        vertical-align: top;\n",
              "    }\n",
              "\n",
              "    .dataframe thead th {\n",
              "        text-align: right;\n",
              "    }\n",
              "</style>\n",
              "<table border=\"1\" class=\"dataframe\">\n",
              "  <thead>\n",
              "    <tr style=\"text-align: right;\">\n",
              "      <th></th>\n",
              "      <th>0</th>\n",
              "      <th>1</th>\n",
              "      <th>2</th>\n",
              "      <th>3</th>\n",
              "      <th>4</th>\n",
              "      <th>5</th>\n",
              "      <th>6</th>\n",
              "      <th>7</th>\n",
              "      <th>8</th>\n",
              "      <th>9</th>\n",
              "      <th>10</th>\n",
              "      <th>aa</th>\n",
              "    </tr>\n",
              "  </thead>\n",
              "  <tbody>\n",
              "    <tr>\n",
              "      <th>0</th>\n",
              "      <td>0.0</td>\n",
              "      <td>0.0</td>\n",
              "      <td>0.0</td>\n",
              "      <td>0.0</td>\n",
              "      <td>0.0</td>\n",
              "      <td>0.0</td>\n",
              "      <td>0.0</td>\n",
              "      <td>1.0</td>\n",
              "      <td>0.0</td>\n",
              "      <td>0.0</td>\n",
              "      <td>0.0</td>\n",
              "      <td>3</td>\n",
              "    </tr>\n",
              "    <tr>\n",
              "      <th>1</th>\n",
              "      <td>0.0</td>\n",
              "      <td>1.0</td>\n",
              "      <td>0.0</td>\n",
              "      <td>0.0</td>\n",
              "      <td>0.0</td>\n",
              "      <td>0.0</td>\n",
              "      <td>0.0</td>\n",
              "      <td>0.0</td>\n",
              "      <td>0.0</td>\n",
              "      <td>0.0</td>\n",
              "      <td>0.0</td>\n",
              "      <td>0</td>\n",
              "    </tr>\n",
              "    <tr>\n",
              "      <th>2</th>\n",
              "      <td>0.0</td>\n",
              "      <td>0.0</td>\n",
              "      <td>0.0</td>\n",
              "      <td>0.0</td>\n",
              "      <td>0.0</td>\n",
              "      <td>0.0</td>\n",
              "      <td>0.0</td>\n",
              "      <td>0.0</td>\n",
              "      <td>0.0</td>\n",
              "      <td>1.0</td>\n",
              "      <td>0.0</td>\n",
              "      <td>9</td>\n",
              "    </tr>\n",
              "    <tr>\n",
              "      <th>3</th>\n",
              "      <td>0.0</td>\n",
              "      <td>0.0</td>\n",
              "      <td>0.0</td>\n",
              "      <td>0.0</td>\n",
              "      <td>0.0</td>\n",
              "      <td>0.0</td>\n",
              "      <td>0.0</td>\n",
              "      <td>1.0</td>\n",
              "      <td>0.0</td>\n",
              "      <td>0.0</td>\n",
              "      <td>0.0</td>\n",
              "      <td>4</td>\n",
              "    </tr>\n",
              "    <tr>\n",
              "      <th>4</th>\n",
              "      <td>1.0</td>\n",
              "      <td>0.0</td>\n",
              "      <td>0.0</td>\n",
              "      <td>0.0</td>\n",
              "      <td>0.0</td>\n",
              "      <td>0.0</td>\n",
              "      <td>0.0</td>\n",
              "      <td>0.0</td>\n",
              "      <td>0.0</td>\n",
              "      <td>0.0</td>\n",
              "      <td>0.0</td>\n",
              "      <td>4</td>\n",
              "    </tr>\n",
              "  </tbody>\n",
              "</table>\n",
              "</div>"
            ],
            "text/plain": [
              "     0    1    2    3    4    5    6    7    8    9   10  aa\n",
              "0  0.0  0.0  0.0  0.0  0.0  0.0  0.0  1.0  0.0  0.0  0.0   3\n",
              "1  0.0  1.0  0.0  0.0  0.0  0.0  0.0  0.0  0.0  0.0  0.0   0\n",
              "2  0.0  0.0  0.0  0.0  0.0  0.0  0.0  0.0  0.0  1.0  0.0   9\n",
              "3  0.0  0.0  0.0  0.0  0.0  0.0  0.0  1.0  0.0  0.0  0.0   4\n",
              "4  1.0  0.0  0.0  0.0  0.0  0.0  0.0  0.0  0.0  0.0  0.0   4"
            ]
          },
          "metadata": {
            "tags": []
          },
          "execution_count": 23
        }
      ]
    },
    {
      "cell_type": "code",
      "metadata": {
        "id": "ipe1OdejytJO"
      },
      "source": [
        "def label_age (row):\n",
        "    if row[row['aa']] == 1.0:\n",
        "        return 1\n",
        "    else:\n",
        "        return 0"
      ],
      "execution_count": 24,
      "outputs": []
    },
    {
      "cell_type": "code",
      "metadata": {
        "id": "HnDXpIX_ywLs"
      },
      "source": [
        "aaFinal['YorN'] = aaFinal.apply (lambda row: label_age(row), axis=1)"
      ],
      "execution_count": 25,
      "outputs": []
    },
    {
      "cell_type": "code",
      "metadata": {
        "colab": {
          "base_uri": "https://localhost:8080/",
          "height": 204
        },
        "id": "-ZHnH9YiyyOF",
        "outputId": "ff041a33-21e8-4867-ac78-1fbc3730ffe9"
      },
      "source": [
        "aaFinal.head()"
      ],
      "execution_count": 26,
      "outputs": [
        {
          "output_type": "execute_result",
          "data": {
            "text/html": [
              "<div>\n",
              "<style scoped>\n",
              "    .dataframe tbody tr th:only-of-type {\n",
              "        vertical-align: middle;\n",
              "    }\n",
              "\n",
              "    .dataframe tbody tr th {\n",
              "        vertical-align: top;\n",
              "    }\n",
              "\n",
              "    .dataframe thead th {\n",
              "        text-align: right;\n",
              "    }\n",
              "</style>\n",
              "<table border=\"1\" class=\"dataframe\">\n",
              "  <thead>\n",
              "    <tr style=\"text-align: right;\">\n",
              "      <th></th>\n",
              "      <th>0</th>\n",
              "      <th>1</th>\n",
              "      <th>2</th>\n",
              "      <th>3</th>\n",
              "      <th>4</th>\n",
              "      <th>5</th>\n",
              "      <th>6</th>\n",
              "      <th>7</th>\n",
              "      <th>8</th>\n",
              "      <th>9</th>\n",
              "      <th>10</th>\n",
              "      <th>aa</th>\n",
              "      <th>YorN</th>\n",
              "    </tr>\n",
              "  </thead>\n",
              "  <tbody>\n",
              "    <tr>\n",
              "      <th>0</th>\n",
              "      <td>0.0</td>\n",
              "      <td>0.0</td>\n",
              "      <td>0.0</td>\n",
              "      <td>0.0</td>\n",
              "      <td>0.0</td>\n",
              "      <td>0.0</td>\n",
              "      <td>0.0</td>\n",
              "      <td>1.0</td>\n",
              "      <td>0.0</td>\n",
              "      <td>0.0</td>\n",
              "      <td>0.0</td>\n",
              "      <td>3</td>\n",
              "      <td>0</td>\n",
              "    </tr>\n",
              "    <tr>\n",
              "      <th>1</th>\n",
              "      <td>0.0</td>\n",
              "      <td>1.0</td>\n",
              "      <td>0.0</td>\n",
              "      <td>0.0</td>\n",
              "      <td>0.0</td>\n",
              "      <td>0.0</td>\n",
              "      <td>0.0</td>\n",
              "      <td>0.0</td>\n",
              "      <td>0.0</td>\n",
              "      <td>0.0</td>\n",
              "      <td>0.0</td>\n",
              "      <td>0</td>\n",
              "      <td>0</td>\n",
              "    </tr>\n",
              "    <tr>\n",
              "      <th>2</th>\n",
              "      <td>0.0</td>\n",
              "      <td>0.0</td>\n",
              "      <td>0.0</td>\n",
              "      <td>0.0</td>\n",
              "      <td>0.0</td>\n",
              "      <td>0.0</td>\n",
              "      <td>0.0</td>\n",
              "      <td>0.0</td>\n",
              "      <td>0.0</td>\n",
              "      <td>1.0</td>\n",
              "      <td>0.0</td>\n",
              "      <td>9</td>\n",
              "      <td>1</td>\n",
              "    </tr>\n",
              "    <tr>\n",
              "      <th>3</th>\n",
              "      <td>0.0</td>\n",
              "      <td>0.0</td>\n",
              "      <td>0.0</td>\n",
              "      <td>0.0</td>\n",
              "      <td>0.0</td>\n",
              "      <td>0.0</td>\n",
              "      <td>0.0</td>\n",
              "      <td>1.0</td>\n",
              "      <td>0.0</td>\n",
              "      <td>0.0</td>\n",
              "      <td>0.0</td>\n",
              "      <td>4</td>\n",
              "      <td>0</td>\n",
              "    </tr>\n",
              "    <tr>\n",
              "      <th>4</th>\n",
              "      <td>1.0</td>\n",
              "      <td>0.0</td>\n",
              "      <td>0.0</td>\n",
              "      <td>0.0</td>\n",
              "      <td>0.0</td>\n",
              "      <td>0.0</td>\n",
              "      <td>0.0</td>\n",
              "      <td>0.0</td>\n",
              "      <td>0.0</td>\n",
              "      <td>0.0</td>\n",
              "      <td>0.0</td>\n",
              "      <td>4</td>\n",
              "      <td>0</td>\n",
              "    </tr>\n",
              "  </tbody>\n",
              "</table>\n",
              "</div>"
            ],
            "text/plain": [
              "     0    1    2    3    4    5    6    7    8    9   10  aa  YorN\n",
              "0  0.0  0.0  0.0  0.0  0.0  0.0  0.0  1.0  0.0  0.0  0.0   3     0\n",
              "1  0.0  1.0  0.0  0.0  0.0  0.0  0.0  0.0  0.0  0.0  0.0   0     0\n",
              "2  0.0  0.0  0.0  0.0  0.0  0.0  0.0  0.0  0.0  1.0  0.0   9     1\n",
              "3  0.0  0.0  0.0  0.0  0.0  0.0  0.0  1.0  0.0  0.0  0.0   4     0\n",
              "4  1.0  0.0  0.0  0.0  0.0  0.0  0.0  0.0  0.0  0.0  0.0   4     0"
            ]
          },
          "metadata": {
            "tags": []
          },
          "execution_count": 26
        }
      ]
    },
    {
      "cell_type": "code",
      "metadata": {
        "colab": {
          "base_uri": "https://localhost:8080/"
        },
        "id": "GTTUiGEXyyUO",
        "outputId": "74683a11-100b-429d-ab7c-017597f0ba8e"
      },
      "source": [
        "aaFinal.shape[0]"
      ],
      "execution_count": 27,
      "outputs": [
        {
          "output_type": "execute_result",
          "data": {
            "text/plain": [
              "2371"
            ]
          },
          "metadata": {
            "tags": []
          },
          "execution_count": 27
        }
      ]
    },
    {
      "cell_type": "code",
      "metadata": {
        "id": "4S28sp561Ln2"
      },
      "source": [
        "X_test22 = X_test.tolist()"
      ],
      "execution_count": 28,
      "outputs": []
    },
    {
      "cell_type": "code",
      "metadata": {
        "id": "sDwLuTNA1M5l"
      },
      "source": [
        "con = 0\n",
        "for i in range(aaFinal.shape[0]-1):\n",
        "    if aaFinal['YorN'].values[i] == 0:\n",
        "        X_test22.remove(X_test22[i-con])\n",
        "        con += 1"
      ],
      "execution_count": 29,
      "outputs": []
    },
    {
      "cell_type": "code",
      "metadata": {
        "id": "wHT4czxy20j2"
      },
      "source": [
        "X_test22 = np.array(X_test22)"
      ],
      "execution_count": 30,
      "outputs": []
    },
    {
      "cell_type": "code",
      "metadata": {
        "colab": {
          "base_uri": "https://localhost:8080/"
        },
        "id": "CIgLTjfP28qE",
        "outputId": "9d3a8c11-9bdb-4e41-8846-5f27c67de6d1"
      },
      "source": [
        "X_test22[0]"
      ],
      "execution_count": 31,
      "outputs": [
        {
          "output_type": "execute_result",
          "data": {
            "text/plain": [
              "array(['114', '120', '137', ..., '2', '5', '7'], dtype='<U3')"
            ]
          },
          "metadata": {
            "tags": []
          },
          "execution_count": 31
        }
      ]
    },
    {
      "cell_type": "code",
      "metadata": {
        "colab": {
          "base_uri": "https://localhost:8080/"
        },
        "id": "PuWQsXsu280f",
        "outputId": "00c668de-89f0-4fcc-a29f-63a032e18081"
      },
      "source": [
        "X_test[1]"
      ],
      "execution_count": 32,
      "outputs": [
        {
          "output_type": "execute_result",
          "data": {
            "text/plain": [
              "array(['28', '57', '89', ..., '210', '221', '224'], dtype='<U3')"
            ]
          },
          "metadata": {
            "tags": []
          },
          "execution_count": 32
        }
      ]
    },
    {
      "cell_type": "code",
      "metadata": {
        "id": "f0s8q2GV20wJ"
      },
      "source": [
        "X_test22 = X_test22.tolist()"
      ],
      "execution_count": 33,
      "outputs": []
    },
    {
      "cell_type": "code",
      "metadata": {
        "id": "rm7QuThusKDs"
      },
      "source": [
        "X_test23 = X_test22"
      ],
      "execution_count": 34,
      "outputs": []
    },
    {
      "cell_type": "code",
      "metadata": {
        "colab": {
          "base_uri": "https://localhost:8080/"
        },
        "id": "FNf4wOO5c68-",
        "outputId": "b14a21e3-aa75-4ba1-eb3c-720fc1e52dcc"
      },
      "source": [
        "len(X_test22)"
      ],
      "execution_count": 35,
      "outputs": [
        {
          "output_type": "execute_result",
          "data": {
            "text/plain": [
              "876"
            ]
          },
          "metadata": {
            "tags": []
          },
          "execution_count": 35
        }
      ]
    },
    {
      "cell_type": "code",
      "metadata": {
        "id": "XUqBnaDfc-y8"
      },
      "source": [
        "div = int(round(len(X_test22) * .1, 0))"
      ],
      "execution_count": 36,
      "outputs": []
    },
    {
      "cell_type": "code",
      "metadata": {
        "colab": {
          "base_uri": "https://localhost:8080/"
        },
        "id": "xKhT3Sbqc_Bb",
        "outputId": "b5d529bb-d5a6-46f1-ba69-35d70b92a1de"
      },
      "source": [
        "div"
      ],
      "execution_count": 37,
      "outputs": [
        {
          "output_type": "execute_result",
          "data": {
            "text/plain": [
              "88"
            ]
          },
          "metadata": {
            "tags": []
          },
          "execution_count": 37
        }
      ]
    },
    {
      "cell_type": "code",
      "metadata": {
        "id": "ornXhQ7PdGOL"
      },
      "source": [
        "val = random.sample(X_test22, div)"
      ],
      "execution_count": 38,
      "outputs": []
    },
    {
      "cell_type": "code",
      "metadata": {
        "id": "FaP9h1gWdGhs"
      },
      "source": [
        "train0 = []\n",
        "\n",
        "for i in X_test22:\n",
        "    if i not in val:\n",
        "        train0.append(i)"
      ],
      "execution_count": 39,
      "outputs": []
    },
    {
      "cell_type": "code",
      "metadata": {
        "id": "YJa86TxMtd6W"
      },
      "source": [
        "val0 = []\n",
        "\n",
        "for i in X_test22:\n",
        "    if i in val:\n",
        "        val0.append(i)"
      ],
      "execution_count": 40,
      "outputs": []
    },
    {
      "cell_type": "code",
      "metadata": {
        "colab": {
          "base_uri": "https://localhost:8080/"
        },
        "id": "88UcYG7HdUkO",
        "outputId": "633cfc50-576f-4919-ead5-a45cf1f8a3d9"
      },
      "source": [
        "len(train0)/len(val0)"
      ],
      "execution_count": 41,
      "outputs": [
        {
          "output_type": "execute_result",
          "data": {
            "text/plain": [
              "8.842696629213483"
            ]
          },
          "metadata": {
            "tags": []
          },
          "execution_count": 41
        }
      ]
    },
    {
      "cell_type": "code",
      "metadata": {
        "id": "MUCZXDorc7T-"
      },
      "source": [
        "y_test22 = y_test.tolist()"
      ],
      "execution_count": 42,
      "outputs": []
    },
    {
      "cell_type": "code",
      "metadata": {
        "id": "3hM_wtLBjXt4"
      },
      "source": [
        "y_train0 = []\n",
        "y_val0 = []\n",
        "\n",
        "for i in val0:\n",
        "    y_val0.append(y_test22[X_test23.index(i)])\n",
        "\n",
        "for i in train0:\n",
        "    y_train0.append(y_test22[X_test23.index(i)])"
      ],
      "execution_count": 43,
      "outputs": []
    },
    {
      "cell_type": "code",
      "metadata": {
        "colab": {
          "base_uri": "https://localhost:8080/"
        },
        "id": "ycTeper6jX8r",
        "outputId": "4d552e28-7827-4b03-824a-d46fdea14c1b"
      },
      "source": [
        "len(y_train0)/len(y_val0)"
      ],
      "execution_count": 44,
      "outputs": [
        {
          "output_type": "execute_result",
          "data": {
            "text/plain": [
              "8.842696629213483"
            ]
          },
          "metadata": {
            "tags": []
          },
          "execution_count": 44
        }
      ]
    },
    {
      "cell_type": "code",
      "metadata": {
        "id": "R1SwbWDf6i50"
      },
      "source": [
        "train0 = pd.DataFrame(train0)\n",
        "val0 = pd.DataFrame(val0)\n",
        "y_train0 = pd.DataFrame(y_train0)\n",
        "y_val0 = pd.DataFrame(y_val0)"
      ],
      "execution_count": 45,
      "outputs": []
    },
    {
      "cell_type": "code",
      "metadata": {
        "id": "N_vwFeo_6jT9"
      },
      "source": [
        "train0.to_csv('train0.csv', index=False)\n",
        "val0.to_csv('val0.csv', index=False)\n",
        "y_train0.to_csv('y_train0.csv', index=False)\n",
        "y_val0.to_csv('y_val0.csv', index=False)"
      ],
      "execution_count": 46,
      "outputs": []
    },
    {
      "cell_type": "code",
      "metadata": {
        "id": "UGIQLQPj6jkX"
      },
      "source": [
        "X_test = X_train.tolist()\n",
        "y_test = y_train.tolist()\n",
        "\n",
        "test0 = pd.DataFrame(X_test)\n",
        "y_test0 = pd.DataFrame(y_test)"
      ],
      "execution_count": 47,
      "outputs": []
    },
    {
      "cell_type": "code",
      "metadata": {
        "id": "lxbMNiFr36Vq"
      },
      "source": [
        "test0.to_csv('test0.csv', index=False)\n",
        "y_val0.to_csv('y_val0.csv', index=False)\n",
        "y_test0.to_csv('y_test0.csv', index=False)"
      ],
      "execution_count": 48,
      "outputs": []
    },
    {
      "cell_type": "code",
      "metadata": {
        "colab": {
          "base_uri": "https://localhost:8080/"
        },
        "id": "_yyEYBCI6j28",
        "outputId": "a052787f-6954-4146-e9d3-f8af5161dabe"
      },
      "source": [
        "len(X_test)/len(y_test)\n",
        "#should be 1"
      ],
      "execution_count": 49,
      "outputs": [
        {
          "output_type": "execute_result",
          "data": {
            "text/plain": [
              "1.0"
            ]
          },
          "metadata": {
            "tags": []
          },
          "execution_count": 49
        }
      ]
    },
    {
      "cell_type": "code",
      "metadata": {
        "colab": {
          "base_uri": "https://localhost:8080/",
          "height": 130
        },
        "id": "iEZdFzYxjjG3",
        "outputId": "f5696b19-33cd-424e-9879-9f95b2f123ab"
      },
      "source": [
        "this is an error"
      ],
      "execution_count": 50,
      "outputs": [
        {
          "output_type": "error",
          "ename": "SyntaxError",
          "evalue": "ignored",
          "traceback": [
            "\u001b[0;36m  File \u001b[0;32m\"<ipython-input-50-c11d0ec203f0>\"\u001b[0;36m, line \u001b[0;32m1\u001b[0m\n\u001b[0;31m    this is an error\u001b[0m\n\u001b[0m                   ^\u001b[0m\n\u001b[0;31mSyntaxError\u001b[0m\u001b[0;31m:\u001b[0m invalid syntax\n"
          ]
        }
      ]
    },
    {
      "cell_type": "code",
      "metadata": {
        "id": "a9LeQjgX4Z1-"
      },
      "source": [
        ""
      ],
      "execution_count": null,
      "outputs": []
    },
    {
      "cell_type": "code",
      "metadata": {
        "id": "zmVbOqYh4aCQ"
      },
      "source": [
        ""
      ],
      "execution_count": null,
      "outputs": []
    },
    {
      "cell_type": "code",
      "metadata": {
        "id": "ztQ-cfqY4aPd"
      },
      "source": [
        ""
      ],
      "execution_count": null,
      "outputs": []
    },
    {
      "cell_type": "code",
      "metadata": {
        "id": "NchzMib2fUZD"
      },
      "source": [
        "X_train = np.array(train0)\n",
        "y_train = np.array(y_train0)\n",
        "X_valid = np.array(val0)\n",
        "y_valid = np.array(y_val0)\n",
        "X_test = np.array(X_train)\n",
        "y_test = np.array(y_train)\n",
        "\n",
        "X_train1 = X_train.reshape(X_train.shape[0], 48, 48, 1)\n",
        "X_valid1 = X_valid.reshape(X_valid.shape[0], 48, 48, 1)\n",
        "X_test1 = X_test.reshape(X_test.shape[0], 48, 48, 1)\n",
        "\n",
        "y_train1 = np_utils.to_categorical(y_train, num_classes = 11)\n",
        "y_valid1 = np_utils.to_categorical(y_valid, num_classes = 11)\n",
        "y_test1 = np_utils.to_categorical(y_test, num_classes = 11)"
      ],
      "execution_count": null,
      "outputs": []
    },
    {
      "cell_type": "code",
      "metadata": {
        "id": "nRKRmd2cfWaM"
      },
      "source": [
        "model = Sequential()\n",
        "model.add(ZeroPadding2D((1,1),input_shape=(48,48,1)))\n",
        "model.add(Convolution2D(64, (3, 3), activation=\"relu\"))\n",
        "model.add(ZeroPadding2D((1,1)))\n",
        "model.add(Convolution2D(64, (3, 3), activation=\"relu\"))\n",
        "model.add(MaxPooling2D((2,2), strides=(2,2)))\n",
        "\n",
        "model.add(ZeroPadding2D((1,1)))\n",
        "model.add(Convolution2D(128, (3, 3), activation=\"relu\"))\n",
        "model.add(ZeroPadding2D((1,1)))\n",
        "model.add(Convolution2D(128, (3, 3), activation=\"relu\"))\n",
        "model.add(MaxPooling2D((2,2), strides=(2,2)))\n",
        "\n",
        "model.add(ZeroPadding2D((1,1)))\n",
        "model.add(Convolution2D(256, (3, 3), activation=\"relu\"))\n",
        "model.add(ZeroPadding2D((1,1)))\n",
        "model.add(Convolution2D(256, (3, 3), activation=\"relu\"))\n",
        "model.add(ZeroPadding2D((1,1)))\n",
        "model.add(Convolution2D(256, (3, 3), activation=\"relu\"))\n",
        "model.add(MaxPooling2D((2,2), strides=(2,2)))\n",
        "\n",
        "model.add(ZeroPadding2D((1,1)))\n",
        "model.add(Convolution2D(512, (3, 3), activation=\"relu\"))\n",
        "model.add(ZeroPadding2D((1,1)))\n",
        "model.add(Convolution2D(512, (3, 3), activation=\"relu\"))\n",
        "model.add(ZeroPadding2D((1,1)))\n",
        "model.add(Convolution2D(512, (3, 3), activation=\"relu\"))\n",
        "model.add(MaxPooling2D((2,2), strides=(2,2)))\n",
        "\n",
        "model.add(ZeroPadding2D((1,1)))\n",
        "model.add(Convolution2D(512, (3, 3), activation=\"relu\"))\n",
        "model.add(ZeroPadding2D((1,1)))\n",
        "model.add(Convolution2D(512, (3, 3), activation=\"relu\"))\n",
        "model.add(ZeroPadding2D((1,1)))\n",
        "model.add(Convolution2D(512, (3, 3), activation=\"relu\"))\n",
        "model.add(MaxPooling2D((2,2), strides=(2,2)))\n",
        "\n",
        "model.add(Flatten())\n",
        "model.add(Dense(4096, activation='relu'))\n",
        "model.add(Dropout(0.5))\n",
        "model.add(Dense(4096, activation='relu'))\n",
        "model.add(Dropout(0.5))\n",
        "model.add(Dense(11, activation='softmax'))"
      ],
      "execution_count": null,
      "outputs": []
    },
    {
      "cell_type": "code",
      "metadata": {
        "id": "b4oezOo6fWpS"
      },
      "source": [
        "model.compile(optimizer= 'sgd', loss='categorical_crossentropy', metrics=['accuracy'])"
      ],
      "execution_count": null,
      "outputs": []
    },
    {
      "cell_type": "code",
      "metadata": {
        "id": "XUeuKlzugBOB"
      },
      "source": [
        "model.fit(X_train1, y_train1, batch_size=2, epochs=30, verbose=1, validation_data=(X_valid1, y_valid1))"
      ],
      "execution_count": null,
      "outputs": []
    },
    {
      "cell_type": "code",
      "metadata": {
        "id": "JAeII0HKgBWM"
      },
      "source": [
        "Y_test1 = np.argmax(y_test1, axis=1)\n",
        "y_pred1 = model.predict_classes(X_test1)\n",
        "target_names = ['1-2', '3-9', '10-20', '21-25', '26-27', '28-31', '32-36', '37-45', '46-54', '55-65', '66-116']\n",
        "print(classification_report(Y_test1, y_pred1, target_names = target_names))"
      ],
      "execution_count": null,
      "outputs": []
    },
    {
      "cell_type": "code",
      "metadata": {
        "id": "fYRQ5n-jgBfR"
      },
      "source": [
        "cm = confusion_matrix(y_test1.argmax(axis=1), y_pred1)\n",
        "print(cm)"
      ],
      "execution_count": null,
      "outputs": []
    },
    {
      "cell_type": "code",
      "metadata": {
        "id": "vBJxeXnogG-D"
      },
      "source": [
        "fig,ax= plt.subplots(figsize=(12,12))\n",
        "sns.heatmap(cm / (cm.astype(np.float).sum(axis=1, keepdims=True)), annot=True, fmt='.1%', cmap='Blues')\n",
        "#sns.heatmap(cm, annot=True, fmt='.0f',cmap='Blues')\n",
        "ax.set_xlabel('Predicted', size=20);\n",
        "ax.set_ylabel('True', size=20);\n",
        "ax.set_title('Confusion Matrix', size=20);\n",
        "ax.xaxis.set_ticklabels(target_names, size=10); \\\n",
        "ax.yaxis.set_ticklabels(target_names, size=10);"
      ],
      "execution_count": null,
      "outputs": []
    },
    {
      "cell_type": "code",
      "metadata": {
        "id": "K6wgAB7ugHJY"
      },
      "source": [
        ""
      ],
      "execution_count": null,
      "outputs": []
    },
    {
      "cell_type": "code",
      "metadata": {
        "id": "QePQzzeagBoR"
      },
      "source": [
        ""
      ],
      "execution_count": null,
      "outputs": []
    },
    {
      "cell_type": "code",
      "metadata": {
        "id": "YLCgCOTFy4ko"
      },
      "source": [
        "#con = 0\n",
        "#for i in range(aaFinal.shape[0]-1):\n",
        "#    if aaFinal['YorN'].values[i] == 0:\n",
        "#        X_test = np.delete(X_test, i-con)\n",
        "#        con += 1"
      ],
      "execution_count": null,
      "outputs": []
    },
    {
      "cell_type": "code",
      "metadata": {
        "id": "neXaewGBzDRo"
      },
      "source": [
        ""
      ],
      "execution_count": null,
      "outputs": []
    }
  ]
}