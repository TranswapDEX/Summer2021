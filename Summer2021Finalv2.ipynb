{
  "nbformat": 4,
  "nbformat_minor": 0,
  "metadata": {
    "accelerator": "GPU",
    "colab": {
      "name": "Summer2021Finalv2.ipynb",
      "provenance": [],
      "collapsed_sections": [],
      "authorship_tag": "ABX9TyNMPdtKyC0U1N3xJSmx7SI9",
      "include_colab_link": true
    },
    "kernelspec": {
      "display_name": "Python 3",
      "name": "python3"
    },
    "language_info": {
      "name": "python"
    }
  },
  "cells": [
    {
      "cell_type": "markdown",
      "metadata": {
        "id": "view-in-github",
        "colab_type": "text"
      },
      "source": [
        "<a href=\"https://colab.research.google.com/github/bamyers2/tantiger/blob/main/Summer2021Finalv2.ipynb\" target=\"_parent\"><img src=\"https://colab.research.google.com/assets/colab-badge.svg\" alt=\"Open In Colab\"/></a>"
      ]
    },
    {
      "cell_type": "code",
      "metadata": {
        "colab": {
          "base_uri": "https://localhost:8080/"
        },
        "id": "ZVmoG7Ad62bI",
        "outputId": "2abbfdeb-262f-4143-e930-f960e6f07091"
      },
      "source": [
        "%tensorflow_version 1.x"
      ],
      "execution_count": 1,
      "outputs": [
        {
          "output_type": "stream",
          "text": [
            "TensorFlow 1.x selected.\n"
          ],
          "name": "stdout"
        }
      ]
    },
    {
      "cell_type": "code",
      "metadata": {
        "colab": {
          "base_uri": "https://localhost:8080/"
        },
        "id": "cTBFqXMgzPaz",
        "outputId": "15fc166e-b373-4a35-d68b-e12023255f19"
      },
      "source": [
        "from google.colab import drive\n",
        "import pandas as pd\n",
        "import numpy as np\n",
        "import tensorflow as tf\n",
        "from sklearn.metrics import classification_report\n",
        "from keras.models import Sequential\n",
        "from keras.layers.core import Flatten, Dense, Dropout\n",
        "from keras.layers.convolutional import Convolution2D, MaxPooling2D, ZeroPadding2D\n",
        "from keras.layers import LeakyReLU\n",
        "from keras.optimizers import Adam\n",
        "import cv2\n",
        "import keras\n",
        "from keras.utils import np_utils\n",
        "from keras.utils.np_utils import to_categorical\n",
        "from sklearn.metrics import confusion_matrix\n",
        "import seaborn as sns\n",
        "from sklearn.model_selection import train_test_split\n",
        "import matplotlib.pyplot as plt\n",
        "import random\n",
        "import csv"
      ],
      "execution_count": 2,
      "outputs": [
        {
          "output_type": "stream",
          "text": [
            "Using TensorFlow backend.\n"
          ],
          "name": "stderr"
        }
      ]
    },
    {
      "cell_type": "code",
      "metadata": {
        "colab": {
          "base_uri": "https://localhost:8080/"
        },
        "id": "JbQQJa1nzaXA",
        "outputId": "32960369-cae4-40d4-bc47-70820c888fc7"
      },
      "source": [
        "drive.mount('/content/gdrive')"
      ],
      "execution_count": 3,
      "outputs": [
        {
          "output_type": "stream",
          "text": [
            "Mounted at /content/gdrive\n"
          ],
          "name": "stdout"
        }
      ]
    },
    {
      "cell_type": "code",
      "metadata": {
        "id": "xmtpE6tV8jG-"
      },
      "source": [
        "train0 = pd.read_csv('gdrive/My Drive/train0.csv')\n",
        "val0 = pd.read_csv('gdrive/My Drive/val0.csv')\n",
        "y_train0 = pd.read_csv('gdrive/My Drive/y_train0.csv')\n",
        "y_val0 = pd.read_csv('gdrive/My Drive/y_val0.csv')\n",
        "test0 = pd.read_csv('gdrive/My Drive/test0.csv')\n",
        "y_test0 = pd.read_csv('gdrive/My Drive/y_test0.csv')"
      ],
      "execution_count": 4,
      "outputs": []
    },
    {
      "cell_type": "code",
      "metadata": {
        "colab": {
          "base_uri": "https://localhost:8080/",
          "height": 253
        },
        "id": "LnJzsMkTD5gG",
        "outputId": "0b4aa8e5-6c20-4b42-93fb-22f630eba96e"
      },
      "source": [
        "train0.head()"
      ],
      "execution_count": 5,
      "outputs": [
        {
          "output_type": "execute_result",
          "data": {
            "text/html": [
              "<div>\n",
              "<style scoped>\n",
              "    .dataframe tbody tr th:only-of-type {\n",
              "        vertical-align: middle;\n",
              "    }\n",
              "\n",
              "    .dataframe tbody tr th {\n",
              "        vertical-align: top;\n",
              "    }\n",
              "\n",
              "    .dataframe thead th {\n",
              "        text-align: right;\n",
              "    }\n",
              "</style>\n",
              "<table border=\"1\" class=\"dataframe\">\n",
              "  <thead>\n",
              "    <tr style=\"text-align: right;\">\n",
              "      <th></th>\n",
              "      <th>0</th>\n",
              "      <th>1</th>\n",
              "      <th>2</th>\n",
              "      <th>3</th>\n",
              "      <th>4</th>\n",
              "      <th>5</th>\n",
              "      <th>6</th>\n",
              "      <th>7</th>\n",
              "      <th>8</th>\n",
              "      <th>9</th>\n",
              "      <th>10</th>\n",
              "      <th>11</th>\n",
              "      <th>12</th>\n",
              "      <th>13</th>\n",
              "      <th>14</th>\n",
              "      <th>15</th>\n",
              "      <th>16</th>\n",
              "      <th>17</th>\n",
              "      <th>18</th>\n",
              "      <th>19</th>\n",
              "      <th>20</th>\n",
              "      <th>21</th>\n",
              "      <th>22</th>\n",
              "      <th>23</th>\n",
              "      <th>24</th>\n",
              "      <th>25</th>\n",
              "      <th>26</th>\n",
              "      <th>27</th>\n",
              "      <th>28</th>\n",
              "      <th>29</th>\n",
              "      <th>30</th>\n",
              "      <th>31</th>\n",
              "      <th>32</th>\n",
              "      <th>33</th>\n",
              "      <th>34</th>\n",
              "      <th>35</th>\n",
              "      <th>36</th>\n",
              "      <th>37</th>\n",
              "      <th>38</th>\n",
              "      <th>39</th>\n",
              "      <th>...</th>\n",
              "      <th>2264</th>\n",
              "      <th>2265</th>\n",
              "      <th>2266</th>\n",
              "      <th>2267</th>\n",
              "      <th>2268</th>\n",
              "      <th>2269</th>\n",
              "      <th>2270</th>\n",
              "      <th>2271</th>\n",
              "      <th>2272</th>\n",
              "      <th>2273</th>\n",
              "      <th>2274</th>\n",
              "      <th>2275</th>\n",
              "      <th>2276</th>\n",
              "      <th>2277</th>\n",
              "      <th>2278</th>\n",
              "      <th>2279</th>\n",
              "      <th>2280</th>\n",
              "      <th>2281</th>\n",
              "      <th>2282</th>\n",
              "      <th>2283</th>\n",
              "      <th>2284</th>\n",
              "      <th>2285</th>\n",
              "      <th>2286</th>\n",
              "      <th>2287</th>\n",
              "      <th>2288</th>\n",
              "      <th>2289</th>\n",
              "      <th>2290</th>\n",
              "      <th>2291</th>\n",
              "      <th>2292</th>\n",
              "      <th>2293</th>\n",
              "      <th>2294</th>\n",
              "      <th>2295</th>\n",
              "      <th>2296</th>\n",
              "      <th>2297</th>\n",
              "      <th>2298</th>\n",
              "      <th>2299</th>\n",
              "      <th>2300</th>\n",
              "      <th>2301</th>\n",
              "      <th>2302</th>\n",
              "      <th>2303</th>\n",
              "    </tr>\n",
              "  </thead>\n",
              "  <tbody>\n",
              "    <tr>\n",
              "      <th>0</th>\n",
              "      <td>114</td>\n",
              "      <td>120</td>\n",
              "      <td>137</td>\n",
              "      <td>151</td>\n",
              "      <td>156</td>\n",
              "      <td>164</td>\n",
              "      <td>169</td>\n",
              "      <td>166</td>\n",
              "      <td>159</td>\n",
              "      <td>151</td>\n",
              "      <td>158</td>\n",
              "      <td>168</td>\n",
              "      <td>169</td>\n",
              "      <td>172</td>\n",
              "      <td>176</td>\n",
              "      <td>179</td>\n",
              "      <td>180</td>\n",
              "      <td>185</td>\n",
              "      <td>187</td>\n",
              "      <td>184</td>\n",
              "      <td>183</td>\n",
              "      <td>180</td>\n",
              "      <td>179</td>\n",
              "      <td>176</td>\n",
              "      <td>173</td>\n",
              "      <td>171</td>\n",
              "      <td>168</td>\n",
              "      <td>165</td>\n",
              "      <td>163</td>\n",
              "      <td>159</td>\n",
              "      <td>152</td>\n",
              "      <td>153</td>\n",
              "      <td>148</td>\n",
              "      <td>144</td>\n",
              "      <td>136</td>\n",
              "      <td>129</td>\n",
              "      <td>119</td>\n",
              "      <td>117</td>\n",
              "      <td>109</td>\n",
              "      <td>100</td>\n",
              "      <td>...</td>\n",
              "      <td>17</td>\n",
              "      <td>26</td>\n",
              "      <td>30</td>\n",
              "      <td>31</td>\n",
              "      <td>27</td>\n",
              "      <td>24</td>\n",
              "      <td>67</td>\n",
              "      <td>110</td>\n",
              "      <td>105</td>\n",
              "      <td>104</td>\n",
              "      <td>91</td>\n",
              "      <td>80</td>\n",
              "      <td>73</td>\n",
              "      <td>78</td>\n",
              "      <td>76</td>\n",
              "      <td>71</td>\n",
              "      <td>63</td>\n",
              "      <td>60</td>\n",
              "      <td>57</td>\n",
              "      <td>58</td>\n",
              "      <td>61</td>\n",
              "      <td>66</td>\n",
              "      <td>65</td>\n",
              "      <td>59</td>\n",
              "      <td>57</td>\n",
              "      <td>57</td>\n",
              "      <td>57</td>\n",
              "      <td>54</td>\n",
              "      <td>51</td>\n",
              "      <td>52</td>\n",
              "      <td>55</td>\n",
              "      <td>54</td>\n",
              "      <td>65</td>\n",
              "      <td>79</td>\n",
              "      <td>110</td>\n",
              "      <td>105</td>\n",
              "      <td>36</td>\n",
              "      <td>2</td>\n",
              "      <td>5</td>\n",
              "      <td>7</td>\n",
              "    </tr>\n",
              "    <tr>\n",
              "      <th>1</th>\n",
              "      <td>159</td>\n",
              "      <td>170</td>\n",
              "      <td>179</td>\n",
              "      <td>180</td>\n",
              "      <td>189</td>\n",
              "      <td>159</td>\n",
              "      <td>156</td>\n",
              "      <td>161</td>\n",
              "      <td>153</td>\n",
              "      <td>158</td>\n",
              "      <td>176</td>\n",
              "      <td>179</td>\n",
              "      <td>169</td>\n",
              "      <td>171</td>\n",
              "      <td>179</td>\n",
              "      <td>182</td>\n",
              "      <td>177</td>\n",
              "      <td>177</td>\n",
              "      <td>176</td>\n",
              "      <td>174</td>\n",
              "      <td>169</td>\n",
              "      <td>159</td>\n",
              "      <td>159</td>\n",
              "      <td>168</td>\n",
              "      <td>178</td>\n",
              "      <td>178</td>\n",
              "      <td>180</td>\n",
              "      <td>181</td>\n",
              "      <td>181</td>\n",
              "      <td>177</td>\n",
              "      <td>166</td>\n",
              "      <td>165</td>\n",
              "      <td>162</td>\n",
              "      <td>156</td>\n",
              "      <td>149</td>\n",
              "      <td>147</td>\n",
              "      <td>131</td>\n",
              "      <td>135</td>\n",
              "      <td>137</td>\n",
              "      <td>145</td>\n",
              "      <td>...</td>\n",
              "      <td>140</td>\n",
              "      <td>147</td>\n",
              "      <td>145</td>\n",
              "      <td>147</td>\n",
              "      <td>134</td>\n",
              "      <td>123</td>\n",
              "      <td>105</td>\n",
              "      <td>87</td>\n",
              "      <td>103</td>\n",
              "      <td>101</td>\n",
              "      <td>99</td>\n",
              "      <td>93</td>\n",
              "      <td>87</td>\n",
              "      <td>86</td>\n",
              "      <td>78</td>\n",
              "      <td>78</td>\n",
              "      <td>75</td>\n",
              "      <td>73</td>\n",
              "      <td>75</td>\n",
              "      <td>79</td>\n",
              "      <td>86</td>\n",
              "      <td>84</td>\n",
              "      <td>76</td>\n",
              "      <td>80</td>\n",
              "      <td>59</td>\n",
              "      <td>63</td>\n",
              "      <td>75</td>\n",
              "      <td>81</td>\n",
              "      <td>87</td>\n",
              "      <td>96</td>\n",
              "      <td>103</td>\n",
              "      <td>113</td>\n",
              "      <td>66</td>\n",
              "      <td>68</td>\n",
              "      <td>68</td>\n",
              "      <td>68</td>\n",
              "      <td>67</td>\n",
              "      <td>62</td>\n",
              "      <td>55</td>\n",
              "      <td>55</td>\n",
              "    </tr>\n",
              "    <tr>\n",
              "      <th>2</th>\n",
              "      <td>85</td>\n",
              "      <td>90</td>\n",
              "      <td>83</td>\n",
              "      <td>73</td>\n",
              "      <td>157</td>\n",
              "      <td>177</td>\n",
              "      <td>180</td>\n",
              "      <td>178</td>\n",
              "      <td>158</td>\n",
              "      <td>156</td>\n",
              "      <td>157</td>\n",
              "      <td>160</td>\n",
              "      <td>154</td>\n",
              "      <td>141</td>\n",
              "      <td>132</td>\n",
              "      <td>127</td>\n",
              "      <td>119</td>\n",
              "      <td>113</td>\n",
              "      <td>103</td>\n",
              "      <td>92</td>\n",
              "      <td>90</td>\n",
              "      <td>89</td>\n",
              "      <td>86</td>\n",
              "      <td>84</td>\n",
              "      <td>86</td>\n",
              "      <td>86</td>\n",
              "      <td>86</td>\n",
              "      <td>85</td>\n",
              "      <td>85</td>\n",
              "      <td>85</td>\n",
              "      <td>81</td>\n",
              "      <td>79</td>\n",
              "      <td>76</td>\n",
              "      <td>74</td>\n",
              "      <td>70</td>\n",
              "      <td>71</td>\n",
              "      <td>70</td>\n",
              "      <td>64</td>\n",
              "      <td>60</td>\n",
              "      <td>55</td>\n",
              "      <td>...</td>\n",
              "      <td>123</td>\n",
              "      <td>102</td>\n",
              "      <td>81</td>\n",
              "      <td>74</td>\n",
              "      <td>71</td>\n",
              "      <td>72</td>\n",
              "      <td>80</td>\n",
              "      <td>77</td>\n",
              "      <td>68</td>\n",
              "      <td>65</td>\n",
              "      <td>67</td>\n",
              "      <td>67</td>\n",
              "      <td>65</td>\n",
              "      <td>64</td>\n",
              "      <td>63</td>\n",
              "      <td>60</td>\n",
              "      <td>61</td>\n",
              "      <td>60</td>\n",
              "      <td>60</td>\n",
              "      <td>59</td>\n",
              "      <td>59</td>\n",
              "      <td>58</td>\n",
              "      <td>58</td>\n",
              "      <td>57</td>\n",
              "      <td>57</td>\n",
              "      <td>57</td>\n",
              "      <td>60</td>\n",
              "      <td>62</td>\n",
              "      <td>57</td>\n",
              "      <td>60</td>\n",
              "      <td>189</td>\n",
              "      <td>228</td>\n",
              "      <td>226</td>\n",
              "      <td>224</td>\n",
              "      <td>227</td>\n",
              "      <td>227</td>\n",
              "      <td>227</td>\n",
              "      <td>227</td>\n",
              "      <td>228</td>\n",
              "      <td>228</td>\n",
              "    </tr>\n",
              "    <tr>\n",
              "      <th>3</th>\n",
              "      <td>206</td>\n",
              "      <td>214</td>\n",
              "      <td>210</td>\n",
              "      <td>200</td>\n",
              "      <td>190</td>\n",
              "      <td>189</td>\n",
              "      <td>187</td>\n",
              "      <td>190</td>\n",
              "      <td>187</td>\n",
              "      <td>186</td>\n",
              "      <td>188</td>\n",
              "      <td>187</td>\n",
              "      <td>184</td>\n",
              "      <td>184</td>\n",
              "      <td>182</td>\n",
              "      <td>185</td>\n",
              "      <td>179</td>\n",
              "      <td>175</td>\n",
              "      <td>169</td>\n",
              "      <td>163</td>\n",
              "      <td>163</td>\n",
              "      <td>161</td>\n",
              "      <td>163</td>\n",
              "      <td>160</td>\n",
              "      <td>154</td>\n",
              "      <td>136</td>\n",
              "      <td>132</td>\n",
              "      <td>124</td>\n",
              "      <td>123</td>\n",
              "      <td>123</td>\n",
              "      <td>105</td>\n",
              "      <td>87</td>\n",
              "      <td>81</td>\n",
              "      <td>73</td>\n",
              "      <td>76</td>\n",
              "      <td>70</td>\n",
              "      <td>67</td>\n",
              "      <td>70</td>\n",
              "      <td>76</td>\n",
              "      <td>68</td>\n",
              "      <td>...</td>\n",
              "      <td>0</td>\n",
              "      <td>0</td>\n",
              "      <td>0</td>\n",
              "      <td>0</td>\n",
              "      <td>0</td>\n",
              "      <td>0</td>\n",
              "      <td>0</td>\n",
              "      <td>0</td>\n",
              "      <td>0</td>\n",
              "      <td>0</td>\n",
              "      <td>0</td>\n",
              "      <td>0</td>\n",
              "      <td>0</td>\n",
              "      <td>0</td>\n",
              "      <td>0</td>\n",
              "      <td>0</td>\n",
              "      <td>0</td>\n",
              "      <td>0</td>\n",
              "      <td>0</td>\n",
              "      <td>0</td>\n",
              "      <td>0</td>\n",
              "      <td>0</td>\n",
              "      <td>0</td>\n",
              "      <td>0</td>\n",
              "      <td>0</td>\n",
              "      <td>0</td>\n",
              "      <td>0</td>\n",
              "      <td>0</td>\n",
              "      <td>0</td>\n",
              "      <td>0</td>\n",
              "      <td>0</td>\n",
              "      <td>0</td>\n",
              "      <td>0</td>\n",
              "      <td>0</td>\n",
              "      <td>1</td>\n",
              "      <td>2</td>\n",
              "      <td>3</td>\n",
              "      <td>5</td>\n",
              "      <td>0</td>\n",
              "      <td>0</td>\n",
              "    </tr>\n",
              "    <tr>\n",
              "      <th>4</th>\n",
              "      <td>60</td>\n",
              "      <td>43</td>\n",
              "      <td>42</td>\n",
              "      <td>44</td>\n",
              "      <td>42</td>\n",
              "      <td>46</td>\n",
              "      <td>61</td>\n",
              "      <td>81</td>\n",
              "      <td>85</td>\n",
              "      <td>80</td>\n",
              "      <td>78</td>\n",
              "      <td>77</td>\n",
              "      <td>84</td>\n",
              "      <td>93</td>\n",
              "      <td>99</td>\n",
              "      <td>109</td>\n",
              "      <td>120</td>\n",
              "      <td>132</td>\n",
              "      <td>146</td>\n",
              "      <td>157</td>\n",
              "      <td>163</td>\n",
              "      <td>170</td>\n",
              "      <td>174</td>\n",
              "      <td>182</td>\n",
              "      <td>186</td>\n",
              "      <td>187</td>\n",
              "      <td>189</td>\n",
              "      <td>188</td>\n",
              "      <td>188</td>\n",
              "      <td>187</td>\n",
              "      <td>182</td>\n",
              "      <td>175</td>\n",
              "      <td>169</td>\n",
              "      <td>164</td>\n",
              "      <td>159</td>\n",
              "      <td>158</td>\n",
              "      <td>170</td>\n",
              "      <td>175</td>\n",
              "      <td>165</td>\n",
              "      <td>149</td>\n",
              "      <td>...</td>\n",
              "      <td>57</td>\n",
              "      <td>46</td>\n",
              "      <td>44</td>\n",
              "      <td>44</td>\n",
              "      <td>55</td>\n",
              "      <td>71</td>\n",
              "      <td>76</td>\n",
              "      <td>62</td>\n",
              "      <td>51</td>\n",
              "      <td>44</td>\n",
              "      <td>41</td>\n",
              "      <td>38</td>\n",
              "      <td>40</td>\n",
              "      <td>46</td>\n",
              "      <td>54</td>\n",
              "      <td>60</td>\n",
              "      <td>72</td>\n",
              "      <td>81</td>\n",
              "      <td>93</td>\n",
              "      <td>102</td>\n",
              "      <td>111</td>\n",
              "      <td>127</td>\n",
              "      <td>131</td>\n",
              "      <td>132</td>\n",
              "      <td>140</td>\n",
              "      <td>147</td>\n",
              "      <td>150</td>\n",
              "      <td>155</td>\n",
              "      <td>123</td>\n",
              "      <td>73</td>\n",
              "      <td>87</td>\n",
              "      <td>92</td>\n",
              "      <td>90</td>\n",
              "      <td>91</td>\n",
              "      <td>90</td>\n",
              "      <td>90</td>\n",
              "      <td>90</td>\n",
              "      <td>88</td>\n",
              "      <td>87</td>\n",
              "      <td>87</td>\n",
              "    </tr>\n",
              "  </tbody>\n",
              "</table>\n",
              "<p>5 rows × 2304 columns</p>\n",
              "</div>"
            ],
            "text/plain": [
              "     0    1    2    3    4    5    6  ...  2297  2298  2299  2300  2301  2302  2303\n",
              "0  114  120  137  151  156  164  169  ...    79   110   105    36     2     5     7\n",
              "1  159  170  179  180  189  159  156  ...    68    68    68    67    62    55    55\n",
              "2   85   90   83   73  157  177  180  ...   224   227   227   227   227   228   228\n",
              "3  206  214  210  200  190  189  187  ...     0     1     2     3     5     0     0\n",
              "4   60   43   42   44   42   46   61  ...    91    90    90    90    88    87    87\n",
              "\n",
              "[5 rows x 2304 columns]"
            ]
          },
          "metadata": {
            "tags": []
          },
          "execution_count": 5
        }
      ]
    },
    {
      "cell_type": "code",
      "metadata": {
        "colab": {
          "base_uri": "https://localhost:8080/"
        },
        "id": "WRFbnFIJEks_",
        "outputId": "3bf900bb-4459-44f8-fe7c-787a89f09b4e"
      },
      "source": [
        "train0.shape[0]"
      ],
      "execution_count": 6,
      "outputs": [
        {
          "output_type": "execute_result",
          "data": {
            "text/plain": [
              "787"
            ]
          },
          "metadata": {
            "tags": []
          },
          "execution_count": 6
        }
      ]
    },
    {
      "cell_type": "code",
      "metadata": {
        "id": "WMd2dnC1D2jR"
      },
      "source": [
        "train0 = train0.values.tolist()\n",
        "val0 = val0.values.tolist()\n",
        "y_train0 = y_train0.values.tolist()\n",
        "y_val0 = y_val0.values.tolist()\n",
        "test0 = test0.values.tolist()\n",
        "y_test0 = y_test0.values.tolist()"
      ],
      "execution_count": 7,
      "outputs": []
    },
    {
      "cell_type": "code",
      "metadata": {
        "id": "mJ9DcBQ72uE1"
      },
      "source": [
        "X_train = np.array(train0)\n",
        "y_train = np.array(y_train0)\n",
        "X_valid = np.array(val0)\n",
        "y_valid = np.array(y_val0)\n",
        "X_test = np.array(test0)\n",
        "y_test = np.array(y_test0)"
      ],
      "execution_count": 8,
      "outputs": []
    },
    {
      "cell_type": "code",
      "metadata": {
        "id": "h7LBnNeA18Bl"
      },
      "source": [
        "X_train1 = X_train.reshape(X_train.shape[0], 48, 48, 1)\n",
        "X_valid1 = X_valid.reshape(X_valid.shape[0], 48, 48, 1)\n",
        "X_test1 = X_test.reshape(X_test.shape[0], 48, 48, 1)\n",
        "\n",
        "y_train1 = np_utils.to_categorical(y_train, num_classes = 11)\n",
        "y_valid1 = np_utils.to_categorical(y_valid, num_classes = 11)\n",
        "y_test1 = np_utils.to_categorical(y_test, num_classes = 11)"
      ],
      "execution_count": 9,
      "outputs": []
    },
    {
      "cell_type": "code",
      "metadata": {
        "colab": {
          "base_uri": "https://localhost:8080/"
        },
        "id": "Hhprhdk72EAN",
        "outputId": "9e9de631-08c9-4f40-abcd-090877c30632"
      },
      "source": [
        "model = Sequential()\n",
        "model.add(ZeroPadding2D((1,1),input_shape=(48,48,1)))\n",
        "model.add(Convolution2D(64, (3, 3), activation=\"relu\"))\n",
        "model.add(ZeroPadding2D((1,1)))\n",
        "model.add(Convolution2D(64, (3, 3), activation=\"relu\"))\n",
        "model.add(MaxPooling2D((2,2), strides=(2,2)))\n",
        "\n",
        "model.add(ZeroPadding2D((1,1)))\n",
        "model.add(Convolution2D(128, (3, 3), activation=\"relu\"))\n",
        "model.add(ZeroPadding2D((1,1)))\n",
        "model.add(Convolution2D(128, (3, 3), activation=\"relu\"))\n",
        "model.add(MaxPooling2D((2,2), strides=(2,2)))\n",
        "\n",
        "model.add(ZeroPadding2D((1,1)))\n",
        "model.add(Convolution2D(256, (3, 3), activation=\"relu\"))\n",
        "model.add(ZeroPadding2D((1,1)))\n",
        "model.add(Convolution2D(256, (3, 3), activation=\"relu\"))\n",
        "model.add(ZeroPadding2D((1,1)))\n",
        "model.add(Convolution2D(256, (3, 3), activation=\"relu\"))\n",
        "model.add(MaxPooling2D((2,2), strides=(2,2)))\n",
        "\n",
        "model.add(ZeroPadding2D((1,1)))\n",
        "model.add(Convolution2D(512, (3, 3), activation=\"relu\"))\n",
        "model.add(ZeroPadding2D((1,1)))\n",
        "model.add(Convolution2D(512, (3, 3), activation=\"relu\"))\n",
        "model.add(ZeroPadding2D((1,1)))\n",
        "model.add(Convolution2D(512, (3, 3), activation=\"relu\"))\n",
        "model.add(MaxPooling2D((2,2), strides=(2,2)))\n",
        "\n",
        "model.add(ZeroPadding2D((1,1)))\n",
        "model.add(Convolution2D(512, (3, 3), activation=\"relu\"))\n",
        "model.add(ZeroPadding2D((1,1)))\n",
        "model.add(Convolution2D(512, (3, 3), activation=\"relu\"))\n",
        "model.add(ZeroPadding2D((1,1)))\n",
        "model.add(Convolution2D(512, (3, 3), activation=\"relu\"))\n",
        "model.add(MaxPooling2D((2,2), strides=(2,2)))\n",
        "\n",
        "model.add(Flatten())\n",
        "model.add(Dense(4096, activation='relu'))\n",
        "model.add(Dropout(0.5))\n",
        "model.add(Dense(4096, activation='relu'))\n",
        "model.add(Dropout(0.5))\n",
        "model.add(Dense(11, activation='softmax'))"
      ],
      "execution_count": 10,
      "outputs": [
        {
          "output_type": "stream",
          "text": [
            "WARNING:tensorflow:From /tensorflow-1.15.2/python3.7/tensorflow_core/python/ops/resource_variable_ops.py:1630: calling BaseResourceVariable.__init__ (from tensorflow.python.ops.resource_variable_ops) with constraint is deprecated and will be removed in a future version.\n",
            "Instructions for updating:\n",
            "If using Keras pass *_constraint arguments to layers.\n",
            "WARNING:tensorflow:From /tensorflow-1.15.2/python3.7/keras/backend/tensorflow_backend.py:4070: The name tf.nn.max_pool is deprecated. Please use tf.nn.max_pool2d instead.\n",
            "\n"
          ],
          "name": "stdout"
        }
      ]
    },
    {
      "cell_type": "code",
      "metadata": {
        "id": "gKJd7J292HA8"
      },
      "source": [
        "model.compile(optimizer= 'sgd', loss='categorical_crossentropy', metrics=['accuracy'])"
      ],
      "execution_count": 11,
      "outputs": []
    },
    {
      "cell_type": "code",
      "metadata": {
        "colab": {
          "base_uri": "https://localhost:8080/"
        },
        "id": "nHUlxhZF2I9X",
        "outputId": "ce2608b9-2941-487c-ccfc-bb2de24b0e43"
      },
      "source": [
        "model.fit(X_train1, y_train1, batch_size=32, epochs=30, verbose=1, validation_data=(X_valid1, y_valid1))"
      ],
      "execution_count": 12,
      "outputs": [
        {
          "output_type": "stream",
          "text": [
            "WARNING:tensorflow:From /tensorflow-1.15.2/python3.7/keras/backend/tensorflow_backend.py:422: The name tf.global_variables is deprecated. Please use tf.compat.v1.global_variables instead.\n",
            "\n",
            "Train on 787 samples, validate on 89 samples\n",
            "Epoch 1/30\n",
            "787/787 [==============================] - 10s 13ms/step - loss: 2.3851 - accuracy: 0.1118 - val_loss: 2.3828 - val_accuracy: 0.0562\n",
            "Epoch 2/30\n",
            "787/787 [==============================] - 1s 2ms/step - loss: 2.3817 - accuracy: 0.1055 - val_loss: 2.3751 - val_accuracy: 0.1011\n",
            "Epoch 3/30\n",
            "787/787 [==============================] - 1s 2ms/step - loss: 2.3725 - accuracy: 0.1004 - val_loss: 2.3765 - val_accuracy: 0.1011\n",
            "Epoch 4/30\n",
            "787/787 [==============================] - 1s 2ms/step - loss: 2.3716 - accuracy: 0.1029 - val_loss: 2.3775 - val_accuracy: 0.1011\n",
            "Epoch 5/30\n",
            "787/787 [==============================] - 1s 2ms/step - loss: 2.3674 - accuracy: 0.1334 - val_loss: 2.3792 - val_accuracy: 0.0562\n",
            "Epoch 6/30\n",
            "787/787 [==============================] - 1s 2ms/step - loss: 2.3659 - accuracy: 0.1220 - val_loss: 2.3760 - val_accuracy: 0.1011\n",
            "Epoch 7/30\n",
            "787/787 [==============================] - 1s 2ms/step - loss: 2.3674 - accuracy: 0.1258 - val_loss: 2.3818 - val_accuracy: 0.1011\n",
            "Epoch 8/30\n",
            "787/787 [==============================] - 1s 2ms/step - loss: 2.3642 - accuracy: 0.1233 - val_loss: 2.3923 - val_accuracy: 0.1011\n",
            "Epoch 9/30\n",
            "787/787 [==============================] - 1s 2ms/step - loss: 2.3731 - accuracy: 0.1194 - val_loss: 2.3812 - val_accuracy: 0.1011\n",
            "Epoch 10/30\n",
            "787/787 [==============================] - 1s 2ms/step - loss: 2.3676 - accuracy: 0.1156 - val_loss: 2.3792 - val_accuracy: 0.1011\n",
            "Epoch 11/30\n",
            "787/787 [==============================] - 1s 2ms/step - loss: 2.3709 - accuracy: 0.1309 - val_loss: 2.3788 - val_accuracy: 0.1011\n",
            "Epoch 12/30\n",
            "787/787 [==============================] - 1s 2ms/step - loss: 2.3654 - accuracy: 0.1245 - val_loss: 2.3775 - val_accuracy: 0.1011\n",
            "Epoch 13/30\n",
            "787/787 [==============================] - 1s 2ms/step - loss: 2.3578 - accuracy: 0.1220 - val_loss: 2.3778 - val_accuracy: 0.1011\n",
            "Epoch 14/30\n",
            "787/787 [==============================] - 1s 2ms/step - loss: 2.3620 - accuracy: 0.1334 - val_loss: 2.3792 - val_accuracy: 0.1011\n",
            "Epoch 15/30\n",
            "787/787 [==============================] - 1s 2ms/step - loss: 2.3652 - accuracy: 0.1169 - val_loss: 2.3771 - val_accuracy: 0.1011\n",
            "Epoch 16/30\n",
            "787/787 [==============================] - 1s 2ms/step - loss: 2.3616 - accuracy: 0.1309 - val_loss: 2.3805 - val_accuracy: 0.1011\n",
            "Epoch 17/30\n",
            "787/787 [==============================] - 1s 2ms/step - loss: 2.3613 - accuracy: 0.1258 - val_loss: 2.3870 - val_accuracy: 0.1011\n",
            "Epoch 18/30\n",
            "787/787 [==============================] - 1s 2ms/step - loss: 2.3642 - accuracy: 0.1398 - val_loss: 2.3759 - val_accuracy: 0.1011\n",
            "Epoch 19/30\n",
            "787/787 [==============================] - 1s 2ms/step - loss: 2.3648 - accuracy: 0.1321 - val_loss: 2.3772 - val_accuracy: 0.1011\n",
            "Epoch 20/30\n",
            "787/787 [==============================] - 1s 2ms/step - loss: 2.3609 - accuracy: 0.1233 - val_loss: 2.3805 - val_accuracy: 0.1011\n",
            "Epoch 21/30\n",
            "787/787 [==============================] - 1s 2ms/step - loss: 2.3619 - accuracy: 0.1105 - val_loss: 2.3821 - val_accuracy: 0.1011\n",
            "Epoch 22/30\n",
            "787/787 [==============================] - 1s 2ms/step - loss: 2.3665 - accuracy: 0.1182 - val_loss: 2.3815 - val_accuracy: 0.1011\n",
            "Epoch 23/30\n",
            "787/787 [==============================] - 1s 2ms/step - loss: 2.3593 - accuracy: 0.1309 - val_loss: 2.3779 - val_accuracy: 0.1011\n",
            "Epoch 24/30\n",
            "787/787 [==============================] - 1s 2ms/step - loss: 2.3602 - accuracy: 0.1258 - val_loss: 2.3783 - val_accuracy: 0.1011\n",
            "Epoch 25/30\n",
            "787/787 [==============================] - 1s 2ms/step - loss: 2.3597 - accuracy: 0.1220 - val_loss: 2.3754 - val_accuracy: 0.1011\n",
            "Epoch 26/30\n",
            "787/787 [==============================] - 1s 2ms/step - loss: 2.3632 - accuracy: 0.1220 - val_loss: 2.3758 - val_accuracy: 0.1011\n",
            "Epoch 27/30\n",
            "787/787 [==============================] - 1s 2ms/step - loss: 2.3646 - accuracy: 0.1271 - val_loss: 2.3768 - val_accuracy: 0.1011\n",
            "Epoch 28/30\n",
            "787/787 [==============================] - 1s 2ms/step - loss: 2.3618 - accuracy: 0.1321 - val_loss: 2.3774 - val_accuracy: 0.1011\n",
            "Epoch 29/30\n",
            "787/787 [==============================] - 1s 2ms/step - loss: 2.3635 - accuracy: 0.1194 - val_loss: 2.3748 - val_accuracy: 0.1011\n",
            "Epoch 30/30\n",
            "787/787 [==============================] - 1s 2ms/step - loss: 2.3624 - accuracy: 0.1156 - val_loss: 2.3768 - val_accuracy: 0.1011\n"
          ],
          "name": "stdout"
        },
        {
          "output_type": "execute_result",
          "data": {
            "text/plain": [
              "<keras.callbacks.callbacks.History at 0x7f31ea502550>"
            ]
          },
          "metadata": {
            "tags": []
          },
          "execution_count": 12
        }
      ]
    },
    {
      "cell_type": "code",
      "metadata": {
        "colab": {
          "base_uri": "https://localhost:8080/"
        },
        "id": "VMjWgB6pWtbd",
        "outputId": "bf2320ae-5a5a-4742-8248-d947727d1e37"
      },
      "source": [
        "Y_test1 = np.argmax(y_test1, axis=1)\n",
        "y_pred1 = model.predict_classes(X_test1)\n",
        "target_names = ['1-2', '3-9', '10-20', '21-25', '26-27', '28-31', '32-36', '37-45', '46-54', '55-65', '66-116']\n",
        "print(classification_report(Y_test1, y_pred1, target_names = target_names))"
      ],
      "execution_count": 13,
      "outputs": [
        {
          "output_type": "stream",
          "text": [
            "              precision    recall  f1-score   support\n",
            "\n",
            "         1-2       0.00      0.00      0.00      1310\n",
            "         3-9       0.00      0.00      0.00      1174\n",
            "       10-20       0.00      0.00      0.00      1460\n",
            "       21-25       0.12      1.00      0.21      2197\n",
            "       26-27       0.00      0.00      0.00      2237\n",
            "       28-31       0.00      0.00      0.00      2061\n",
            "       32-36       0.00      0.00      0.00      2060\n",
            "       37-45       0.00      0.00      0.00      1996\n",
            "       46-54       0.00      0.00      0.00      1573\n",
            "       55-65       0.00      0.00      0.00      1527\n",
            "      66-116       0.00      0.00      0.00      1368\n",
            "\n",
            "    accuracy                           0.12     18963\n",
            "   macro avg       0.01      0.09      0.02     18963\n",
            "weighted avg       0.01      0.12      0.02     18963\n",
            "\n"
          ],
          "name": "stdout"
        },
        {
          "output_type": "stream",
          "text": [
            "/usr/local/lib/python3.7/dist-packages/sklearn/metrics/_classification.py:1272: UndefinedMetricWarning: Precision and F-score are ill-defined and being set to 0.0 in labels with no predicted samples. Use `zero_division` parameter to control this behavior.\n",
            "  _warn_prf(average, modifier, msg_start, len(result))\n"
          ],
          "name": "stderr"
        }
      ]
    },
    {
      "cell_type": "code",
      "metadata": {
        "colab": {
          "base_uri": "https://localhost:8080/"
        },
        "id": "5RHBRIYVW9H9",
        "outputId": "a04ee9cc-b5d8-47b8-9882-87908b4d8651"
      },
      "source": [
        "cm = confusion_matrix(y_test1.argmax(axis=1), y_pred1)\n",
        "print(cm)"
      ],
      "execution_count": 14,
      "outputs": [
        {
          "output_type": "stream",
          "text": [
            "[[   0    0    0 1310    0    0    0    0    0    0    0]\n",
            " [   0    0    0 1174    0    0    0    0    0    0    0]\n",
            " [   0    0    0 1460    0    0    0    0    0    0    0]\n",
            " [   0    0    0 2197    0    0    0    0    0    0    0]\n",
            " [   0    0    0 2237    0    0    0    0    0    0    0]\n",
            " [   0    0    0 2061    0    0    0    0    0    0    0]\n",
            " [   0    0    0 2060    0    0    0    0    0    0    0]\n",
            " [   0    0    0 1996    0    0    0    0    0    0    0]\n",
            " [   0    0    0 1573    0    0    0    0    0    0    0]\n",
            " [   0    0    0 1527    0    0    0    0    0    0    0]\n",
            " [   0    0    0 1368    0    0    0    0    0    0    0]]\n"
          ],
          "name": "stdout"
        }
      ]
    },
    {
      "cell_type": "code",
      "metadata": {
        "colab": {
          "base_uri": "https://localhost:8080/",
          "height": 690
        },
        "id": "aGMs94NcW_Rq",
        "outputId": "7c47b3da-2fcd-465d-b24c-2c33cf77778b"
      },
      "source": [
        "fig,ax= plt.subplots(figsize=(11,11))\n",
        "sns.heatmap(cm / (cm.astype(np.float).sum(axis=1, keepdims=True)), annot=True, fmt='.1%', cmap='Blues')\n",
        "#sns.heatmap(cm, annot=True, fmt='.0f',cmap='Blues')\n",
        "ax.set_xlabel('Predicted', size=20);\n",
        "ax.set_ylabel('True', size=20);\n",
        "ax.set_title('Confusion Matrix', size=20);\n",
        "ax.xaxis.set_ticklabels(target_names, size=10); \\\n",
        "ax.yaxis.set_ticklabels(target_names, size=10);"
      ],
      "execution_count": 15,
      "outputs": [
        {
          "output_type": "display_data",
          "data": {
            "image/png": "[encoded data removed]",
            "text/plain": [
              "<Figure size 792x792 with 2 Axes>"
            ]
          },
          "metadata": {
            "tags": [],
            "needs_background": "light"
          }
        }
      ]
    },
    {
      "cell_type": "code",
      "metadata": {
        "id": "C3848xk06Qnh"
      },
      "source": [
        "pred = model.predict(X_test1)\n",
        "pred1 = np.where(pred==1)\n",
        "TP_Indexes = []\n",
        "for k in pred1[0]:\n",
        "    if(y_test1[k][0] == 1):\n",
        "        TP_Indexes.append(k)\n",
        "X_test1_TP = X_test1[TP_Indexes]"
      ],
      "execution_count": 16,
      "outputs": []
    },
    {
      "cell_type": "code",
      "metadata": {
        "id": "LwU-RG8R8cS3"
      },
      "source": [
        "aa = pd.DataFrame(y_pred1)\n",
        "# aa2 = pd.DataFrame(pred1)\n",
        "# aa3 = pd.DataFrame(TP_Indexes)\n",
        "# aa4 = pd.DataFrame(X_test1_TP)"
      ],
      "execution_count": 17,
      "outputs": []
    },
    {
      "cell_type": "code",
      "metadata": {
        "colab": {
          "base_uri": "https://localhost:8080/",
          "height": 204
        },
        "id": "ZMroLQj2AfAc",
        "outputId": "c33f7490-d942-4aaa-92f9-d8327773b635"
      },
      "source": [
        "aa.head()"
      ],
      "execution_count": 18,
      "outputs": [
        {
          "output_type": "execute_result",
          "data": {
            "text/html": [
              "<div>\n",
              "<style scoped>\n",
              "    .dataframe tbody tr th:only-of-type {\n",
              "        vertical-align: middle;\n",
              "    }\n",
              "\n",
              "    .dataframe tbody tr th {\n",
              "        vertical-align: top;\n",
              "    }\n",
              "\n",
              "    .dataframe thead th {\n",
              "        text-align: right;\n",
              "    }\n",
              "</style>\n",
              "<table border=\"1\" class=\"dataframe\">\n",
              "  <thead>\n",
              "    <tr style=\"text-align: right;\">\n",
              "      <th></th>\n",
              "      <th>0</th>\n",
              "    </tr>\n",
              "  </thead>\n",
              "  <tbody>\n",
              "    <tr>\n",
              "      <th>0</th>\n",
              "      <td>3</td>\n",
              "    </tr>\n",
              "    <tr>\n",
              "      <th>1</th>\n",
              "      <td>3</td>\n",
              "    </tr>\n",
              "    <tr>\n",
              "      <th>2</th>\n",
              "      <td>3</td>\n",
              "    </tr>\n",
              "    <tr>\n",
              "      <th>3</th>\n",
              "      <td>3</td>\n",
              "    </tr>\n",
              "    <tr>\n",
              "      <th>4</th>\n",
              "      <td>3</td>\n",
              "    </tr>\n",
              "  </tbody>\n",
              "</table>\n",
              "</div>"
            ],
            "text/plain": [
              "   0\n",
              "0  3\n",
              "1  3\n",
              "2  3\n",
              "3  3\n",
              "4  3"
            ]
          },
          "metadata": {
            "tags": []
          },
          "execution_count": 18
        }
      ]
    },
    {
      "cell_type": "code",
      "metadata": {
        "id": "I56ZP3tkHnhB"
      },
      "source": [
        "aaFinal = pd.DataFrame(y_test1)"
      ],
      "execution_count": 19,
      "outputs": []
    },
    {
      "cell_type": "code",
      "metadata": {
        "colab": {
          "base_uri": "https://localhost:8080/"
        },
        "id": "hB6IosaeKBsD",
        "outputId": "f7fb1ca1-27e0-41c7-9e06-9f9fefb38107"
      },
      "source": [
        "aaFinal[0].values[1]"
      ],
      "execution_count": 20,
      "outputs": [
        {
          "output_type": "execute_result",
          "data": {
            "text/plain": [
              "0.0"
            ]
          },
          "metadata": {
            "tags": []
          },
          "execution_count": 20
        }
      ]
    },
    {
      "cell_type": "code",
      "metadata": {
        "id": "wLtr7-qrybU3"
      },
      "source": [
        "aaFinal['aa'] = aa[0]"
      ],
      "execution_count": 21,
      "outputs": []
    },
    {
      "cell_type": "code",
      "metadata": {
        "colab": {
          "base_uri": "https://localhost:8080/",
          "height": 204
        },
        "id": "ILQpxTqtybjD",
        "outputId": "881f7adb-03d3-4d96-a8be-4f55dc56863f"
      },
      "source": [
        "aaFinal.head()"
      ],
      "execution_count": 22,
      "outputs": [
        {
          "output_type": "execute_result",
          "data": {
            "text/html": [
              "<div>\n",
              "<style scoped>\n",
              "    .dataframe tbody tr th:only-of-type {\n",
              "        vertical-align: middle;\n",
              "    }\n",
              "\n",
              "    .dataframe tbody tr th {\n",
              "        vertical-align: top;\n",
              "    }\n",
              "\n",
              "    .dataframe thead th {\n",
              "        text-align: right;\n",
              "    }\n",
              "</style>\n",
              "<table border=\"1\" class=\"dataframe\">\n",
              "  <thead>\n",
              "    <tr style=\"text-align: right;\">\n",
              "      <th></th>\n",
              "      <th>0</th>\n",
              "      <th>1</th>\n",
              "      <th>2</th>\n",
              "      <th>3</th>\n",
              "      <th>4</th>\n",
              "      <th>5</th>\n",
              "      <th>6</th>\n",
              "      <th>7</th>\n",
              "      <th>8</th>\n",
              "      <th>9</th>\n",
              "      <th>10</th>\n",
              "      <th>aa</th>\n",
              "    </tr>\n",
              "  </thead>\n",
              "  <tbody>\n",
              "    <tr>\n",
              "      <th>0</th>\n",
              "      <td>0.0</td>\n",
              "      <td>0.0</td>\n",
              "      <td>0.0</td>\n",
              "      <td>0.0</td>\n",
              "      <td>0.0</td>\n",
              "      <td>0.0</td>\n",
              "      <td>0.0</td>\n",
              "      <td>0.0</td>\n",
              "      <td>1.0</td>\n",
              "      <td>0.0</td>\n",
              "      <td>0.0</td>\n",
              "      <td>3</td>\n",
              "    </tr>\n",
              "    <tr>\n",
              "      <th>1</th>\n",
              "      <td>0.0</td>\n",
              "      <td>0.0</td>\n",
              "      <td>0.0</td>\n",
              "      <td>0.0</td>\n",
              "      <td>0.0</td>\n",
              "      <td>0.0</td>\n",
              "      <td>0.0</td>\n",
              "      <td>0.0</td>\n",
              "      <td>1.0</td>\n",
              "      <td>0.0</td>\n",
              "      <td>0.0</td>\n",
              "      <td>3</td>\n",
              "    </tr>\n",
              "    <tr>\n",
              "      <th>2</th>\n",
              "      <td>0.0</td>\n",
              "      <td>0.0</td>\n",
              "      <td>1.0</td>\n",
              "      <td>0.0</td>\n",
              "      <td>0.0</td>\n",
              "      <td>0.0</td>\n",
              "      <td>0.0</td>\n",
              "      <td>0.0</td>\n",
              "      <td>0.0</td>\n",
              "      <td>0.0</td>\n",
              "      <td>0.0</td>\n",
              "      <td>3</td>\n",
              "    </tr>\n",
              "    <tr>\n",
              "      <th>3</th>\n",
              "      <td>0.0</td>\n",
              "      <td>0.0</td>\n",
              "      <td>0.0</td>\n",
              "      <td>0.0</td>\n",
              "      <td>1.0</td>\n",
              "      <td>0.0</td>\n",
              "      <td>0.0</td>\n",
              "      <td>0.0</td>\n",
              "      <td>0.0</td>\n",
              "      <td>0.0</td>\n",
              "      <td>0.0</td>\n",
              "      <td>3</td>\n",
              "    </tr>\n",
              "    <tr>\n",
              "      <th>4</th>\n",
              "      <td>1.0</td>\n",
              "      <td>0.0</td>\n",
              "      <td>0.0</td>\n",
              "      <td>0.0</td>\n",
              "      <td>0.0</td>\n",
              "      <td>0.0</td>\n",
              "      <td>0.0</td>\n",
              "      <td>0.0</td>\n",
              "      <td>0.0</td>\n",
              "      <td>0.0</td>\n",
              "      <td>0.0</td>\n",
              "      <td>3</td>\n",
              "    </tr>\n",
              "  </tbody>\n",
              "</table>\n",
              "</div>"
            ],
            "text/plain": [
              "     0    1    2    3    4    5    6    7    8    9   10  aa\n",
              "0  0.0  0.0  0.0  0.0  0.0  0.0  0.0  0.0  1.0  0.0  0.0   3\n",
              "1  0.0  0.0  0.0  0.0  0.0  0.0  0.0  0.0  1.0  0.0  0.0   3\n",
              "2  0.0  0.0  1.0  0.0  0.0  0.0  0.0  0.0  0.0  0.0  0.0   3\n",
              "3  0.0  0.0  0.0  0.0  1.0  0.0  0.0  0.0  0.0  0.0  0.0   3\n",
              "4  1.0  0.0  0.0  0.0  0.0  0.0  0.0  0.0  0.0  0.0  0.0   3"
            ]
          },
          "metadata": {
            "tags": []
          },
          "execution_count": 22
        }
      ]
    },
    {
      "cell_type": "code",
      "metadata": {
        "id": "ipe1OdejytJO"
      },
      "source": [
        "def label_age (row):\n",
        "    if row[row['aa']] == 1.0:\n",
        "        return 1\n",
        "    else:\n",
        "        return 0"
      ],
      "execution_count": 23,
      "outputs": []
    },
    {
      "cell_type": "code",
      "metadata": {
        "id": "HnDXpIX_ywLs"
      },
      "source": [
        "aaFinal['YorN'] = aaFinal.apply (lambda row: label_age(row), axis=1)"
      ],
      "execution_count": 24,
      "outputs": []
    },
    {
      "cell_type": "code",
      "metadata": {
        "colab": {
          "base_uri": "https://localhost:8080/",
          "height": 204
        },
        "id": "-ZHnH9YiyyOF",
        "outputId": "e952f3c4-5fc8-44de-ecbc-19616d6b7b31"
      },
      "source": [
        "aaFinal.head()"
      ],
      "execution_count": 25,
      "outputs": [
        {
          "output_type": "execute_result",
          "data": {
            "text/html": [
              "<div>\n",
              "<style scoped>\n",
              "    .dataframe tbody tr th:only-of-type {\n",
              "        vertical-align: middle;\n",
              "    }\n",
              "\n",
              "    .dataframe tbody tr th {\n",
              "        vertical-align: top;\n",
              "    }\n",
              "\n",
              "    .dataframe thead th {\n",
              "        text-align: right;\n",
              "    }\n",
              "</style>\n",
              "<table border=\"1\" class=\"dataframe\">\n",
              "  <thead>\n",
              "    <tr style=\"text-align: right;\">\n",
              "      <th></th>\n",
              "      <th>0</th>\n",
              "      <th>1</th>\n",
              "      <th>2</th>\n",
              "      <th>3</th>\n",
              "      <th>4</th>\n",
              "      <th>5</th>\n",
              "      <th>6</th>\n",
              "      <th>7</th>\n",
              "      <th>8</th>\n",
              "      <th>9</th>\n",
              "      <th>10</th>\n",
              "      <th>aa</th>\n",
              "      <th>YorN</th>\n",
              "    </tr>\n",
              "  </thead>\n",
              "  <tbody>\n",
              "    <tr>\n",
              "      <th>0</th>\n",
              "      <td>0.0</td>\n",
              "      <td>0.0</td>\n",
              "      <td>0.0</td>\n",
              "      <td>0.0</td>\n",
              "      <td>0.0</td>\n",
              "      <td>0.0</td>\n",
              "      <td>0.0</td>\n",
              "      <td>0.0</td>\n",
              "      <td>1.0</td>\n",
              "      <td>0.0</td>\n",
              "      <td>0.0</td>\n",
              "      <td>3</td>\n",
              "      <td>0</td>\n",
              "    </tr>\n",
              "    <tr>\n",
              "      <th>1</th>\n",
              "      <td>0.0</td>\n",
              "      <td>0.0</td>\n",
              "      <td>0.0</td>\n",
              "      <td>0.0</td>\n",
              "      <td>0.0</td>\n",
              "      <td>0.0</td>\n",
              "      <td>0.0</td>\n",
              "      <td>0.0</td>\n",
              "      <td>1.0</td>\n",
              "      <td>0.0</td>\n",
              "      <td>0.0</td>\n",
              "      <td>3</td>\n",
              "      <td>0</td>\n",
              "    </tr>\n",
              "    <tr>\n",
              "      <th>2</th>\n",
              "      <td>0.0</td>\n",
              "      <td>0.0</td>\n",
              "      <td>1.0</td>\n",
              "      <td>0.0</td>\n",
              "      <td>0.0</td>\n",
              "      <td>0.0</td>\n",
              "      <td>0.0</td>\n",
              "      <td>0.0</td>\n",
              "      <td>0.0</td>\n",
              "      <td>0.0</td>\n",
              "      <td>0.0</td>\n",
              "      <td>3</td>\n",
              "      <td>0</td>\n",
              "    </tr>\n",
              "    <tr>\n",
              "      <th>3</th>\n",
              "      <td>0.0</td>\n",
              "      <td>0.0</td>\n",
              "      <td>0.0</td>\n",
              "      <td>0.0</td>\n",
              "      <td>1.0</td>\n",
              "      <td>0.0</td>\n",
              "      <td>0.0</td>\n",
              "      <td>0.0</td>\n",
              "      <td>0.0</td>\n",
              "      <td>0.0</td>\n",
              "      <td>0.0</td>\n",
              "      <td>3</td>\n",
              "      <td>0</td>\n",
              "    </tr>\n",
              "    <tr>\n",
              "      <th>4</th>\n",
              "      <td>1.0</td>\n",
              "      <td>0.0</td>\n",
              "      <td>0.0</td>\n",
              "      <td>0.0</td>\n",
              "      <td>0.0</td>\n",
              "      <td>0.0</td>\n",
              "      <td>0.0</td>\n",
              "      <td>0.0</td>\n",
              "      <td>0.0</td>\n",
              "      <td>0.0</td>\n",
              "      <td>0.0</td>\n",
              "      <td>3</td>\n",
              "      <td>0</td>\n",
              "    </tr>\n",
              "  </tbody>\n",
              "</table>\n",
              "</div>"
            ],
            "text/plain": [
              "     0    1    2    3    4    5    6    7    8    9   10  aa  YorN\n",
              "0  0.0  0.0  0.0  0.0  0.0  0.0  0.0  0.0  1.0  0.0  0.0   3     0\n",
              "1  0.0  0.0  0.0  0.0  0.0  0.0  0.0  0.0  1.0  0.0  0.0   3     0\n",
              "2  0.0  0.0  1.0  0.0  0.0  0.0  0.0  0.0  0.0  0.0  0.0   3     0\n",
              "3  0.0  0.0  0.0  0.0  1.0  0.0  0.0  0.0  0.0  0.0  0.0   3     0\n",
              "4  1.0  0.0  0.0  0.0  0.0  0.0  0.0  0.0  0.0  0.0  0.0   3     0"
            ]
          },
          "metadata": {
            "tags": []
          },
          "execution_count": 25
        }
      ]
    },
    {
      "cell_type": "code",
      "metadata": {
        "colab": {
          "base_uri": "https://localhost:8080/"
        },
        "id": "GTTUiGEXyyUO",
        "outputId": "10204426-66fc-42a5-ebf6-4409f7d045d7"
      },
      "source": [
        "aaFinal.shape[0]"
      ],
      "execution_count": 26,
      "outputs": [
        {
          "output_type": "execute_result",
          "data": {
            "text/plain": [
              "18963"
            ]
          },
          "metadata": {
            "tags": []
          },
          "execution_count": 26
        }
      ]
    },
    {
      "cell_type": "code",
      "metadata": {
        "id": "4S28sp561Ln2"
      },
      "source": [
        "X_test22 = X_test.tolist()"
      ],
      "execution_count": 27,
      "outputs": []
    },
    {
      "cell_type": "code",
      "metadata": {
        "id": "sDwLuTNA1M5l"
      },
      "source": [
        "con = 0\n",
        "for i in range(aaFinal.shape[0]-1):\n",
        "    if aaFinal['YorN'].values[i] == 0:\n",
        "        X_test22.remove(X_test22[i-con])\n",
        "        con += 1"
      ],
      "execution_count": 28,
      "outputs": []
    },
    {
      "cell_type": "code",
      "metadata": {
        "id": "wHT4czxy20j2"
      },
      "source": [
        "X_test22 = np.array(X_test22)"
      ],
      "execution_count": 29,
      "outputs": []
    },
    {
      "cell_type": "code",
      "metadata": {
        "colab": {
          "base_uri": "https://localhost:8080/"
        },
        "id": "CIgLTjfP28qE",
        "outputId": "4b99bb20-020d-41a6-a814-3d4cfab3e2c0"
      },
      "source": [
        "X_test22[0]"
      ],
      "execution_count": 30,
      "outputs": [
        {
          "output_type": "execute_result",
          "data": {
            "text/plain": [
              "array([ 24,  36,  40, ..., 181, 157, 154])"
            ]
          },
          "metadata": {
            "tags": []
          },
          "execution_count": 30
        }
      ]
    },
    {
      "cell_type": "code",
      "metadata": {
        "colab": {
          "base_uri": "https://localhost:8080/"
        },
        "id": "PuWQsXsu280f",
        "outputId": "e450040f-b120-4b39-8072-b10b8e217fa8"
      },
      "source": [
        "X_test[1]"
      ],
      "execution_count": 31,
      "outputs": [
        {
          "output_type": "execute_result",
          "data": {
            "text/plain": [
              "array([ 75,  85, 100, ...,  71,  82,  77])"
            ]
          },
          "metadata": {
            "tags": []
          },
          "execution_count": 31
        }
      ]
    },
    {
      "cell_type": "code",
      "metadata": {
        "id": "f0s8q2GV20wJ"
      },
      "source": [
        "X_test22 = X_test22.tolist()"
      ],
      "execution_count": 32,
      "outputs": []
    },
    {
      "cell_type": "code",
      "metadata": {
        "id": "rm7QuThusKDs"
      },
      "source": [
        "X_test23 = X_test22"
      ],
      "execution_count": 33,
      "outputs": []
    },
    {
      "cell_type": "code",
      "metadata": {
        "colab": {
          "base_uri": "https://localhost:8080/"
        },
        "id": "FNf4wOO5c68-",
        "outputId": "baec0b87-769a-49b4-a32a-39d0f155e624"
      },
      "source": [
        "len(X_test22)"
      ],
      "execution_count": 34,
      "outputs": [
        {
          "output_type": "execute_result",
          "data": {
            "text/plain": [
              "2198"
            ]
          },
          "metadata": {
            "tags": []
          },
          "execution_count": 34
        }
      ]
    },
    {
      "cell_type": "code",
      "metadata": {
        "id": "XUqBnaDfc-y8"
      },
      "source": [
        "div = int(round(len(X_test22) * .1, 0))"
      ],
      "execution_count": 35,
      "outputs": []
    },
    {
      "cell_type": "code",
      "metadata": {
        "colab": {
          "base_uri": "https://localhost:8080/"
        },
        "id": "xKhT3Sbqc_Bb",
        "outputId": "3a39a029-baba-4b27-b2ba-3dc1af28ffc5"
      },
      "source": [
        "div"
      ],
      "execution_count": 36,
      "outputs": [
        {
          "output_type": "execute_result",
          "data": {
            "text/plain": [
              "220"
            ]
          },
          "metadata": {
            "tags": []
          },
          "execution_count": 36
        }
      ]
    },
    {
      "cell_type": "code",
      "metadata": {
        "id": "ornXhQ7PdGOL"
      },
      "source": [
        "val = random.sample(X_test22, div)"
      ],
      "execution_count": 37,
      "outputs": []
    },
    {
      "cell_type": "code",
      "metadata": {
        "id": "FaP9h1gWdGhs"
      },
      "source": [
        "train1 = []\n",
        "\n",
        "for i in X_test22:\n",
        "    if i not in val:\n",
        "        train1.append(i)"
      ],
      "execution_count": 38,
      "outputs": []
    },
    {
      "cell_type": "code",
      "metadata": {
        "id": "YJa86TxMtd6W"
      },
      "source": [
        "val1 = []\n",
        "\n",
        "for i in X_test22:\n",
        "    if i in val:\n",
        "        val1.append(i)"
      ],
      "execution_count": 39,
      "outputs": []
    },
    {
      "cell_type": "code",
      "metadata": {
        "colab": {
          "base_uri": "https://localhost:8080/"
        },
        "id": "88UcYG7HdUkO",
        "outputId": "7bcf86c8-4608-4e62-a638-53bd9ec80438"
      },
      "source": [
        "len(train1)/len(val1)"
      ],
      "execution_count": 40,
      "outputs": [
        {
          "output_type": "execute_result",
          "data": {
            "text/plain": [
              "8.725663716814159"
            ]
          },
          "metadata": {
            "tags": []
          },
          "execution_count": 40
        }
      ]
    },
    {
      "cell_type": "code",
      "metadata": {
        "id": "MUCZXDorc7T-"
      },
      "source": [
        "y_test22 = y_test.tolist()"
      ],
      "execution_count": 41,
      "outputs": []
    },
    {
      "cell_type": "code",
      "metadata": {
        "id": "3hM_wtLBjXt4"
      },
      "source": [
        "y_train1 = []\n",
        "y_val1 = []\n",
        "\n",
        "for i in val1:\n",
        "    y_val1.append(y_test22[X_test23.index(i)])\n",
        "\n",
        "for i in train1:\n",
        "    y_train1.append(y_test22[X_test23.index(i)])"
      ],
      "execution_count": 42,
      "outputs": []
    },
    {
      "cell_type": "code",
      "metadata": {
        "colab": {
          "base_uri": "https://localhost:8080/"
        },
        "id": "ycTeper6jX8r",
        "outputId": "40f3dc26-ee07-4577-9513-fff677086218"
      },
      "source": [
        "len(y_train1)/len(y_val1)"
      ],
      "execution_count": 43,
      "outputs": [
        {
          "output_type": "execute_result",
          "data": {
            "text/plain": [
              "8.725663716814159"
            ]
          },
          "metadata": {
            "tags": []
          },
          "execution_count": 43
        }
      ]
    },
    {
      "cell_type": "code",
      "metadata": {
        "id": "R1SwbWDf6i50"
      },
      "source": [
        "train1 = pd.DataFrame(train1)\n",
        "val1 = pd.DataFrame(val1)\n",
        "y_train1 = pd.DataFrame(y_train1)\n",
        "y_val1 = pd.DataFrame(y_val1)"
      ],
      "execution_count": 44,
      "outputs": []
    },
    {
      "cell_type": "code",
      "metadata": {
        "id": "N_vwFeo_6jT9"
      },
      "source": [
        "train1.to_csv('train1.csv', index=False)\n",
        "val1.to_csv('val1.csv', index=False)\n",
        "y_train1.to_csv('y_train1.csv', index=False)\n",
        "y_val1.to_csv('y_val1.csv', index=False)"
      ],
      "execution_count": 45,
      "outputs": []
    },
    {
      "cell_type": "code",
      "metadata": {
        "id": "UGIQLQPj6jkX"
      },
      "source": [
        "X_test = X_train.tolist()\n",
        "y_test = y_train.tolist()\n",
        "\n",
        "test1 = pd.DataFrame(X_test)\n",
        "y_test1 = pd.DataFrame(y_test)"
      ],
      "execution_count": 46,
      "outputs": []
    },
    {
      "cell_type": "code",
      "metadata": {
        "id": "_yyEYBCI6j28"
      },
      "source": [
        "test1.to_csv('test1.csv', index=False)\n",
        "y_val1.to_csv('y_val1.csv', index=False)\n",
        "y_test1.to_csv('y_test1.csv', index=False)"
      ],
      "execution_count": 47,
      "outputs": []
    },
    {
      "cell_type": "code",
      "metadata": {
        "colab": {
          "base_uri": "https://localhost:8080/"
        },
        "id": "CeNGbHFA6K0u",
        "outputId": "aeeb7d2a-9a68-453d-c933-10ecaf7326ea"
      },
      "source": [
        "len(X_test)/len(y_test)\n",
        "#should be 1"
      ],
      "execution_count": 48,
      "outputs": [
        {
          "output_type": "execute_result",
          "data": {
            "text/plain": [
              "1.0"
            ]
          },
          "metadata": {
            "tags": []
          },
          "execution_count": 48
        }
      ]
    },
    {
      "cell_type": "code",
      "metadata": {
        "colab": {
          "base_uri": "https://localhost:8080/",
          "height": 130
        },
        "id": "84IfkfBd6K9f",
        "outputId": "d498e087-3a57-4c75-e6af-39ffb4a27755"
      },
      "source": [
        "this is an error"
      ],
      "execution_count": 49,
      "outputs": [
        {
          "output_type": "error",
          "ename": "SyntaxError",
          "evalue": "ignored",
          "traceback": [
            "\u001b[0;36m  File \u001b[0;32m\"<ipython-input-49-c11d0ec203f0>\"\u001b[0;36m, line \u001b[0;32m1\u001b[0m\n\u001b[0;31m    this is an error\u001b[0m\n\u001b[0m                   ^\u001b[0m\n\u001b[0;31mSyntaxError\u001b[0m\u001b[0;31m:\u001b[0m invalid syntax\n"
          ]
        }
      ]
    },
    {
      "cell_type": "code",
      "metadata": {
        "id": "iEZdFzYxjjG3"
      },
      "source": [
        ""
      ],
      "execution_count": null,
      "outputs": []
    },
    {
      "cell_type": "code",
      "metadata": {
        "id": "NchzMib2fUZD"
      },
      "source": [
        "X_train = np.array(train0)\n",
        "y_train = np.array(y_train0)\n",
        "X_valid = np.array(val0)\n",
        "y_valid = np.array(y_val0)\n",
        "X_test = np.array(X_train)\n",
        "y_test = np.array(y_train)\n",
        "\n",
        "X_train1 = X_train.reshape(X_train.shape[0], 48, 48, 1)\n",
        "X_valid1 = X_valid.reshape(X_valid.shape[0], 48, 48, 1)\n",
        "X_test1 = X_test.reshape(X_test.shape[0], 48, 48, 1)\n",
        "\n",
        "y_train1 = np_utils.to_categorical(y_train, num_classes = 11)\n",
        "y_valid1 = np_utils.to_categorical(y_valid, num_classes = 11)\n",
        "y_test1 = np_utils.to_categorical(y_test, num_classes = 11)"
      ],
      "execution_count": null,
      "outputs": []
    },
    {
      "cell_type": "code",
      "metadata": {
        "id": "nRKRmd2cfWaM"
      },
      "source": [
        "model = Sequential()\n",
        "model.add(ZeroPadding2D((1,1),input_shape=(48,48,1)))\n",
        "model.add(Convolution2D(64, (3, 3), activation=\"relu\"))\n",
        "model.add(ZeroPadding2D((1,1)))\n",
        "model.add(Convolution2D(64, (3, 3), activation=\"relu\"))\n",
        "model.add(MaxPooling2D((2,2), strides=(2,2)))\n",
        "\n",
        "model.add(ZeroPadding2D((1,1)))\n",
        "model.add(Convolution2D(128, (3, 3), activation=\"relu\"))\n",
        "model.add(ZeroPadding2D((1,1)))\n",
        "model.add(Convolution2D(128, (3, 3), activation=\"relu\"))\n",
        "model.add(MaxPooling2D((2,2), strides=(2,2)))\n",
        "\n",
        "model.add(ZeroPadding2D((1,1)))\n",
        "model.add(Convolution2D(256, (3, 3), activation=\"relu\"))\n",
        "model.add(ZeroPadding2D((1,1)))\n",
        "model.add(Convolution2D(256, (3, 3), activation=\"relu\"))\n",
        "model.add(ZeroPadding2D((1,1)))\n",
        "model.add(Convolution2D(256, (3, 3), activation=\"relu\"))\n",
        "model.add(MaxPooling2D((2,2), strides=(2,2)))\n",
        "\n",
        "model.add(ZeroPadding2D((1,1)))\n",
        "model.add(Convolution2D(512, (3, 3), activation=\"relu\"))\n",
        "model.add(ZeroPadding2D((1,1)))\n",
        "model.add(Convolution2D(512, (3, 3), activation=\"relu\"))\n",
        "model.add(ZeroPadding2D((1,1)))\n",
        "model.add(Convolution2D(512, (3, 3), activation=\"relu\"))\n",
        "model.add(MaxPooling2D((2,2), strides=(2,2)))\n",
        "\n",
        "model.add(ZeroPadding2D((1,1)))\n",
        "model.add(Convolution2D(512, (3, 3), activation=\"relu\"))\n",
        "model.add(ZeroPadding2D((1,1)))\n",
        "model.add(Convolution2D(512, (3, 3), activation=\"relu\"))\n",
        "model.add(ZeroPadding2D((1,1)))\n",
        "model.add(Convolution2D(512, (3, 3), activation=\"relu\"))\n",
        "model.add(MaxPooling2D((2,2), strides=(2,2)))\n",
        "\n",
        "model.add(Flatten())\n",
        "model.add(Dense(4096, activation='relu'))\n",
        "model.add(Dropout(0.5))\n",
        "model.add(Dense(4096, activation='relu'))\n",
        "model.add(Dropout(0.5))\n",
        "model.add(Dense(11, activation='softmax'))"
      ],
      "execution_count": null,
      "outputs": []
    },
    {
      "cell_type": "code",
      "metadata": {
        "id": "b4oezOo6fWpS"
      },
      "source": [
        "model.compile(optimizer= 'sgd', loss='categorical_crossentropy', metrics=['accuracy'])"
      ],
      "execution_count": null,
      "outputs": []
    },
    {
      "cell_type": "code",
      "metadata": {
        "id": "XUeuKlzugBOB"
      },
      "source": [
        "model.fit(X_train1, y_train1, batch_size=2, epochs=30, verbose=1, validation_data=(X_valid1, y_valid1))"
      ],
      "execution_count": null,
      "outputs": []
    },
    {
      "cell_type": "code",
      "metadata": {
        "id": "JAeII0HKgBWM"
      },
      "source": [
        "Y_test1 = np.argmax(y_test1, axis=1)\n",
        "y_pred1 = model.predict_classes(X_test1)\n",
        "target_names = ['1-2', '3-9', '10-20', '21-25', '26-27', '28-31', '32-36', '37-45', '46-54', '55-65', '66-116']\n",
        "print(classification_report(Y_test1, y_pred1, target_names = target_names))"
      ],
      "execution_count": null,
      "outputs": []
    },
    {
      "cell_type": "code",
      "metadata": {
        "id": "fYRQ5n-jgBfR"
      },
      "source": [
        "cm = confusion_matrix(y_test1.argmax(axis=1), y_pred1)\n",
        "print(cm)"
      ],
      "execution_count": null,
      "outputs": []
    },
    {
      "cell_type": "code",
      "metadata": {
        "id": "vBJxeXnogG-D"
      },
      "source": [
        "fig,ax= plt.subplots(figsize=(11,11))\n",
        "sns.heatmap(cm / (cm.astype(np.float).sum(axis=1, keepdims=True)), annot=True, fmt='.1%', cmap='Blues')\n",
        "#sns.heatmap(cm, annot=True, fmt='.0f',cmap='Blues')\n",
        "ax.set_xlabel('Predicted', size=20);\n",
        "ax.set_ylabel('True', size=20);\n",
        "ax.set_title('Confusion Matrix', size=20);\n",
        "ax.xaxis.set_ticklabels(target_names, size=10); \\\n",
        "ax.yaxis.set_ticklabels(target_names, size=10);"
      ],
      "execution_count": null,
      "outputs": []
    },
    {
      "cell_type": "code",
      "metadata": {
        "id": "K6wgAB7ugHJY"
      },
      "source": [
        ""
      ],
      "execution_count": null,
      "outputs": []
    },
    {
      "cell_type": "code",
      "metadata": {
        "id": "QePQzzeagBoR"
      },
      "source": [
        ""
      ],
      "execution_count": null,
      "outputs": []
    },
    {
      "cell_type": "code",
      "metadata": {
        "id": "YLCgCOTFy4ko"
      },
      "source": [
        "#con = 0\n",
        "#for i in range(aaFinal.shape[0]-1):\n",
        "#    if aaFinal['YorN'].values[i] == 0:\n",
        "#        X_test = np.delete(X_test, i-con)\n",
        "#        con += 1"
      ],
      "execution_count": null,
      "outputs": []
    },
    {
      "cell_type": "code",
      "metadata": {
        "id": "neXaewGBzDRo"
      },
      "source": [
        ""
      ],
      "execution_count": null,
      "outputs": []
    }
  ]
}